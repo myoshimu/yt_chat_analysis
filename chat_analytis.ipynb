{
 "cells": [
  {
   "cell_type": "markdown",
   "id": "5fea501e",
   "metadata": {},
   "source": [
    "# YouTube ライブコメント分析デモ\n",
    "このサンプルコードでは、以下の動画（2021年の東京ゲームショーで発表された『モンスターハンターライズ：サンブレイク』最新情報ライブ配信）の視聴者コメントを分析し、視聴者が何に興味・関心を持っていたか分析しています。\n",
    "https://www.youtube.com/watch?v=MCzITTAy8G8"
   ]
  },
  {
   "cell_type": "code",
   "execution_count": 5,
   "id": "1345ac10",
   "metadata": {
    "collapsed": true,
    "jupyter": {
     "outputs_hidden": true
    },
    "tags": []
   },
   "outputs": [
    {
     "name": "stdout",
     "output_type": "stream",
     "text": [
      "download url: https://cotonoha-dic.s3-ap-northeast-1.amazonaws.com/unidic-3.1.0.zip\n",
      "Dictionary version: 3.1.0+2021-08-31\n",
      "Downloading UniDic v3.1.0+2021-08-31...\n",
      "unidic-3.1.0.zip: 100%|██████████████████████| 526M/526M [00:25<00:00, 21.0MB/s]\n",
      "Finished download.\n",
      "Downloaded UniDic v3.1.0+2021-08-31 to /opt/conda/lib/python3.7/site-packages/unidic/dicdir\n",
      "Requirement already satisfied: japanize_matplotlib in /opt/conda/lib/python3.7/site-packages (1.1.3)\n",
      "Requirement already satisfied: matplotlib in /opt/conda/lib/python3.7/site-packages (from japanize_matplotlib) (3.5.0)\n",
      "Requirement already satisfied: python-dateutil>=2.7 in /opt/conda/lib/python3.7/site-packages (from matplotlib->japanize_matplotlib) (2.8.2)\n",
      "Requirement already satisfied: kiwisolver>=1.0.1 in /opt/conda/lib/python3.7/site-packages (from matplotlib->japanize_matplotlib) (1.3.2)\n",
      "Requirement already satisfied: pillow>=6.2.0 in /opt/conda/lib/python3.7/site-packages (from matplotlib->japanize_matplotlib) (8.4.0)\n",
      "Requirement already satisfied: fonttools>=4.22.0 in /opt/conda/lib/python3.7/site-packages (from matplotlib->japanize_matplotlib) (4.28.2)\n",
      "Requirement already satisfied: numpy>=1.17 in /opt/conda/lib/python3.7/site-packages (from matplotlib->japanize_matplotlib) (1.19.5)\n",
      "Requirement already satisfied: packaging>=20.0 in /opt/conda/lib/python3.7/site-packages (from matplotlib->japanize_matplotlib) (21.3)\n",
      "Requirement already satisfied: pyparsing>=2.2.1 in /opt/conda/lib/python3.7/site-packages (from matplotlib->japanize_matplotlib) (3.0.6)\n",
      "Requirement already satisfied: cycler>=0.10 in /opt/conda/lib/python3.7/site-packages (from matplotlib->japanize_matplotlib) (0.11.0)\n",
      "Requirement already satisfied: six>=1.5 in /opt/conda/lib/python3.7/site-packages (from python-dateutil>=2.7->matplotlib->japanize_matplotlib) (1.16.0)\n",
      "E: Could not open lock file /var/lib/dpkg/lock-frontend - open (13: Permission denied)\n",
      "E: Unable to acquire the dpkg frontend lock (/var/lib/dpkg/lock-frontend), are you root?\n",
      "\n",
      "Usage:   \n",
      "  pip install [options] <requirement specifier> [package-index-options] ...\n",
      "  pip install [options] -r <requirements file> [package-index-options] ...\n",
      "  pip install [options] [-e] <vcs project url> ...\n",
      "  pip install [options] [-e] <local project path> ...\n",
      "  pip install [options] <archive url/path> ...\n",
      "\n",
      "no such option: -u\n"
     ]
    }
   ],
   "source": [
    "!pip install -q mecab-python3\n",
    "!pip install -q unidic\n",
    "!python -m unidic download\n",
    "!pip install japanize_matplotlib\n",
    "!apt-get -y install fonts-ipafont-gothic > /dev/null\n",
    "!pip install nlplot\n",
    "!pip install altair"
   ]
  },
  {
   "cell_type": "code",
   "execution_count": 16,
   "id": "2b45dc05",
   "metadata": {},
   "outputs": [],
   "source": [
    "import pandas as pd\n",
    "import altair as alt\n",
    "import nlplot\n",
    "import matplotlib.pyplot as plt\n",
    "import MeCab\n",
    "import datetime as dt\n",
    "import re"
   ]
  },
  {
   "cell_type": "code",
   "execution_count": 28,
   "id": "389ca9c1",
   "metadata": {},
   "outputs": [],
   "source": [
    "df=pd.read_csv(\"MCzITTAy8G8.csv\",names=[\"dt\",\"name\",\"comment\",\"sentiment\",\"magnitude\"])\n",
    "df['dt']=pd.to_datetime(df['dt'])\n",
    "df['comment']=df['comment'].astype(str)\n",
    "df['sentiment'] = pd.to_numeric(df['sentiment'], errors='coerce')\n",
    "df['magnitude'] = pd.to_numeric(df['magnitude'], errors='coerce')"
   ]
  },
  {
   "cell_type": "code",
   "execution_count": 29,
   "id": "95bca314",
   "metadata": {},
   "outputs": [
    {
     "data": {
      "text/html": [
       "<div>\n",
       "<style scoped>\n",
       "    .dataframe tbody tr th:only-of-type {\n",
       "        vertical-align: middle;\n",
       "    }\n",
       "\n",
       "    .dataframe tbody tr th {\n",
       "        vertical-align: top;\n",
       "    }\n",
       "\n",
       "    .dataframe thead th {\n",
       "        text-align: right;\n",
       "    }\n",
       "</style>\n",
       "<table border=\"1\" class=\"dataframe\">\n",
       "  <thead>\n",
       "    <tr style=\"text-align: right;\">\n",
       "      <th></th>\n",
       "      <th>dt</th>\n",
       "      <th>name</th>\n",
       "      <th>comment</th>\n",
       "      <th>sentiment</th>\n",
       "      <th>magnitude</th>\n",
       "      <th>words</th>\n",
       "    </tr>\n",
       "  </thead>\n",
       "  <tbody>\n",
       "    <tr>\n",
       "      <th>0</th>\n",
       "      <td>2021-09-30 12:52:17</td>\n",
       "      <td>499人いったら声出す</td>\n",
       "      <td>CAPCOM頼むドスランポスはよ！</td>\n",
       "      <td>0.0</td>\n",
       "      <td>0.0</td>\n",
       "      <td>[CAPCOM, ドス, ランポス]</td>\n",
       "    </tr>\n",
       "    <tr>\n",
       "      <th>1</th>\n",
       "      <td>2021-09-30 12:52:18</td>\n",
       "      <td>ライダー</td>\n",
       "      <td>エスピナスください</td>\n",
       "      <td>-0.2</td>\n",
       "      <td>0.2</td>\n",
       "      <td>[エスピナス]</td>\n",
       "    </tr>\n",
       "    <tr>\n",
       "      <th>2</th>\n",
       "      <td>2021-09-30 12:52:19</td>\n",
       "      <td>kikui kikui</td>\n",
       "      <td>全ドスモンスター解禁</td>\n",
       "      <td>0.0</td>\n",
       "      <td>0.0</td>\n",
       "      <td>[ドス, モンスター, 解禁]</td>\n",
       "    </tr>\n",
       "    <tr>\n",
       "      <th>3</th>\n",
       "      <td>2021-09-30 12:52:19</td>\n",
       "      <td>浅葱部長</td>\n",
       "      <td>美味しそうなモンスター…</td>\n",
       "      <td>0.7</td>\n",
       "      <td>0.7</td>\n",
       "      <td>[美味し, モンスター]</td>\n",
       "    </tr>\n",
       "    <tr>\n",
       "      <th>4</th>\n",
       "      <td>2021-09-30 12:52:20</td>\n",
       "      <td>点P2</td>\n",
       "      <td>ホロロホルル</td>\n",
       "      <td>0.3</td>\n",
       "      <td>0.3</td>\n",
       "      <td>[ホロロホルル]</td>\n",
       "    </tr>\n",
       "  </tbody>\n",
       "</table>\n",
       "</div>"
      ],
      "text/plain": [
       "                   dt         name            comment  sentiment  magnitude  \\\n",
       "0 2021-09-30 12:52:17  499人いったら声出す  CAPCOM頼むドスランポスはよ！        0.0        0.0   \n",
       "1 2021-09-30 12:52:18         ライダー          エスピナスください       -0.2        0.2   \n",
       "2 2021-09-30 12:52:19  kikui kikui         全ドスモンスター解禁        0.0        0.0   \n",
       "3 2021-09-30 12:52:19         浅葱部長       美味しそうなモンスター…        0.7        0.7   \n",
       "4 2021-09-30 12:52:20          点P2             ホロロホルル        0.3        0.3   \n",
       "\n",
       "                words  \n",
       "0  [CAPCOM, ドス, ランポス]  \n",
       "1             [エスピナス]  \n",
       "2     [ドス, モンスター, 解禁]  \n",
       "3        [美味し, モンスター]  \n",
       "4            [ホロロホルル]  "
      ]
     },
     "execution_count": 29,
     "metadata": {},
     "output_type": "execute_result"
    }
   ],
   "source": [
    "def mecab_text(text):\n",
    "    mecab = MeCab.Tagger()\n",
    "    node = mecab.parseToNode(text)\n",
    "    wordlist = []\n",
    "    \n",
    "    while node:\n",
    "        if node.feature.split(',')[0] == '名詞':\n",
    "            wordlist.append(node.surface)\n",
    "        elif node.feature.split(',')[0] == '形容詞':\n",
    "            wordlist.append(node.surface)\n",
    "        node = node.next\n",
    "    return wordlist\n",
    "\n",
    "df['words'] = df['comment'].apply(mecab_text)\n",
    "df.head()"
   ]
  },
  {
   "cell_type": "code",
   "execution_count": 30,
   "id": "c535196b",
   "metadata": {},
   "outputs": [],
   "source": [
    "df_time=df.iloc[:,[0,3,4]].groupby(pd.Grouper(key='dt', freq='1min')).mean().reset_index()\n",
    "df_cnt = df.iloc[:,[0,2]].groupby(pd.Grouper(key='dt', freq='1min')).count().reset_index()"
   ]
  },
  {
   "cell_type": "code",
   "execution_count": 32,
   "id": "71342276",
   "metadata": {},
   "outputs": [
    {
     "data": {
      "text/html": [
       "\n",
       "<div id=\"altair-viz-ae29b8a3f0bc4b4faaf271211dfda5f2\"></div>\n",
       "<script type=\"text/javascript\">\n",
       "  (function(spec, embedOpt){\n",
       "    let outputDiv = document.currentScript.previousElementSibling;\n",
       "    if (outputDiv.id !== \"altair-viz-ae29b8a3f0bc4b4faaf271211dfda5f2\") {\n",
       "      outputDiv = document.getElementById(\"altair-viz-ae29b8a3f0bc4b4faaf271211dfda5f2\");\n",
       "    }\n",
       "    const paths = {\n",
       "      \"vega\": \"https://cdn.jsdelivr.net/npm//vega@5?noext\",\n",
       "      \"vega-lib\": \"https://cdn.jsdelivr.net/npm//vega-lib?noext\",\n",
       "      \"vega-lite\": \"https://cdn.jsdelivr.net/npm//vega-lite@4.8.1?noext\",\n",
       "      \"vega-embed\": \"https://cdn.jsdelivr.net/npm//vega-embed@6?noext\",\n",
       "    };\n",
       "\n",
       "    function loadScript(lib) {\n",
       "      return new Promise(function(resolve, reject) {\n",
       "        var s = document.createElement('script');\n",
       "        s.src = paths[lib];\n",
       "        s.async = true;\n",
       "        s.onload = () => resolve(paths[lib]);\n",
       "        s.onerror = () => reject(`Error loading script: ${paths[lib]}`);\n",
       "        document.getElementsByTagName(\"head\")[0].appendChild(s);\n",
       "      });\n",
       "    }\n",
       "\n",
       "    function showError(err) {\n",
       "      outputDiv.innerHTML = `<div class=\"error\" style=\"color:red;\">${err}</div>`;\n",
       "      throw err;\n",
       "    }\n",
       "\n",
       "    function displayChart(vegaEmbed) {\n",
       "      vegaEmbed(outputDiv, spec, embedOpt)\n",
       "        .catch(err => showError(`Javascript Error: ${err.message}<br>This usually means there's a typo in your chart specification. See the javascript console for the full traceback.`));\n",
       "    }\n",
       "\n",
       "    if(typeof define === \"function\" && define.amd) {\n",
       "      requirejs.config({paths});\n",
       "      require([\"vega-embed\"], displayChart, err => showError(`Error loading script: ${err.message}`));\n",
       "    } else if (typeof vegaEmbed === \"function\") {\n",
       "      displayChart(vegaEmbed);\n",
       "    } else {\n",
       "      loadScript(\"vega\")\n",
       "        .then(() => loadScript(\"vega-lite\"))\n",
       "        .then(() => loadScript(\"vega-embed\"))\n",
       "        .catch(showError)\n",
       "        .then(() => displayChart(vegaEmbed));\n",
       "    }\n",
       "  })({\"config\": {\"view\": {\"continuousWidth\": 400, \"continuousHeight\": 300}}, \"vconcat\": [{\"data\": {\"name\": \"data-14fb15a258aaedd155b83d8078c65a9b\"}, \"mark\": \"line\", \"encoding\": {\"x\": {\"type\": \"temporal\", \"field\": \"dt\"}, \"y\": {\"type\": \"quantitative\", \"field\": \"comment\"}}, \"height\": 100, \"width\": 600}, {\"data\": {\"name\": \"data-8e578b11c1d66c07aa05835556677a65\"}, \"mark\": \"bar\", \"encoding\": {\"color\": {\"condition\": {\"value\": \"steelblue\", \"test\": \"(datum.nonfarm_change > 0)\"}, \"value\": \"orange\"}, \"x\": {\"type\": \"temporal\", \"field\": \"dt\"}, \"y\": {\"type\": \"quantitative\", \"field\": \"sentiment\"}}, \"height\": 100, \"width\": 600}, {\"data\": {\"name\": \"data-8e578b11c1d66c07aa05835556677a65\"}, \"mark\": \"line\", \"encoding\": {\"x\": {\"type\": \"temporal\", \"field\": \"dt\"}, \"y\": {\"type\": \"quantitative\", \"field\": \"magnitude\"}}, \"height\": 100, \"width\": 600}], \"data\": {\"name\": \"data-8e578b11c1d66c07aa05835556677a65\"}, \"$schema\": \"https://vega.github.io/schema/vega-lite/v4.8.1.json\", \"datasets\": {\"data-8e578b11c1d66c07aa05835556677a65\": [{\"dt\": \"2021-09-30T12:52:00\", \"sentiment\": 0.20921052631578949, \"magnitude\": 0.3171052631578948}, {\"dt\": \"2021-09-30T12:53:00\", \"sentiment\": 0.2236842105263158, \"magnitude\": 0.3542105263157895}, {\"dt\": \"2021-09-30T12:54:00\", \"sentiment\": 0.20508474576271185, \"magnitude\": 0.35423728813559324}, {\"dt\": \"2021-09-30T12:55:00\", \"sentiment\": 0.1679611650485437, \"magnitude\": 0.3359223300970874}, {\"dt\": \"2021-09-30T12:56:00\", \"sentiment\": 0.18603603603603602, \"magnitude\": 0.44099099099099104}, {\"dt\": \"2021-09-30T12:57:00\", \"sentiment\": 0.21040723981900453, \"magnitude\": 0.3429864253393665}, {\"dt\": \"2021-09-30T12:58:00\", \"sentiment\": 0.13245283018867926, \"magnitude\": 0.32339622641509436}, {\"dt\": \"2021-09-30T12:59:00\", \"sentiment\": 0.18141263940520444, \"magnitude\": 0.366914498141264}, {\"dt\": \"2021-09-30T13:00:00\", \"sentiment\": 0.2567441860465116, \"magnitude\": 0.3455813953488372}, {\"dt\": \"2021-09-30T13:01:00\", \"sentiment\": 0.2553921568627451, \"magnitude\": 0.33676470588235297}, {\"dt\": \"2021-09-30T13:02:00\", \"sentiment\": 0.14098360655737704, \"magnitude\": 0.2741803278688525}, {\"dt\": \"2021-09-30T13:03:00\", \"sentiment\": 0.14641350210970466, \"magnitude\": 0.31645569620253167}, {\"dt\": \"2021-09-30T13:04:00\", \"sentiment\": -0.03640776699029126, \"magnitude\": 0.2975728155339806}, {\"dt\": \"2021-09-30T13:05:00\", \"sentiment\": 0.0235, \"magnitude\": 0.2615}, {\"dt\": \"2021-09-30T13:06:00\", \"sentiment\": -0.06808510638297872, \"magnitude\": 0.26305609284332687}, {\"dt\": \"2021-09-30T13:07:00\", \"sentiment\": -0.03980099502487562, \"magnitude\": 0.2781094527363184}, {\"dt\": \"2021-09-30T13:08:00\", \"sentiment\": 0.025941422594142262, \"magnitude\": 0.32426778242677823}, {\"dt\": \"2021-09-30T13:09:00\", \"sentiment\": -0.04567901234567901, \"magnitude\": 0.32551440329218106}, {\"dt\": \"2021-09-30T13:10:00\", \"sentiment\": 0.085781990521327, \"magnitude\": 0.2729857819905213}, {\"dt\": \"2021-09-30T13:11:00\", \"sentiment\": 0.012444444444444445, \"magnitude\": 0.35555555555555557}, {\"dt\": \"2021-09-30T13:12:00\", \"sentiment\": 0.11764705882352941, \"magnitude\": 0.3392156862745098}, {\"dt\": \"2021-09-30T13:13:00\", \"sentiment\": -0.01111111111111111, \"magnitude\": 0.34285714285714286}, {\"dt\": \"2021-09-30T13:14:00\", \"sentiment\": 0.006956521739130432, \"magnitude\": 0.39043478260869563}, {\"dt\": \"2021-09-30T13:15:00\", \"sentiment\": 0.10976744186046512, \"magnitude\": 0.3427906976744186}, {\"dt\": \"2021-09-30T13:16:00\", \"sentiment\": 0.1090909090909091, \"magnitude\": 0.32620320855614976}, {\"dt\": \"2021-09-30T13:17:00\", \"sentiment\": 0.14463519313304724, \"magnitude\": 0.39570815450643776}, {\"dt\": \"2021-09-30T13:18:00\", \"sentiment\": 0.20707070707070707, \"magnitude\": 0.3525252525252525}, {\"dt\": \"2021-09-30T13:19:00\", \"sentiment\": 0.29429824561403506, \"magnitude\": 0.37543859649122807}, {\"dt\": \"2021-09-30T13:20:00\", \"sentiment\": 0.3526570048309179, \"magnitude\": 0.4483091787439613}, {\"dt\": \"2021-09-30T13:21:00\", \"sentiment\": 0.31957446808510637, \"magnitude\": 0.4353191489361702}, {\"dt\": \"2021-09-30T13:22:00\", \"sentiment\": 0.2947136563876652, \"magnitude\": 0.40220264317180615}, {\"dt\": \"2021-09-30T13:23:00\", \"sentiment\": 0.2773148148148148, \"magnitude\": 0.3916666666666667}, {\"dt\": \"2021-09-30T13:24:00\", \"sentiment\": 0.2133640552995392, \"magnitude\": 0.38571428571428573}, {\"dt\": \"2021-09-30T13:25:00\", \"sentiment\": 0.10325581395348837, \"magnitude\": 0.32139534883720927}, {\"dt\": \"2021-09-30T13:26:00\", \"sentiment\": 0.12638297872340426, \"magnitude\": 0.33148936170212767}, {\"dt\": \"2021-09-30T13:27:00\", \"sentiment\": 0.19278846153846155, \"magnitude\": 0.3403846153846154}, {\"dt\": \"2021-09-30T13:28:00\", \"sentiment\": 0.1469387755102041, \"magnitude\": 0.37714285714285717}, {\"dt\": \"2021-09-30T13:29:00\", \"sentiment\": 0.10375, \"magnitude\": 0.23875}, {\"dt\": \"2021-09-30T13:30:00\", \"sentiment\": 0.12066115702479338, \"magnitude\": 0.28140495867768595}, {\"dt\": \"2021-09-30T13:31:00\", \"sentiment\": 0.17404255319148937, \"magnitude\": 0.28042553191489367}, {\"dt\": \"2021-09-30T13:32:00\", \"sentiment\": 0.18076923076923077, \"magnitude\": 0.2951923076923077}, {\"dt\": \"2021-09-30T13:33:00\", \"sentiment\": 0.021354166666666664, \"magnitude\": 0.3260416666666667}, {\"dt\": \"2021-09-30T13:34:00\", \"sentiment\": 0.08507936507936509, \"magnitude\": 0.34698412698412695}, {\"dt\": \"2021-09-30T13:35:00\", \"sentiment\": -0.0038369304556354926, \"magnitude\": 0.3513189448441247}, {\"dt\": \"2021-09-30T13:36:00\", \"sentiment\": 0.027234042553191486, \"magnitude\": 0.368936170212766}, {\"dt\": \"2021-09-30T13:37:00\", \"sentiment\": -0.07312252964426877, \"magnitude\": 0.3932806324110672}, {\"dt\": \"2021-09-30T13:38:00\", \"sentiment\": -0.025217391304347827, \"magnitude\": 0.3421739130434783}, {\"dt\": \"2021-09-30T13:39:00\", \"sentiment\": -0.06291666666666666, \"magnitude\": 0.35208333333333336}, {\"dt\": \"2021-09-30T13:40:00\", \"sentiment\": -0.05350877192982457, \"magnitude\": 0.3548245614035088}, {\"dt\": \"2021-09-30T13:41:00\", \"sentiment\": -0.04, \"magnitude\": 0.381025641025641}, {\"dt\": \"2021-09-30T13:42:00\", \"sentiment\": -0.10155642023346304, \"magnitude\": 0.5217898832684824}, {\"dt\": \"2021-09-30T13:43:00\", \"sentiment\": -0.05610687022900763, \"magnitude\": 0.4690839694656489}, {\"dt\": \"2021-09-30T13:44:00\", \"sentiment\": -0.028782287822878228, \"magnitude\": 0.3501845018450185}, {\"dt\": \"2021-09-30T13:45:00\", \"sentiment\": -0.0215547703180212, \"magnitude\": 0.35830388692579507}, {\"dt\": \"2021-09-30T13:46:00\", \"sentiment\": 0.016666666666666666, \"magnitude\": 0.3440740740740741}, {\"dt\": \"2021-09-30T13:47:00\", \"sentiment\": -0.04261603375527426, \"magnitude\": 0.3670886075949367}, {\"dt\": \"2021-09-30T13:48:00\", \"sentiment\": 0.009774436090225562, \"magnitude\": 0.3075187969924812}, {\"dt\": \"2021-09-30T13:49:00\", \"sentiment\": -0.01721311475409836, \"magnitude\": 0.36065573770491804}, {\"dt\": \"2021-09-30T13:50:00\", \"sentiment\": 0.03870967741935484, \"magnitude\": 0.32016129032258067}, {\"dt\": \"2021-09-30T13:51:00\", \"sentiment\": 0.11351351351351352, \"magnitude\": 0.31837837837837835}], \"data-14fb15a258aaedd155b83d8078c65a9b\": [{\"dt\": \"2021-09-30T12:52:00\", \"comment\": 76}, {\"dt\": \"2021-09-30T12:53:00\", \"comment\": 190}, {\"dt\": \"2021-09-30T12:54:00\", \"comment\": 177}, {\"dt\": \"2021-09-30T12:55:00\", \"comment\": 206}, {\"dt\": \"2021-09-30T12:56:00\", \"comment\": 222}, {\"dt\": \"2021-09-30T12:57:00\", \"comment\": 221}, {\"dt\": \"2021-09-30T12:58:00\", \"comment\": 265}, {\"dt\": \"2021-09-30T12:59:00\", \"comment\": 269}, {\"dt\": \"2021-09-30T13:00:00\", \"comment\": 215}, {\"dt\": \"2021-09-30T13:01:00\", \"comment\": 204}, {\"dt\": \"2021-09-30T13:02:00\", \"comment\": 244}, {\"dt\": \"2021-09-30T13:03:00\", \"comment\": 237}, {\"dt\": \"2021-09-30T13:04:00\", \"comment\": 206}, {\"dt\": \"2021-09-30T13:05:00\", \"comment\": 200}, {\"dt\": \"2021-09-30T13:06:00\", \"comment\": 517}, {\"dt\": \"2021-09-30T13:07:00\", \"comment\": 201}, {\"dt\": \"2021-09-30T13:08:00\", \"comment\": 239}, {\"dt\": \"2021-09-30T13:09:00\", \"comment\": 243}, {\"dt\": \"2021-09-30T13:10:00\", \"comment\": 211}, {\"dt\": \"2021-09-30T13:11:00\", \"comment\": 225}, {\"dt\": \"2021-09-30T13:12:00\", \"comment\": 204}, {\"dt\": \"2021-09-30T13:13:00\", \"comment\": 252}, {\"dt\": \"2021-09-30T13:14:00\", \"comment\": 230}, {\"dt\": \"2021-09-30T13:15:00\", \"comment\": 215}, {\"dt\": \"2021-09-30T13:16:00\", \"comment\": 187}, {\"dt\": \"2021-09-30T13:17:00\", \"comment\": 233}, {\"dt\": \"2021-09-30T13:18:00\", \"comment\": 198}, {\"dt\": \"2021-09-30T13:19:00\", \"comment\": 228}, {\"dt\": \"2021-09-30T13:20:00\", \"comment\": 207}, {\"dt\": \"2021-09-30T13:21:00\", \"comment\": 235}, {\"dt\": \"2021-09-30T13:22:00\", \"comment\": 227}, {\"dt\": \"2021-09-30T13:23:00\", \"comment\": 216}, {\"dt\": \"2021-09-30T13:24:00\", \"comment\": 217}, {\"dt\": \"2021-09-30T13:25:00\", \"comment\": 215}, {\"dt\": \"2021-09-30T13:26:00\", \"comment\": 235}, {\"dt\": \"2021-09-30T13:27:00\", \"comment\": 208}, {\"dt\": \"2021-09-30T13:28:00\", \"comment\": 245}, {\"dt\": \"2021-09-30T13:29:00\", \"comment\": 240}, {\"dt\": \"2021-09-30T13:30:00\", \"comment\": 242}, {\"dt\": \"2021-09-30T13:31:00\", \"comment\": 235}, {\"dt\": \"2021-09-30T13:32:00\", \"comment\": 208}, {\"dt\": \"2021-09-30T13:33:00\", \"comment\": 192}, {\"dt\": \"2021-09-30T13:34:00\", \"comment\": 315}, {\"dt\": \"2021-09-30T13:35:00\", \"comment\": 417}, {\"dt\": \"2021-09-30T13:36:00\", \"comment\": 235}, {\"dt\": \"2021-09-30T13:37:00\", \"comment\": 253}, {\"dt\": \"2021-09-30T13:38:00\", \"comment\": 230}, {\"dt\": \"2021-09-30T13:39:00\", \"comment\": 240}, {\"dt\": \"2021-09-30T13:40:00\", \"comment\": 228}, {\"dt\": \"2021-09-30T13:41:00\", \"comment\": 195}, {\"dt\": \"2021-09-30T13:42:00\", \"comment\": 257}, {\"dt\": \"2021-09-30T13:43:00\", \"comment\": 262}, {\"dt\": \"2021-09-30T13:44:00\", \"comment\": 271}, {\"dt\": \"2021-09-30T13:45:00\", \"comment\": 283}, {\"dt\": \"2021-09-30T13:46:00\", \"comment\": 270}, {\"dt\": \"2021-09-30T13:47:00\", \"comment\": 237}, {\"dt\": \"2021-09-30T13:48:00\", \"comment\": 266}, {\"dt\": \"2021-09-30T13:49:00\", \"comment\": 244}, {\"dt\": \"2021-09-30T13:50:00\", \"comment\": 248}, {\"dt\": \"2021-09-30T13:51:00\", \"comment\": 185}]}}, {\"mode\": \"vega-lite\"});\n",
       "</script>"
      ],
      "text/plain": [
       "alt.VConcatChart(...)"
      ]
     },
     "execution_count": 32,
     "metadata": {},
     "output_type": "execute_result"
    }
   ],
   "source": [
    "c = alt.Chart(df_cnt).mark_line().encode(\n",
    "    x='dt',\n",
    "    y='comment',\n",
    ").properties(height=100,width=600)\n",
    "s = alt.Chart(df_time).mark_bar().encode(\n",
    "    x=\"dt:T\",\n",
    "    y=\"sentiment:Q\",\n",
    "    color=alt.condition(\n",
    "        alt.datum.nonfarm_change > 0,\n",
    "        alt.value(\"steelblue\"),  # The positive color\n",
    "        alt.value(\"orange\")  # The negative color\n",
    "    )\n",
    ").properties(height=100,width=600)\n",
    "m = alt.Chart(df_time).mark_line().encode(\n",
    "    x='dt',\n",
    "    y='magnitude'\n",
    ").properties(height=100,width=600)\n",
    "alt.vconcat(c,s,m, data=df_time)"
   ]
  },
  {
   "cell_type": "markdown",
   "id": "90126707",
   "metadata": {},
   "source": [
    "13:06 アップデートイベント（魔界村コラボ）の発表\n",
    "13:20 琵琶法師ライブ前後\n",
    "13:35 PC版の発表"
   ]
  },
  {
   "cell_type": "code",
   "execution_count": 33,
   "id": "b746b651",
   "metadata": {},
   "outputs": [],
   "source": [
    "dfc = df['comment'].to_frame()\n",
    "list = dfc['comment'].tolist()"
   ]
  },
  {
   "cell_type": "code",
   "execution_count": 35,
   "id": "58aacc58",
   "metadata": {},
   "outputs": [
    {
     "data": {
      "text/html": [
       "<div>\n",
       "<style scoped>\n",
       "    .dataframe tbody tr th:only-of-type {\n",
       "        vertical-align: middle;\n",
       "    }\n",
       "\n",
       "    .dataframe tbody tr th {\n",
       "        vertical-align: top;\n",
       "    }\n",
       "\n",
       "    .dataframe thead th {\n",
       "        text-align: right;\n",
       "    }\n",
       "</style>\n",
       "<table border=\"1\" class=\"dataframe\">\n",
       "  <thead>\n",
       "    <tr style=\"text-align: right;\">\n",
       "      <th></th>\n",
       "      <th>dt</th>\n",
       "      <th>name</th>\n",
       "      <th>comment</th>\n",
       "      <th>sentiment</th>\n",
       "      <th>magnitude</th>\n",
       "      <th>words</th>\n",
       "    </tr>\n",
       "  </thead>\n",
       "  <tbody>\n",
       "    <tr>\n",
       "      <th>0</th>\n",
       "      <td>2021-09-30 12:52:17</td>\n",
       "      <td>499人いったら声出す</td>\n",
       "      <td>CAPCOM頼むドスランポスはよ！</td>\n",
       "      <td>0.0</td>\n",
       "      <td>0.0</td>\n",
       "      <td>[CAPCOM, ドス, ランポス]</td>\n",
       "    </tr>\n",
       "    <tr>\n",
       "      <th>1</th>\n",
       "      <td>2021-09-30 12:52:18</td>\n",
       "      <td>ライダー</td>\n",
       "      <td>エスピナスください</td>\n",
       "      <td>-0.2</td>\n",
       "      <td>0.2</td>\n",
       "      <td>[エスピナス]</td>\n",
       "    </tr>\n",
       "    <tr>\n",
       "      <th>2</th>\n",
       "      <td>2021-09-30 12:52:19</td>\n",
       "      <td>kikui kikui</td>\n",
       "      <td>全ドスモンスター解禁</td>\n",
       "      <td>0.0</td>\n",
       "      <td>0.0</td>\n",
       "      <td>[ドス, モンスター, 解禁]</td>\n",
       "    </tr>\n",
       "    <tr>\n",
       "      <th>3</th>\n",
       "      <td>2021-09-30 12:52:19</td>\n",
       "      <td>浅葱部長</td>\n",
       "      <td>美味しそうなモンスター…</td>\n",
       "      <td>0.7</td>\n",
       "      <td>0.7</td>\n",
       "      <td>[美味し, モンスター]</td>\n",
       "    </tr>\n",
       "    <tr>\n",
       "      <th>4</th>\n",
       "      <td>2021-09-30 12:52:20</td>\n",
       "      <td>点P2</td>\n",
       "      <td>ホロロホルル</td>\n",
       "      <td>0.3</td>\n",
       "      <td>0.3</td>\n",
       "      <td>[ホロロホルル]</td>\n",
       "    </tr>\n",
       "    <tr>\n",
       "      <th>...</th>\n",
       "      <td>...</td>\n",
       "      <td>...</td>\n",
       "      <td>...</td>\n",
       "      <td>...</td>\n",
       "      <td>...</td>\n",
       "      <td>...</td>\n",
       "    </tr>\n",
       "    <tr>\n",
       "      <th>14070</th>\n",
       "      <td>2021-09-30 13:51:46</td>\n",
       "      <td>カルナVAL</td>\n",
       "      <td>ごみー</td>\n",
       "      <td>0.3</td>\n",
       "      <td>0.3</td>\n",
       "      <td>[ごみ]</td>\n",
       "    </tr>\n",
       "    <tr>\n",
       "      <th>14071</th>\n",
       "      <td>2021-09-30 13:51:46</td>\n",
       "      <td>腹筋筋肉</td>\n",
       "      <td>乙</td>\n",
       "      <td>0.3</td>\n",
       "      <td>0.3</td>\n",
       "      <td>[乙]</td>\n",
       "    </tr>\n",
       "    <tr>\n",
       "      <th>14072</th>\n",
       "      <td>2021-09-30 13:51:47</td>\n",
       "      <td>ピカソピッケル</td>\n",
       "      <td>ネジキネジキネジキネジキネジキネジキネジキネジキネジキネジキネジキネジキネジキネジキネジキネ...</td>\n",
       "      <td>0.3</td>\n",
       "      <td>0.3</td>\n",
       "      <td>[ネジ, キネ, ジキ, ネジ, キネ, ジキ, ネジ, キネ, ジキ, ネジ, キネ, ジ...</td>\n",
       "    </tr>\n",
       "    <tr>\n",
       "      <th>14073</th>\n",
       "      <td>NaT</td>\n",
       "      <td>NaN</td>\n",
       "      <td>nan</td>\n",
       "      <td>0.0</td>\n",
       "      <td>0.0</td>\n",
       "      <td>[nan]</td>\n",
       "    </tr>\n",
       "    <tr>\n",
       "      <th>14074</th>\n",
       "      <td>NaT</td>\n",
       "      <td>NaN</td>\n",
       "      <td>nan</td>\n",
       "      <td>0.0</td>\n",
       "      <td>0.0</td>\n",
       "      <td>[nan]</td>\n",
       "    </tr>\n",
       "  </tbody>\n",
       "</table>\n",
       "<p>14075 rows × 6 columns</p>\n",
       "</div>"
      ],
      "text/plain": [
       "                       dt         name  \\\n",
       "0     2021-09-30 12:52:17  499人いったら声出す   \n",
       "1     2021-09-30 12:52:18         ライダー   \n",
       "2     2021-09-30 12:52:19  kikui kikui   \n",
       "3     2021-09-30 12:52:19         浅葱部長   \n",
       "4     2021-09-30 12:52:20          点P2   \n",
       "...                   ...          ...   \n",
       "14070 2021-09-30 13:51:46       カルナVAL   \n",
       "14071 2021-09-30 13:51:46         腹筋筋肉   \n",
       "14072 2021-09-30 13:51:47      ピカソピッケル   \n",
       "14073                 NaT          NaN   \n",
       "14074                 NaT          NaN   \n",
       "\n",
       "                                                 comment  sentiment  \\\n",
       "0                                      CAPCOM頼むドスランポスはよ！        0.0   \n",
       "1                                              エスピナスください       -0.2   \n",
       "2                                             全ドスモンスター解禁        0.0   \n",
       "3                                           美味しそうなモンスター…        0.7   \n",
       "4                                                 ホロロホルル        0.3   \n",
       "...                                                  ...        ...   \n",
       "14070                                                ごみー        0.3   \n",
       "14071                                                  乙        0.3   \n",
       "14072  ネジキネジキネジキネジキネジキネジキネジキネジキネジキネジキネジキネジキネジキネジキネジキネ...        0.3   \n",
       "14073                                                nan        0.0   \n",
       "14074                                                nan        0.0   \n",
       "\n",
       "       magnitude                                              words  \n",
       "0            0.0                                 [CAPCOM, ドス, ランポス]  \n",
       "1            0.2                                            [エスピナス]  \n",
       "2            0.0                                    [ドス, モンスター, 解禁]  \n",
       "3            0.7                                       [美味し, モンスター]  \n",
       "4            0.3                                           [ホロロホルル]  \n",
       "...          ...                                                ...  \n",
       "14070        0.3                                               [ごみ]  \n",
       "14071        0.3                                                [乙]  \n",
       "14072        0.3  [ネジ, キネ, ジキ, ネジ, キネ, ジキ, ネジ, キネ, ジキ, ネジ, キネ, ジ...  \n",
       "14073        0.0                                              [nan]  \n",
       "14074        0.0                                              [nan]  \n",
       "\n",
       "[14075 rows x 6 columns]"
      ]
     },
     "execution_count": 35,
     "metadata": {},
     "output_type": "execute_result"
    }
   ],
   "source": [
    "# MeCabで特定の名詞だけ抜き取る\n",
    "tagger = MeCab.Tagger()\n",
    "\n",
    "def word_extraction(text):\n",
    "    \"\"\"特定名詞だけ抽出\"\"\"\n",
    "    #URLを正規表現で排除\n",
    "    result = re.sub(\"https?://[\\w!\\?/\\+\\-_~=;\\.,\\*&@#\\$%\\(\\)'\\[\\]]+\", \"\", text)\n",
    "    parse = tagger.parse(result)\n",
    "\n",
    "    lines = parse.split('\\n') \n",
    "    nounlist = [] #特定名詞を格納\n",
    "    for line in lines:\n",
    "        feature = line.split('\\t') #タブで区切る\n",
    "        if len(feature) == 2: #'EOS'と''を省く\n",
    "            info = feature[1].split(',')\n",
    "            hinshi = info[0] #　品詞取得\n",
    "            hinshi_classi = info[1] #　品詞分類を取得\n",
    "            #名詞 - 一般,サ変,固有名詞　だけ抽出する　※抽出したいものに合わせてカスタマイズすればいい\n",
    "            if (hinshi in ('名詞')) and ((hinshi_classi in ('一般')) or (hinshi_classi in ('サ変接続')) or (hinshi_classi in ('固有名詞'))):\n",
    "                nounlist.append(feature[0]) #info[6]を取得してもいいが、今回は原文を取得\n",
    "    return nounlist\n",
    "\n",
    "# wordsカラムを追加\n",
    "dfc['comment'] = dfc['comment'].apply(word_extraction)\n",
    "df"
   ]
  },
  {
   "cell_type": "code",
   "execution_count": 36,
   "id": "0a8bd93e",
   "metadata": {},
   "outputs": [],
   "source": [
    "npt = nlplot.NLPlot(dfc, target_col='comment') #Tweets_dfのwordsカラムを解析対象にする\n",
    "#stopwords = npt.get_stopword(top_n=4, min_freq=0) #ストップワードとして上記頻出4単語を排除する\n",
    "#print(stopwords)\n",
    "stopwords = [\"カプコン\"]"
   ]
  },
  {
   "cell_type": "code",
   "execution_count": 37,
   "id": "8a30b633",
   "metadata": {},
   "outputs": [
    {
     "name": "stderr",
     "output_type": "stream",
     "text": [
      "100%|██████████| 14075/14075 [00:00<00:00, 260573.85it/s]\n"
     ]
    },
    {
     "data": {
      "application/vnd.plotly.v1+json": {
       "config": {
        "plotlyServerURL": "https://plot.ly"
       },
       "data": [
        {
         "alignmentgroup": "True",
         "hovertemplate": "word_count=%{text}<br>word=%{y}<extra></extra>",
         "legendgroup": "",
         "marker": {
          "pattern": {
           "shape": ""
          }
         },
         "name": "",
         "offsetgroup": "",
         "orientation": "h",
         "showlegend": false,
         "text": [
          12,
          13,
          13,
          13,
          14,
          14,
          15,
          15,
          18,
          18,
          18,
          19,
          20,
          23,
          23,
          27,
          28,
          29,
          33,
          33,
          33,
          35,
          36,
          37,
          40,
          41,
          41,
          45,
          48,
          48,
          49,
          49,
          49,
          61,
          62,
          62,
          64,
          68,
          75,
          81,
          83,
          95,
          99,
          103,
          112,
          119,
          140,
          168,
          183,
          614
         ],
         "textposition": "auto",
         "texttemplate": "%{text:.2s}",
         "type": "bar",
         "x": [
          12,
          13,
          13,
          13,
          14,
          14,
          15,
          15,
          18,
          18,
          18,
          19,
          20,
          23,
          23,
          27,
          28,
          29,
          33,
          33,
          33,
          35,
          36,
          37,
          40,
          41,
          41,
          45,
          48,
          48,
          49,
          49,
          49,
          61,
          62,
          62,
          64,
          68,
          75,
          81,
          83,
          95,
          99,
          103,
          112,
          119,
          140,
          168,
          183,
          614
         ],
         "xaxis": "x",
         "y": [
          "ジョー",
          "レウス",
          "ティガ",
          "アルバ",
          "プー",
          "ブロリー",
          "ゴグ",
          "岸田",
          "ギイ",
          "東京",
          "オルガ",
          "オド",
          "辻本",
          "石田",
          "このみ",
          "一瀬",
          "ゼル",
          "ラオ",
          "ダラ",
          "ミラ",
          "ランポ",
          "ピカチュウ",
          "スガ",
          "ゼナ",
          "一ノ瀬",
          "スラ",
          "ギオ",
          "鈴木",
          "ランス",
          "室伏",
          "ナカ",
          "マツモト",
          "キヨシ",
          "笑笑",
          "範馬",
          "刃牙",
          "アプ",
          "バルド",
          "ディノ",
          "亜依",
          "上原",
          "アラギ",
          "ギィ",
          "ブラ",
          "琵琶",
          "ジャギ",
          "ジョーイ",
          "ルル",
          "ホロ",
          "ランポス"
         ],
         "yaxis": "y"
        }
       ],
       "layout": {
        "barmode": "relative",
        "height": 1100,
        "legend": {
         "tracegroupgap": 0
        },
        "margin": {
         "t": 60
        },
        "template": {
         "data": {
          "bar": [
           {
            "error_x": {
             "color": "#2a3f5f"
            },
            "error_y": {
             "color": "#2a3f5f"
            },
            "marker": {
             "line": {
              "color": "#E5ECF6",
              "width": 0.5
             },
             "pattern": {
              "fillmode": "overlay",
              "size": 10,
              "solidity": 0.2
             }
            },
            "type": "bar"
           }
          ],
          "barpolar": [
           {
            "marker": {
             "line": {
              "color": "#E5ECF6",
              "width": 0.5
             },
             "pattern": {
              "fillmode": "overlay",
              "size": 10,
              "solidity": 0.2
             }
            },
            "type": "barpolar"
           }
          ],
          "carpet": [
           {
            "aaxis": {
             "endlinecolor": "#2a3f5f",
             "gridcolor": "white",
             "linecolor": "white",
             "minorgridcolor": "white",
             "startlinecolor": "#2a3f5f"
            },
            "baxis": {
             "endlinecolor": "#2a3f5f",
             "gridcolor": "white",
             "linecolor": "white",
             "minorgridcolor": "white",
             "startlinecolor": "#2a3f5f"
            },
            "type": "carpet"
           }
          ],
          "choropleth": [
           {
            "colorbar": {
             "outlinewidth": 0,
             "ticks": ""
            },
            "type": "choropleth"
           }
          ],
          "contour": [
           {
            "colorbar": {
             "outlinewidth": 0,
             "ticks": ""
            },
            "colorscale": [
             [
              0,
              "#0d0887"
             ],
             [
              0.1111111111111111,
              "#46039f"
             ],
             [
              0.2222222222222222,
              "#7201a8"
             ],
             [
              0.3333333333333333,
              "#9c179e"
             ],
             [
              0.4444444444444444,
              "#bd3786"
             ],
             [
              0.5555555555555556,
              "#d8576b"
             ],
             [
              0.6666666666666666,
              "#ed7953"
             ],
             [
              0.7777777777777778,
              "#fb9f3a"
             ],
             [
              0.8888888888888888,
              "#fdca26"
             ],
             [
              1,
              "#f0f921"
             ]
            ],
            "type": "contour"
           }
          ],
          "contourcarpet": [
           {
            "colorbar": {
             "outlinewidth": 0,
             "ticks": ""
            },
            "type": "contourcarpet"
           }
          ],
          "heatmap": [
           {
            "colorbar": {
             "outlinewidth": 0,
             "ticks": ""
            },
            "colorscale": [
             [
              0,
              "#0d0887"
             ],
             [
              0.1111111111111111,
              "#46039f"
             ],
             [
              0.2222222222222222,
              "#7201a8"
             ],
             [
              0.3333333333333333,
              "#9c179e"
             ],
             [
              0.4444444444444444,
              "#bd3786"
             ],
             [
              0.5555555555555556,
              "#d8576b"
             ],
             [
              0.6666666666666666,
              "#ed7953"
             ],
             [
              0.7777777777777778,
              "#fb9f3a"
             ],
             [
              0.8888888888888888,
              "#fdca26"
             ],
             [
              1,
              "#f0f921"
             ]
            ],
            "type": "heatmap"
           }
          ],
          "heatmapgl": [
           {
            "colorbar": {
             "outlinewidth": 0,
             "ticks": ""
            },
            "colorscale": [
             [
              0,
              "#0d0887"
             ],
             [
              0.1111111111111111,
              "#46039f"
             ],
             [
              0.2222222222222222,
              "#7201a8"
             ],
             [
              0.3333333333333333,
              "#9c179e"
             ],
             [
              0.4444444444444444,
              "#bd3786"
             ],
             [
              0.5555555555555556,
              "#d8576b"
             ],
             [
              0.6666666666666666,
              "#ed7953"
             ],
             [
              0.7777777777777778,
              "#fb9f3a"
             ],
             [
              0.8888888888888888,
              "#fdca26"
             ],
             [
              1,
              "#f0f921"
             ]
            ],
            "type": "heatmapgl"
           }
          ],
          "histogram": [
           {
            "marker": {
             "pattern": {
              "fillmode": "overlay",
              "size": 10,
              "solidity": 0.2
             }
            },
            "type": "histogram"
           }
          ],
          "histogram2d": [
           {
            "colorbar": {
             "outlinewidth": 0,
             "ticks": ""
            },
            "colorscale": [
             [
              0,
              "#0d0887"
             ],
             [
              0.1111111111111111,
              "#46039f"
             ],
             [
              0.2222222222222222,
              "#7201a8"
             ],
             [
              0.3333333333333333,
              "#9c179e"
             ],
             [
              0.4444444444444444,
              "#bd3786"
             ],
             [
              0.5555555555555556,
              "#d8576b"
             ],
             [
              0.6666666666666666,
              "#ed7953"
             ],
             [
              0.7777777777777778,
              "#fb9f3a"
             ],
             [
              0.8888888888888888,
              "#fdca26"
             ],
             [
              1,
              "#f0f921"
             ]
            ],
            "type": "histogram2d"
           }
          ],
          "histogram2dcontour": [
           {
            "colorbar": {
             "outlinewidth": 0,
             "ticks": ""
            },
            "colorscale": [
             [
              0,
              "#0d0887"
             ],
             [
              0.1111111111111111,
              "#46039f"
             ],
             [
              0.2222222222222222,
              "#7201a8"
             ],
             [
              0.3333333333333333,
              "#9c179e"
             ],
             [
              0.4444444444444444,
              "#bd3786"
             ],
             [
              0.5555555555555556,
              "#d8576b"
             ],
             [
              0.6666666666666666,
              "#ed7953"
             ],
             [
              0.7777777777777778,
              "#fb9f3a"
             ],
             [
              0.8888888888888888,
              "#fdca26"
             ],
             [
              1,
              "#f0f921"
             ]
            ],
            "type": "histogram2dcontour"
           }
          ],
          "mesh3d": [
           {
            "colorbar": {
             "outlinewidth": 0,
             "ticks": ""
            },
            "type": "mesh3d"
           }
          ],
          "parcoords": [
           {
            "line": {
             "colorbar": {
              "outlinewidth": 0,
              "ticks": ""
             }
            },
            "type": "parcoords"
           }
          ],
          "pie": [
           {
            "automargin": true,
            "type": "pie"
           }
          ],
          "scatter": [
           {
            "marker": {
             "colorbar": {
              "outlinewidth": 0,
              "ticks": ""
             }
            },
            "type": "scatter"
           }
          ],
          "scatter3d": [
           {
            "line": {
             "colorbar": {
              "outlinewidth": 0,
              "ticks": ""
             }
            },
            "marker": {
             "colorbar": {
              "outlinewidth": 0,
              "ticks": ""
             }
            },
            "type": "scatter3d"
           }
          ],
          "scattercarpet": [
           {
            "marker": {
             "colorbar": {
              "outlinewidth": 0,
              "ticks": ""
             }
            },
            "type": "scattercarpet"
           }
          ],
          "scattergeo": [
           {
            "marker": {
             "colorbar": {
              "outlinewidth": 0,
              "ticks": ""
             }
            },
            "type": "scattergeo"
           }
          ],
          "scattergl": [
           {
            "marker": {
             "colorbar": {
              "outlinewidth": 0,
              "ticks": ""
             }
            },
            "type": "scattergl"
           }
          ],
          "scattermapbox": [
           {
            "marker": {
             "colorbar": {
              "outlinewidth": 0,
              "ticks": ""
             }
            },
            "type": "scattermapbox"
           }
          ],
          "scatterpolar": [
           {
            "marker": {
             "colorbar": {
              "outlinewidth": 0,
              "ticks": ""
             }
            },
            "type": "scatterpolar"
           }
          ],
          "scatterpolargl": [
           {
            "marker": {
             "colorbar": {
              "outlinewidth": 0,
              "ticks": ""
             }
            },
            "type": "scatterpolargl"
           }
          ],
          "scatterternary": [
           {
            "marker": {
             "colorbar": {
              "outlinewidth": 0,
              "ticks": ""
             }
            },
            "type": "scatterternary"
           }
          ],
          "surface": [
           {
            "colorbar": {
             "outlinewidth": 0,
             "ticks": ""
            },
            "colorscale": [
             [
              0,
              "#0d0887"
             ],
             [
              0.1111111111111111,
              "#46039f"
             ],
             [
              0.2222222222222222,
              "#7201a8"
             ],
             [
              0.3333333333333333,
              "#9c179e"
             ],
             [
              0.4444444444444444,
              "#bd3786"
             ],
             [
              0.5555555555555556,
              "#d8576b"
             ],
             [
              0.6666666666666666,
              "#ed7953"
             ],
             [
              0.7777777777777778,
              "#fb9f3a"
             ],
             [
              0.8888888888888888,
              "#fdca26"
             ],
             [
              1,
              "#f0f921"
             ]
            ],
            "type": "surface"
           }
          ],
          "table": [
           {
            "cells": {
             "fill": {
              "color": "#EBF0F8"
             },
             "line": {
              "color": "white"
             }
            },
            "header": {
             "fill": {
              "color": "#C8D4E3"
             },
             "line": {
              "color": "white"
             }
            },
            "type": "table"
           }
          ]
         },
         "layout": {
          "annotationdefaults": {
           "arrowcolor": "#2a3f5f",
           "arrowhead": 0,
           "arrowwidth": 1
          },
          "autotypenumbers": "strict",
          "coloraxis": {
           "colorbar": {
            "outlinewidth": 0,
            "ticks": ""
           }
          },
          "colorscale": {
           "diverging": [
            [
             0,
             "#8e0152"
            ],
            [
             0.1,
             "#c51b7d"
            ],
            [
             0.2,
             "#de77ae"
            ],
            [
             0.3,
             "#f1b6da"
            ],
            [
             0.4,
             "#fde0ef"
            ],
            [
             0.5,
             "#f7f7f7"
            ],
            [
             0.6,
             "#e6f5d0"
            ],
            [
             0.7,
             "#b8e186"
            ],
            [
             0.8,
             "#7fbc41"
            ],
            [
             0.9,
             "#4d9221"
            ],
            [
             1,
             "#276419"
            ]
           ],
           "sequential": [
            [
             0,
             "#0d0887"
            ],
            [
             0.1111111111111111,
             "#46039f"
            ],
            [
             0.2222222222222222,
             "#7201a8"
            ],
            [
             0.3333333333333333,
             "#9c179e"
            ],
            [
             0.4444444444444444,
             "#bd3786"
            ],
            [
             0.5555555555555556,
             "#d8576b"
            ],
            [
             0.6666666666666666,
             "#ed7953"
            ],
            [
             0.7777777777777778,
             "#fb9f3a"
            ],
            [
             0.8888888888888888,
             "#fdca26"
            ],
            [
             1,
             "#f0f921"
            ]
           ],
           "sequentialminus": [
            [
             0,
             "#0d0887"
            ],
            [
             0.1111111111111111,
             "#46039f"
            ],
            [
             0.2222222222222222,
             "#7201a8"
            ],
            [
             0.3333333333333333,
             "#9c179e"
            ],
            [
             0.4444444444444444,
             "#bd3786"
            ],
            [
             0.5555555555555556,
             "#d8576b"
            ],
            [
             0.6666666666666666,
             "#ed7953"
            ],
            [
             0.7777777777777778,
             "#fb9f3a"
            ],
            [
             0.8888888888888888,
             "#fdca26"
            ],
            [
             1,
             "#f0f921"
            ]
           ]
          },
          "colorway": [
           "#636efa",
           "#EF553B",
           "#00cc96",
           "#ab63fa",
           "#FFA15A",
           "#19d3f3",
           "#FF6692",
           "#B6E880",
           "#FF97FF",
           "#FECB52"
          ],
          "font": {
           "color": "#2a3f5f"
          },
          "geo": {
           "bgcolor": "white",
           "lakecolor": "white",
           "landcolor": "#E5ECF6",
           "showlakes": true,
           "showland": true,
           "subunitcolor": "white"
          },
          "hoverlabel": {
           "align": "left"
          },
          "hovermode": "closest",
          "mapbox": {
           "style": "light"
          },
          "paper_bgcolor": "white",
          "plot_bgcolor": "#E5ECF6",
          "polar": {
           "angularaxis": {
            "gridcolor": "white",
            "linecolor": "white",
            "ticks": ""
           },
           "bgcolor": "#E5ECF6",
           "radialaxis": {
            "gridcolor": "white",
            "linecolor": "white",
            "ticks": ""
           }
          },
          "scene": {
           "xaxis": {
            "backgroundcolor": "#E5ECF6",
            "gridcolor": "white",
            "gridwidth": 2,
            "linecolor": "white",
            "showbackground": true,
            "ticks": "",
            "zerolinecolor": "white"
           },
           "yaxis": {
            "backgroundcolor": "#E5ECF6",
            "gridcolor": "white",
            "gridwidth": 2,
            "linecolor": "white",
            "showbackground": true,
            "ticks": "",
            "zerolinecolor": "white"
           },
           "zaxis": {
            "backgroundcolor": "#E5ECF6",
            "gridcolor": "white",
            "gridwidth": 2,
            "linecolor": "white",
            "showbackground": true,
            "ticks": "",
            "zerolinecolor": "white"
           }
          },
          "shapedefaults": {
           "line": {
            "color": "#2a3f5f"
           }
          },
          "ternary": {
           "aaxis": {
            "gridcolor": "white",
            "linecolor": "white",
            "ticks": ""
           },
           "baxis": {
            "gridcolor": "white",
            "linecolor": "white",
            "ticks": ""
           },
           "bgcolor": "#E5ECF6",
           "caxis": {
            "gridcolor": "white",
            "linecolor": "white",
            "ticks": ""
           }
          },
          "title": {
           "x": 0.05
          },
          "xaxis": {
           "automargin": true,
           "gridcolor": "white",
           "linecolor": "white",
           "ticks": "",
           "title": {
            "standoff": 15
           },
           "zerolinecolor": "white",
           "zerolinewidth": 2
          },
          "yaxis": {
           "automargin": true,
           "gridcolor": "white",
           "linecolor": "white",
           "ticks": "",
           "title": {
            "standoff": 15
           },
           "zerolinecolor": "white",
           "zerolinewidth": 2
          }
         }
        },
        "title": {
         "text": "uni-gram"
        },
        "width": 800,
        "xaxis": {
         "anchor": "y",
         "autorange": true,
         "domain": [
          0,
          1
         ],
         "range": [
          0,
          646.3157894736842
         ],
         "title": {
          "text": "word_count"
         },
         "type": "linear"
        },
        "yaxis": {
         "anchor": "x",
         "autorange": true,
         "domain": [
          0,
          1
         ],
         "range": [
          -0.5,
          49.5
         ],
         "title": {
          "text": "word"
         },
         "type": "category"
        }
       }
      },
      "image/png": "[encoded data removed]",
      "text/html": [
       "<div>                            <div id=\"647578e3-1dc0-498a-b8a6-69807abe5b16\" class=\"plotly-graph-div\" style=\"height:1100px; width:800px;\"></div>            <script type=\"text/javascript\">                require([\"plotly\"], function(Plotly) {                    window.PLOTLYENV=window.PLOTLYENV || {};                                    if (document.getElementById(\"647578e3-1dc0-498a-b8a6-69807abe5b16\")) {                    Plotly.newPlot(                        \"647578e3-1dc0-498a-b8a6-69807abe5b16\",                        [{\"alignmentgroup\":\"True\",\"hovertemplate\":\"word_count=%{text}<br>word=%{y}<extra></extra>\",\"legendgroup\":\"\",\"marker\":{\"pattern\":{\"shape\":\"\"}},\"name\":\"\",\"offsetgroup\":\"\",\"orientation\":\"h\",\"showlegend\":false,\"text\":[12.0,13.0,13.0,13.0,14.0,14.0,15.0,15.0,18.0,18.0,18.0,19.0,20.0,23.0,23.0,27.0,28.0,29.0,33.0,33.0,33.0,35.0,36.0,37.0,40.0,41.0,41.0,45.0,48.0,48.0,49.0,49.0,49.0,61.0,62.0,62.0,64.0,68.0,75.0,81.0,83.0,95.0,99.0,103.0,112.0,119.0,140.0,168.0,183.0,614.0],\"textposition\":\"auto\",\"x\":[12,13,13,13,14,14,15,15,18,18,18,19,20,23,23,27,28,29,33,33,33,35,36,37,40,41,41,45,48,48,49,49,49,61,62,62,64,68,75,81,83,95,99,103,112,119,140,168,183,614],\"xaxis\":\"x\",\"y\":[\"\\u30b8\\u30e7\\u30fc\",\"\\u30ec\\u30a6\\u30b9\",\"\\u30c6\\u30a3\\u30ac\",\"\\u30a2\\u30eb\\u30d0\",\"\\u30d7\\u30fc\",\"\\u30d6\\u30ed\\u30ea\\u30fc\",\"\\u30b4\\u30b0\",\"\\u5cb8\\u7530\",\"\\u30ae\\u30a4\",\"\\u6771\\u4eac\",\"\\u30aa\\u30eb\\u30ac\",\"\\u30aa\\u30c9\",\"\\u8fbb\\u672c\",\"\\u77f3\\u7530\",\"\\u3053\\u306e\\u307f\",\"\\u4e00\\u702c\",\"\\u30bc\\u30eb\",\"\\u30e9\\u30aa\",\"\\u30c0\\u30e9\",\"\\u30df\\u30e9\",\"\\u30e9\\u30f3\\u30dd\",\"\\u30d4\\u30ab\\u30c1\\u30e5\\u30a6\",\"\\u30b9\\u30ac\",\"\\u30bc\\u30ca\",\"\\u4e00\\u30ce\\u702c\",\"\\u30b9\\u30e9\",\"\\u30ae\\u30aa\",\"\\u9234\\u6728\",\"\\u30e9\\u30f3\\u30b9\",\"\\u5ba4\\u4f0f\",\"\\u30ca\\u30ab\",\"\\u30de\\u30c4\\u30e2\\u30c8\",\"\\u30ad\\u30e8\\u30b7\",\"\\u7b11\\u7b11\",\"\\u7bc4\\u99ac\",\"\\u5203\\u7259\",\"\\u30a2\\u30d7\",\"\\u30d0\\u30eb\\u30c9\",\"\\u30c7\\u30a3\\u30ce\",\"\\u4e9c\\u4f9d\",\"\\u4e0a\\u539f\",\"\\u30a2\\u30e9\\u30ae\",\"\\u30ae\\u30a3\",\"\\u30d6\\u30e9\",\"\\u7435\\u7436\",\"\\u30b8\\u30e3\\u30ae\",\"\\u30b8\\u30e7\\u30fc\\u30a4\",\"\\u30eb\\u30eb\",\"\\u30db\\u30ed\",\"\\u30e9\\u30f3\\u30dd\\u30b9\"],\"yaxis\":\"y\",\"type\":\"bar\",\"texttemplate\":\"%{text:.2s}\"}],                        {\"template\":{\"data\":{\"bar\":[{\"error_x\":{\"color\":\"#2a3f5f\"},\"error_y\":{\"color\":\"#2a3f5f\"},\"marker\":{\"line\":{\"color\":\"#E5ECF6\",\"width\":0.5},\"pattern\":{\"fillmode\":\"overlay\",\"size\":10,\"solidity\":0.2}},\"type\":\"bar\"}],\"barpolar\":[{\"marker\":{\"line\":{\"color\":\"#E5ECF6\",\"width\":0.5},\"pattern\":{\"fillmode\":\"overlay\",\"size\":10,\"solidity\":0.2}},\"type\":\"barpolar\"}],\"carpet\":[{\"aaxis\":{\"endlinecolor\":\"#2a3f5f\",\"gridcolor\":\"white\",\"linecolor\":\"white\",\"minorgridcolor\":\"white\",\"startlinecolor\":\"#2a3f5f\"},\"baxis\":{\"endlinecolor\":\"#2a3f5f\",\"gridcolor\":\"white\",\"linecolor\":\"white\",\"minorgridcolor\":\"white\",\"startlinecolor\":\"#2a3f5f\"},\"type\":\"carpet\"}],\"choropleth\":[{\"colorbar\":{\"outlinewidth\":0,\"ticks\":\"\"},\"type\":\"choropleth\"}],\"contour\":[{\"colorbar\":{\"outlinewidth\":0,\"ticks\":\"\"},\"colorscale\":[[0.0,\"#0d0887\"],[0.1111111111111111,\"#46039f\"],[0.2222222222222222,\"#7201a8\"],[0.3333333333333333,\"#9c179e\"],[0.4444444444444444,\"#bd3786\"],[0.5555555555555556,\"#d8576b\"],[0.6666666666666666,\"#ed7953\"],[0.7777777777777778,\"#fb9f3a\"],[0.8888888888888888,\"#fdca26\"],[1.0,\"#f0f921\"]],\"type\":\"contour\"}],\"contourcarpet\":[{\"colorbar\":{\"outlinewidth\":0,\"ticks\":\"\"},\"type\":\"contourcarpet\"}],\"heatmap\":[{\"colorbar\":{\"outlinewidth\":0,\"ticks\":\"\"},\"colorscale\":[[0.0,\"#0d0887\"],[0.1111111111111111,\"#46039f\"],[0.2222222222222222,\"#7201a8\"],[0.3333333333333333,\"#9c179e\"],[0.4444444444444444,\"#bd3786\"],[0.5555555555555556,\"#d8576b\"],[0.6666666666666666,\"#ed7953\"],[0.7777777777777778,\"#fb9f3a\"],[0.8888888888888888,\"#fdca26\"],[1.0,\"#f0f921\"]],\"type\":\"heatmap\"}],\"heatmapgl\":[{\"colorbar\":{\"outlinewidth\":0,\"ticks\":\"\"},\"colorscale\":[[0.0,\"#0d0887\"],[0.1111111111111111,\"#46039f\"],[0.2222222222222222,\"#7201a8\"],[0.3333333333333333,\"#9c179e\"],[0.4444444444444444,\"#bd3786\"],[0.5555555555555556,\"#d8576b\"],[0.6666666666666666,\"#ed7953\"],[0.7777777777777778,\"#fb9f3a\"],[0.8888888888888888,\"#fdca26\"],[1.0,\"#f0f921\"]],\"type\":\"heatmapgl\"}],\"histogram\":[{\"marker\":{\"pattern\":{\"fillmode\":\"overlay\",\"size\":10,\"solidity\":0.2}},\"type\":\"histogram\"}],\"histogram2d\":[{\"colorbar\":{\"outlinewidth\":0,\"ticks\":\"\"},\"colorscale\":[[0.0,\"#0d0887\"],[0.1111111111111111,\"#46039f\"],[0.2222222222222222,\"#7201a8\"],[0.3333333333333333,\"#9c179e\"],[0.4444444444444444,\"#bd3786\"],[0.5555555555555556,\"#d8576b\"],[0.6666666666666666,\"#ed7953\"],[0.7777777777777778,\"#fb9f3a\"],[0.8888888888888888,\"#fdca26\"],[1.0,\"#f0f921\"]],\"type\":\"histogram2d\"}],\"histogram2dcontour\":[{\"colorbar\":{\"outlinewidth\":0,\"ticks\":\"\"},\"colorscale\":[[0.0,\"#0d0887\"],[0.1111111111111111,\"#46039f\"],[0.2222222222222222,\"#7201a8\"],[0.3333333333333333,\"#9c179e\"],[0.4444444444444444,\"#bd3786\"],[0.5555555555555556,\"#d8576b\"],[0.6666666666666666,\"#ed7953\"],[0.7777777777777778,\"#fb9f3a\"],[0.8888888888888888,\"#fdca26\"],[1.0,\"#f0f921\"]],\"type\":\"histogram2dcontour\"}],\"mesh3d\":[{\"colorbar\":{\"outlinewidth\":0,\"ticks\":\"\"},\"type\":\"mesh3d\"}],\"parcoords\":[{\"line\":{\"colorbar\":{\"outlinewidth\":0,\"ticks\":\"\"}},\"type\":\"parcoords\"}],\"pie\":[{\"automargin\":true,\"type\":\"pie\"}],\"scatter\":[{\"marker\":{\"colorbar\":{\"outlinewidth\":0,\"ticks\":\"\"}},\"type\":\"scatter\"}],\"scatter3d\":[{\"line\":{\"colorbar\":{\"outlinewidth\":0,\"ticks\":\"\"}},\"marker\":{\"colorbar\":{\"outlinewidth\":0,\"ticks\":\"\"}},\"type\":\"scatter3d\"}],\"scattercarpet\":[{\"marker\":{\"colorbar\":{\"outlinewidth\":0,\"ticks\":\"\"}},\"type\":\"scattercarpet\"}],\"scattergeo\":[{\"marker\":{\"colorbar\":{\"outlinewidth\":0,\"ticks\":\"\"}},\"type\":\"scattergeo\"}],\"scattergl\":[{\"marker\":{\"colorbar\":{\"outlinewidth\":0,\"ticks\":\"\"}},\"type\":\"scattergl\"}],\"scattermapbox\":[{\"marker\":{\"colorbar\":{\"outlinewidth\":0,\"ticks\":\"\"}},\"type\":\"scattermapbox\"}],\"scatterpolar\":[{\"marker\":{\"colorbar\":{\"outlinewidth\":0,\"ticks\":\"\"}},\"type\":\"scatterpolar\"}],\"scatterpolargl\":[{\"marker\":{\"colorbar\":{\"outlinewidth\":0,\"ticks\":\"\"}},\"type\":\"scatterpolargl\"}],\"scatterternary\":[{\"marker\":{\"colorbar\":{\"outlinewidth\":0,\"ticks\":\"\"}},\"type\":\"scatterternary\"}],\"surface\":[{\"colorbar\":{\"outlinewidth\":0,\"ticks\":\"\"},\"colorscale\":[[0.0,\"#0d0887\"],[0.1111111111111111,\"#46039f\"],[0.2222222222222222,\"#7201a8\"],[0.3333333333333333,\"#9c179e\"],[0.4444444444444444,\"#bd3786\"],[0.5555555555555556,\"#d8576b\"],[0.6666666666666666,\"#ed7953\"],[0.7777777777777778,\"#fb9f3a\"],[0.8888888888888888,\"#fdca26\"],[1.0,\"#f0f921\"]],\"type\":\"surface\"}],\"table\":[{\"cells\":{\"fill\":{\"color\":\"#EBF0F8\"},\"line\":{\"color\":\"white\"}},\"header\":{\"fill\":{\"color\":\"#C8D4E3\"},\"line\":{\"color\":\"white\"}},\"type\":\"table\"}]},\"layout\":{\"annotationdefaults\":{\"arrowcolor\":\"#2a3f5f\",\"arrowhead\":0,\"arrowwidth\":1},\"autotypenumbers\":\"strict\",\"coloraxis\":{\"colorbar\":{\"outlinewidth\":0,\"ticks\":\"\"}},\"colorscale\":{\"diverging\":[[0,\"#8e0152\"],[0.1,\"#c51b7d\"],[0.2,\"#de77ae\"],[0.3,\"#f1b6da\"],[0.4,\"#fde0ef\"],[0.5,\"#f7f7f7\"],[0.6,\"#e6f5d0\"],[0.7,\"#b8e186\"],[0.8,\"#7fbc41\"],[0.9,\"#4d9221\"],[1,\"#276419\"]],\"sequential\":[[0.0,\"#0d0887\"],[0.1111111111111111,\"#46039f\"],[0.2222222222222222,\"#7201a8\"],[0.3333333333333333,\"#9c179e\"],[0.4444444444444444,\"#bd3786\"],[0.5555555555555556,\"#d8576b\"],[0.6666666666666666,\"#ed7953\"],[0.7777777777777778,\"#fb9f3a\"],[0.8888888888888888,\"#fdca26\"],[1.0,\"#f0f921\"]],\"sequentialminus\":[[0.0,\"#0d0887\"],[0.1111111111111111,\"#46039f\"],[0.2222222222222222,\"#7201a8\"],[0.3333333333333333,\"#9c179e\"],[0.4444444444444444,\"#bd3786\"],[0.5555555555555556,\"#d8576b\"],[0.6666666666666666,\"#ed7953\"],[0.7777777777777778,\"#fb9f3a\"],[0.8888888888888888,\"#fdca26\"],[1.0,\"#f0f921\"]]},\"colorway\":[\"#636efa\",\"#EF553B\",\"#00cc96\",\"#ab63fa\",\"#FFA15A\",\"#19d3f3\",\"#FF6692\",\"#B6E880\",\"#FF97FF\",\"#FECB52\"],\"font\":{\"color\":\"#2a3f5f\"},\"geo\":{\"bgcolor\":\"white\",\"lakecolor\":\"white\",\"landcolor\":\"#E5ECF6\",\"showlakes\":true,\"showland\":true,\"subunitcolor\":\"white\"},\"hoverlabel\":{\"align\":\"left\"},\"hovermode\":\"closest\",\"mapbox\":{\"style\":\"light\"},\"paper_bgcolor\":\"white\",\"plot_bgcolor\":\"#E5ECF6\",\"polar\":{\"angularaxis\":{\"gridcolor\":\"white\",\"linecolor\":\"white\",\"ticks\":\"\"},\"bgcolor\":\"#E5ECF6\",\"radialaxis\":{\"gridcolor\":\"white\",\"linecolor\":\"white\",\"ticks\":\"\"}},\"scene\":{\"xaxis\":{\"backgroundcolor\":\"#E5ECF6\",\"gridcolor\":\"white\",\"gridwidth\":2,\"linecolor\":\"white\",\"showbackground\":true,\"ticks\":\"\",\"zerolinecolor\":\"white\"},\"yaxis\":{\"backgroundcolor\":\"#E5ECF6\",\"gridcolor\":\"white\",\"gridwidth\":2,\"linecolor\":\"white\",\"showbackground\":true,\"ticks\":\"\",\"zerolinecolor\":\"white\"},\"zaxis\":{\"backgroundcolor\":\"#E5ECF6\",\"gridcolor\":\"white\",\"gridwidth\":2,\"linecolor\":\"white\",\"showbackground\":true,\"ticks\":\"\",\"zerolinecolor\":\"white\"}},\"shapedefaults\":{\"line\":{\"color\":\"#2a3f5f\"}},\"ternary\":{\"aaxis\":{\"gridcolor\":\"white\",\"linecolor\":\"white\",\"ticks\":\"\"},\"baxis\":{\"gridcolor\":\"white\",\"linecolor\":\"white\",\"ticks\":\"\"},\"bgcolor\":\"#E5ECF6\",\"caxis\":{\"gridcolor\":\"white\",\"linecolor\":\"white\",\"ticks\":\"\"}},\"title\":{\"x\":0.05},\"xaxis\":{\"automargin\":true,\"gridcolor\":\"white\",\"linecolor\":\"white\",\"ticks\":\"\",\"title\":{\"standoff\":15},\"zerolinecolor\":\"white\",\"zerolinewidth\":2},\"yaxis\":{\"automargin\":true,\"gridcolor\":\"white\",\"linecolor\":\"white\",\"ticks\":\"\",\"title\":{\"standoff\":15},\"zerolinecolor\":\"white\",\"zerolinewidth\":2}}},\"xaxis\":{\"anchor\":\"y\",\"domain\":[0.0,1.0],\"title\":{\"text\":\"word_count\"}},\"yaxis\":{\"anchor\":\"x\",\"domain\":[0.0,1.0],\"title\":{\"text\":\"word\"}},\"legend\":{\"tracegroupgap\":0},\"margin\":{\"t\":60},\"barmode\":\"relative\",\"title\":{\"text\":\"uni-gram\"},\"width\":800,\"height\":1100},                        {\"responsive\": true}                    ).then(function(){\n",
       "                            \n",
       "var gd = document.getElementById('647578e3-1dc0-498a-b8a6-69807abe5b16');\n",
       "var x = new MutationObserver(function (mutations, observer) {{\n",
       "        var display = window.getComputedStyle(gd).display;\n",
       "        if (!display || display === 'none') {{\n",
       "            console.log([gd, 'removed!']);\n",
       "            Plotly.purge(gd);\n",
       "            observer.disconnect();\n",
       "        }}\n",
       "}});\n",
       "\n",
       "// Listen for the removal of the full notebook cells\n",
       "var notebookContainer = gd.closest('#notebook-container');\n",
       "if (notebookContainer) {{\n",
       "    x.observe(notebookContainer, {childList: true});\n",
       "}}\n",
       "\n",
       "// Listen for the clearing of the current output cell\n",
       "var outputEl = gd.closest('.output');\n",
       "if (outputEl) {{\n",
       "    x.observe(outputEl, {childList: true});\n",
       "}}\n",
       "\n",
       "                        })                };                });            </script>        </div>"
      ]
     },
     "metadata": {},
     "output_type": "display_data"
    }
   ],
   "source": [
    "npt.bar_ngram(\n",
    "    title='uni-gram',\n",
    "    xaxis_label='word_count',\n",
    "    yaxis_label='word',\n",
    "    ngram=1,\n",
    "    top_n=50,\n",
    "    stopwords=stopwords,\n",
    ")"
   ]
  },
  {
   "cell_type": "code",
   "execution_count": 38,
   "id": "65f2c7db",
   "metadata": {},
   "outputs": [
    {
     "name": "stderr",
     "output_type": "stream",
     "text": [
      "100%|██████████| 14075/14075 [00:00<00:00, 259198.67it/s]\n"
     ]
    },
    {
     "data": {
      "application/vnd.plotly.v1+json": {
       "config": {
        "plotlyServerURL": "https://plot.ly"
       },
       "data": [
        {
         "branchvalues": "total",
         "domain": {
          "x": [
           0,
           1
          ],
          "y": [
           0,
           1
          ]
         },
         "hovertemplate": "labels=%{label}<br>word_count=%{value}<br>parent=%{parent}<br>id=%{id}<extra></extra>",
         "ids": [
          "アプ",
          "アラギ",
          "キヨシ",
          "ギィ",
          "ギオ",
          "ジャギ",
          "ジョーイ",
          "スガ",
          "スラ",
          "ゼナ",
          "ディノ",
          "ナカ",
          "バルド",
          "ピカチュウ",
          "ブラ",
          "ホロ",
          "マツモト",
          "ランス",
          "ランポ",
          "ランポス",
          "ルル",
          "一ノ瀬",
          "上原",
          "亜依",
          "刃牙",
          "室伏",
          "琵琶",
          "笑笑",
          "範馬",
          "鈴木"
         ],
         "labels": [
          "アプ",
          "アラギ",
          "キヨシ",
          "ギィ",
          "ギオ",
          "ジャギ",
          "ジョーイ",
          "スガ",
          "スラ",
          "ゼナ",
          "ディノ",
          "ナカ",
          "バルド",
          "ピカチュウ",
          "ブラ",
          "ホロ",
          "マツモト",
          "ランス",
          "ランポ",
          "ランポス",
          "ルル",
          "一ノ瀬",
          "上原",
          "亜依",
          "刃牙",
          "室伏",
          "琵琶",
          "笑笑",
          "範馬",
          "鈴木"
         ],
         "name": "",
         "parents": [
          "",
          "",
          "",
          "",
          "",
          "",
          "",
          "",
          "",
          "",
          "",
          "",
          "",
          "",
          "",
          "",
          "",
          "",
          "",
          "",
          "",
          "",
          "",
          "",
          "",
          "",
          "",
          "",
          "",
          ""
         ],
         "type": "treemap",
         "values": [
          64,
          95,
          49,
          99,
          41,
          119,
          140,
          36,
          41,
          37,
          75,
          49,
          68,
          35,
          103,
          183,
          49,
          48,
          33,
          614,
          168,
          40,
          83,
          81,
          62,
          48,
          112,
          61,
          62,
          45
         ]
        }
       ],
       "layout": {
        "height": 600,
        "legend": {
         "tracegroupgap": 0
        },
        "margin": {
         "t": 60
        },
        "template": {
         "data": {
          "bar": [
           {
            "error_x": {
             "color": "#2a3f5f"
            },
            "error_y": {
             "color": "#2a3f5f"
            },
            "marker": {
             "line": {
              "color": "#E5ECF6",
              "width": 0.5
             },
             "pattern": {
              "fillmode": "overlay",
              "size": 10,
              "solidity": 0.2
             }
            },
            "type": "bar"
           }
          ],
          "barpolar": [
           {
            "marker": {
             "line": {
              "color": "#E5ECF6",
              "width": 0.5
             },
             "pattern": {
              "fillmode": "overlay",
              "size": 10,
              "solidity": 0.2
             }
            },
            "type": "barpolar"
           }
          ],
          "carpet": [
           {
            "aaxis": {
             "endlinecolor": "#2a3f5f",
             "gridcolor": "white",
             "linecolor": "white",
             "minorgridcolor": "white",
             "startlinecolor": "#2a3f5f"
            },
            "baxis": {
             "endlinecolor": "#2a3f5f",
             "gridcolor": "white",
             "linecolor": "white",
             "minorgridcolor": "white",
             "startlinecolor": "#2a3f5f"
            },
            "type": "carpet"
           }
          ],
          "choropleth": [
           {
            "colorbar": {
             "outlinewidth": 0,
             "ticks": ""
            },
            "type": "choropleth"
           }
          ],
          "contour": [
           {
            "colorbar": {
             "outlinewidth": 0,
             "ticks": ""
            },
            "colorscale": [
             [
              0,
              "#0d0887"
             ],
             [
              0.1111111111111111,
              "#46039f"
             ],
             [
              0.2222222222222222,
              "#7201a8"
             ],
             [
              0.3333333333333333,
              "#9c179e"
             ],
             [
              0.4444444444444444,
              "#bd3786"
             ],
             [
              0.5555555555555556,
              "#d8576b"
             ],
             [
              0.6666666666666666,
              "#ed7953"
             ],
             [
              0.7777777777777778,
              "#fb9f3a"
             ],
             [
              0.8888888888888888,
              "#fdca26"
             ],
             [
              1,
              "#f0f921"
             ]
            ],
            "type": "contour"
           }
          ],
          "contourcarpet": [
           {
            "colorbar": {
             "outlinewidth": 0,
             "ticks": ""
            },
            "type": "contourcarpet"
           }
          ],
          "heatmap": [
           {
            "colorbar": {
             "outlinewidth": 0,
             "ticks": ""
            },
            "colorscale": [
             [
              0,
              "#0d0887"
             ],
             [
              0.1111111111111111,
              "#46039f"
             ],
             [
              0.2222222222222222,
              "#7201a8"
             ],
             [
              0.3333333333333333,
              "#9c179e"
             ],
             [
              0.4444444444444444,
              "#bd3786"
             ],
             [
              0.5555555555555556,
              "#d8576b"
             ],
             [
              0.6666666666666666,
              "#ed7953"
             ],
             [
              0.7777777777777778,
              "#fb9f3a"
             ],
             [
              0.8888888888888888,
              "#fdca26"
             ],
             [
              1,
              "#f0f921"
             ]
            ],
            "type": "heatmap"
           }
          ],
          "heatmapgl": [
           {
            "colorbar": {
             "outlinewidth": 0,
             "ticks": ""
            },
            "colorscale": [
             [
              0,
              "#0d0887"
             ],
             [
              0.1111111111111111,
              "#46039f"
             ],
             [
              0.2222222222222222,
              "#7201a8"
             ],
             [
              0.3333333333333333,
              "#9c179e"
             ],
             [
              0.4444444444444444,
              "#bd3786"
             ],
             [
              0.5555555555555556,
              "#d8576b"
             ],
             [
              0.6666666666666666,
              "#ed7953"
             ],
             [
              0.7777777777777778,
              "#fb9f3a"
             ],
             [
              0.8888888888888888,
              "#fdca26"
             ],
             [
              1,
              "#f0f921"
             ]
            ],
            "type": "heatmapgl"
           }
          ],
          "histogram": [
           {
            "marker": {
             "pattern": {
              "fillmode": "overlay",
              "size": 10,
              "solidity": 0.2
             }
            },
            "type": "histogram"
           }
          ],
          "histogram2d": [
           {
            "colorbar": {
             "outlinewidth": 0,
             "ticks": ""
            },
            "colorscale": [
             [
              0,
              "#0d0887"
             ],
             [
              0.1111111111111111,
              "#46039f"
             ],
             [
              0.2222222222222222,
              "#7201a8"
             ],
             [
              0.3333333333333333,
              "#9c179e"
             ],
             [
              0.4444444444444444,
              "#bd3786"
             ],
             [
              0.5555555555555556,
              "#d8576b"
             ],
             [
              0.6666666666666666,
              "#ed7953"
             ],
             [
              0.7777777777777778,
              "#fb9f3a"
             ],
             [
              0.8888888888888888,
              "#fdca26"
             ],
             [
              1,
              "#f0f921"
             ]
            ],
            "type": "histogram2d"
           }
          ],
          "histogram2dcontour": [
           {
            "colorbar": {
             "outlinewidth": 0,
             "ticks": ""
            },
            "colorscale": [
             [
              0,
              "#0d0887"
             ],
             [
              0.1111111111111111,
              "#46039f"
             ],
             [
              0.2222222222222222,
              "#7201a8"
             ],
             [
              0.3333333333333333,
              "#9c179e"
             ],
             [
              0.4444444444444444,
              "#bd3786"
             ],
             [
              0.5555555555555556,
              "#d8576b"
             ],
             [
              0.6666666666666666,
              "#ed7953"
             ],
             [
              0.7777777777777778,
              "#fb9f3a"
             ],
             [
              0.8888888888888888,
              "#fdca26"
             ],
             [
              1,
              "#f0f921"
             ]
            ],
            "type": "histogram2dcontour"
           }
          ],
          "mesh3d": [
           {
            "colorbar": {
             "outlinewidth": 0,
             "ticks": ""
            },
            "type": "mesh3d"
           }
          ],
          "parcoords": [
           {
            "line": {
             "colorbar": {
              "outlinewidth": 0,
              "ticks": ""
             }
            },
            "type": "parcoords"
           }
          ],
          "pie": [
           {
            "automargin": true,
            "type": "pie"
           }
          ],
          "scatter": [
           {
            "marker": {
             "colorbar": {
              "outlinewidth": 0,
              "ticks": ""
             }
            },
            "type": "scatter"
           }
          ],
          "scatter3d": [
           {
            "line": {
             "colorbar": {
              "outlinewidth": 0,
              "ticks": ""
             }
            },
            "marker": {
             "colorbar": {
              "outlinewidth": 0,
              "ticks": ""
             }
            },
            "type": "scatter3d"
           }
          ],
          "scattercarpet": [
           {
            "marker": {
             "colorbar": {
              "outlinewidth": 0,
              "ticks": ""
             }
            },
            "type": "scattercarpet"
           }
          ],
          "scattergeo": [
           {
            "marker": {
             "colorbar": {
              "outlinewidth": 0,
              "ticks": ""
             }
            },
            "type": "scattergeo"
           }
          ],
          "scattergl": [
           {
            "marker": {
             "colorbar": {
              "outlinewidth": 0,
              "ticks": ""
             }
            },
            "type": "scattergl"
           }
          ],
          "scattermapbox": [
           {
            "marker": {
             "colorbar": {
              "outlinewidth": 0,
              "ticks": ""
             }
            },
            "type": "scattermapbox"
           }
          ],
          "scatterpolar": [
           {
            "marker": {
             "colorbar": {
              "outlinewidth": 0,
              "ticks": ""
             }
            },
            "type": "scatterpolar"
           }
          ],
          "scatterpolargl": [
           {
            "marker": {
             "colorbar": {
              "outlinewidth": 0,
              "ticks": ""
             }
            },
            "type": "scatterpolargl"
           }
          ],
          "scatterternary": [
           {
            "marker": {
             "colorbar": {
              "outlinewidth": 0,
              "ticks": ""
             }
            },
            "type": "scatterternary"
           }
          ],
          "surface": [
           {
            "colorbar": {
             "outlinewidth": 0,
             "ticks": ""
            },
            "colorscale": [
             [
              0,
              "#0d0887"
             ],
             [
              0.1111111111111111,
              "#46039f"
             ],
             [
              0.2222222222222222,
              "#7201a8"
             ],
             [
              0.3333333333333333,
              "#9c179e"
             ],
             [
              0.4444444444444444,
              "#bd3786"
             ],
             [
              0.5555555555555556,
              "#d8576b"
             ],
             [
              0.6666666666666666,
              "#ed7953"
             ],
             [
              0.7777777777777778,
              "#fb9f3a"
             ],
             [
              0.8888888888888888,
              "#fdca26"
             ],
             [
              1,
              "#f0f921"
             ]
            ],
            "type": "surface"
           }
          ],
          "table": [
           {
            "cells": {
             "fill": {
              "color": "#EBF0F8"
             },
             "line": {
              "color": "white"
             }
            },
            "header": {
             "fill": {
              "color": "#C8D4E3"
             },
             "line": {
              "color": "white"
             }
            },
            "type": "table"
           }
          ]
         },
         "layout": {
          "annotationdefaults": {
           "arrowcolor": "#2a3f5f",
           "arrowhead": 0,
           "arrowwidth": 1
          },
          "autotypenumbers": "strict",
          "coloraxis": {
           "colorbar": {
            "outlinewidth": 0,
            "ticks": ""
           }
          },
          "colorscale": {
           "diverging": [
            [
             0,
             "#8e0152"
            ],
            [
             0.1,
             "#c51b7d"
            ],
            [
             0.2,
             "#de77ae"
            ],
            [
             0.3,
             "#f1b6da"
            ],
            [
             0.4,
             "#fde0ef"
            ],
            [
             0.5,
             "#f7f7f7"
            ],
            [
             0.6,
             "#e6f5d0"
            ],
            [
             0.7,
             "#b8e186"
            ],
            [
             0.8,
             "#7fbc41"
            ],
            [
             0.9,
             "#4d9221"
            ],
            [
             1,
             "#276419"
            ]
           ],
           "sequential": [
            [
             0,
             "#0d0887"
            ],
            [
             0.1111111111111111,
             "#46039f"
            ],
            [
             0.2222222222222222,
             "#7201a8"
            ],
            [
             0.3333333333333333,
             "#9c179e"
            ],
            [
             0.4444444444444444,
             "#bd3786"
            ],
            [
             0.5555555555555556,
             "#d8576b"
            ],
            [
             0.6666666666666666,
             "#ed7953"
            ],
            [
             0.7777777777777778,
             "#fb9f3a"
            ],
            [
             0.8888888888888888,
             "#fdca26"
            ],
            [
             1,
             "#f0f921"
            ]
           ],
           "sequentialminus": [
            [
             0,
             "#0d0887"
            ],
            [
             0.1111111111111111,
             "#46039f"
            ],
            [
             0.2222222222222222,
             "#7201a8"
            ],
            [
             0.3333333333333333,
             "#9c179e"
            ],
            [
             0.4444444444444444,
             "#bd3786"
            ],
            [
             0.5555555555555556,
             "#d8576b"
            ],
            [
             0.6666666666666666,
             "#ed7953"
            ],
            [
             0.7777777777777778,
             "#fb9f3a"
            ],
            [
             0.8888888888888888,
             "#fdca26"
            ],
            [
             1,
             "#f0f921"
            ]
           ]
          },
          "colorway": [
           "#636efa",
           "#EF553B",
           "#00cc96",
           "#ab63fa",
           "#FFA15A",
           "#19d3f3",
           "#FF6692",
           "#B6E880",
           "#FF97FF",
           "#FECB52"
          ],
          "font": {
           "color": "#2a3f5f"
          },
          "geo": {
           "bgcolor": "white",
           "lakecolor": "white",
           "landcolor": "#E5ECF6",
           "showlakes": true,
           "showland": true,
           "subunitcolor": "white"
          },
          "hoverlabel": {
           "align": "left"
          },
          "hovermode": "closest",
          "mapbox": {
           "style": "light"
          },
          "paper_bgcolor": "white",
          "plot_bgcolor": "#E5ECF6",
          "polar": {
           "angularaxis": {
            "gridcolor": "white",
            "linecolor": "white",
            "ticks": ""
           },
           "bgcolor": "#E5ECF6",
           "radialaxis": {
            "gridcolor": "white",
            "linecolor": "white",
            "ticks": ""
           }
          },
          "scene": {
           "xaxis": {
            "backgroundcolor": "#E5ECF6",
            "gridcolor": "white",
            "gridwidth": 2,
            "linecolor": "white",
            "showbackground": true,
            "ticks": "",
            "zerolinecolor": "white"
           },
           "yaxis": {
            "backgroundcolor": "#E5ECF6",
            "gridcolor": "white",
            "gridwidth": 2,
            "linecolor": "white",
            "showbackground": true,
            "ticks": "",
            "zerolinecolor": "white"
           },
           "zaxis": {
            "backgroundcolor": "#E5ECF6",
            "gridcolor": "white",
            "gridwidth": 2,
            "linecolor": "white",
            "showbackground": true,
            "ticks": "",
            "zerolinecolor": "white"
           }
          },
          "shapedefaults": {
           "line": {
            "color": "#2a3f5f"
           }
          },
          "ternary": {
           "aaxis": {
            "gridcolor": "white",
            "linecolor": "white",
            "ticks": ""
           },
           "baxis": {
            "gridcolor": "white",
            "linecolor": "white",
            "ticks": ""
           },
           "bgcolor": "#E5ECF6",
           "caxis": {
            "gridcolor": "white",
            "linecolor": "white",
            "ticks": ""
           }
          },
          "title": {
           "x": 0.05
          },
          "xaxis": {
           "automargin": true,
           "gridcolor": "white",
           "linecolor": "white",
           "ticks": "",
           "title": {
            "standoff": 15
           },
           "zerolinecolor": "white",
           "zerolinewidth": 2
          },
          "yaxis": {
           "automargin": true,
           "gridcolor": "white",
           "linecolor": "white",
           "ticks": "",
           "title": {
            "standoff": 15
           },
           "zerolinecolor": "white",
           "zerolinewidth": 2
          }
         }
        },
        "title": {
         "text": "Tree of Most Common Words"
        },
        "width": 1300
       }
      },
      "image/png": "[encoded data removed]",
      "text/html": [
       "<div>                            <div id=\"40794c16-5f57-4eb1-a1d2-32d91b0d9b49\" class=\"plotly-graph-div\" style=\"height:600px; width:1300px;\"></div>            <script type=\"text/javascript\">                require([\"plotly\"], function(Plotly) {                    window.PLOTLYENV=window.PLOTLYENV || {};                                    if (document.getElementById(\"40794c16-5f57-4eb1-a1d2-32d91b0d9b49\")) {                    Plotly.newPlot(                        \"40794c16-5f57-4eb1-a1d2-32d91b0d9b49\",                        [{\"branchvalues\":\"total\",\"domain\":{\"x\":[0.0,1.0],\"y\":[0.0,1.0]},\"hovertemplate\":\"labels=%{label}<br>word_count=%{value}<br>parent=%{parent}<br>id=%{id}<extra></extra>\",\"ids\":[\"\\u30a2\\u30d7\",\"\\u30a2\\u30e9\\u30ae\",\"\\u30ad\\u30e8\\u30b7\",\"\\u30ae\\u30a3\",\"\\u30ae\\u30aa\",\"\\u30b8\\u30e3\\u30ae\",\"\\u30b8\\u30e7\\u30fc\\u30a4\",\"\\u30b9\\u30ac\",\"\\u30b9\\u30e9\",\"\\u30bc\\u30ca\",\"\\u30c7\\u30a3\\u30ce\",\"\\u30ca\\u30ab\",\"\\u30d0\\u30eb\\u30c9\",\"\\u30d4\\u30ab\\u30c1\\u30e5\\u30a6\",\"\\u30d6\\u30e9\",\"\\u30db\\u30ed\",\"\\u30de\\u30c4\\u30e2\\u30c8\",\"\\u30e9\\u30f3\\u30b9\",\"\\u30e9\\u30f3\\u30dd\",\"\\u30e9\\u30f3\\u30dd\\u30b9\",\"\\u30eb\\u30eb\",\"\\u4e00\\u30ce\\u702c\",\"\\u4e0a\\u539f\",\"\\u4e9c\\u4f9d\",\"\\u5203\\u7259\",\"\\u5ba4\\u4f0f\",\"\\u7435\\u7436\",\"\\u7b11\\u7b11\",\"\\u7bc4\\u99ac\",\"\\u9234\\u6728\"],\"labels\":[\"\\u30a2\\u30d7\",\"\\u30a2\\u30e9\\u30ae\",\"\\u30ad\\u30e8\\u30b7\",\"\\u30ae\\u30a3\",\"\\u30ae\\u30aa\",\"\\u30b8\\u30e3\\u30ae\",\"\\u30b8\\u30e7\\u30fc\\u30a4\",\"\\u30b9\\u30ac\",\"\\u30b9\\u30e9\",\"\\u30bc\\u30ca\",\"\\u30c7\\u30a3\\u30ce\",\"\\u30ca\\u30ab\",\"\\u30d0\\u30eb\\u30c9\",\"\\u30d4\\u30ab\\u30c1\\u30e5\\u30a6\",\"\\u30d6\\u30e9\",\"\\u30db\\u30ed\",\"\\u30de\\u30c4\\u30e2\\u30c8\",\"\\u30e9\\u30f3\\u30b9\",\"\\u30e9\\u30f3\\u30dd\",\"\\u30e9\\u30f3\\u30dd\\u30b9\",\"\\u30eb\\u30eb\",\"\\u4e00\\u30ce\\u702c\",\"\\u4e0a\\u539f\",\"\\u4e9c\\u4f9d\",\"\\u5203\\u7259\",\"\\u5ba4\\u4f0f\",\"\\u7435\\u7436\",\"\\u7b11\\u7b11\",\"\\u7bc4\\u99ac\",\"\\u9234\\u6728\"],\"name\":\"\",\"parents\":[\"\",\"\",\"\",\"\",\"\",\"\",\"\",\"\",\"\",\"\",\"\",\"\",\"\",\"\",\"\",\"\",\"\",\"\",\"\",\"\",\"\",\"\",\"\",\"\",\"\",\"\",\"\",\"\",\"\",\"\"],\"values\":[64,95,49,99,41,119,140,36,41,37,75,49,68,35,103,183,49,48,33,614,168,40,83,81,62,48,112,61,62,45],\"type\":\"treemap\"}],                        {\"template\":{\"data\":{\"bar\":[{\"error_x\":{\"color\":\"#2a3f5f\"},\"error_y\":{\"color\":\"#2a3f5f\"},\"marker\":{\"line\":{\"color\":\"#E5ECF6\",\"width\":0.5},\"pattern\":{\"fillmode\":\"overlay\",\"size\":10,\"solidity\":0.2}},\"type\":\"bar\"}],\"barpolar\":[{\"marker\":{\"line\":{\"color\":\"#E5ECF6\",\"width\":0.5},\"pattern\":{\"fillmode\":\"overlay\",\"size\":10,\"solidity\":0.2}},\"type\":\"barpolar\"}],\"carpet\":[{\"aaxis\":{\"endlinecolor\":\"#2a3f5f\",\"gridcolor\":\"white\",\"linecolor\":\"white\",\"minorgridcolor\":\"white\",\"startlinecolor\":\"#2a3f5f\"},\"baxis\":{\"endlinecolor\":\"#2a3f5f\",\"gridcolor\":\"white\",\"linecolor\":\"white\",\"minorgridcolor\":\"white\",\"startlinecolor\":\"#2a3f5f\"},\"type\":\"carpet\"}],\"choropleth\":[{\"colorbar\":{\"outlinewidth\":0,\"ticks\":\"\"},\"type\":\"choropleth\"}],\"contour\":[{\"colorbar\":{\"outlinewidth\":0,\"ticks\":\"\"},\"colorscale\":[[0.0,\"#0d0887\"],[0.1111111111111111,\"#46039f\"],[0.2222222222222222,\"#7201a8\"],[0.3333333333333333,\"#9c179e\"],[0.4444444444444444,\"#bd3786\"],[0.5555555555555556,\"#d8576b\"],[0.6666666666666666,\"#ed7953\"],[0.7777777777777778,\"#fb9f3a\"],[0.8888888888888888,\"#fdca26\"],[1.0,\"#f0f921\"]],\"type\":\"contour\"}],\"contourcarpet\":[{\"colorbar\":{\"outlinewidth\":0,\"ticks\":\"\"},\"type\":\"contourcarpet\"}],\"heatmap\":[{\"colorbar\":{\"outlinewidth\":0,\"ticks\":\"\"},\"colorscale\":[[0.0,\"#0d0887\"],[0.1111111111111111,\"#46039f\"],[0.2222222222222222,\"#7201a8\"],[0.3333333333333333,\"#9c179e\"],[0.4444444444444444,\"#bd3786\"],[0.5555555555555556,\"#d8576b\"],[0.6666666666666666,\"#ed7953\"],[0.7777777777777778,\"#fb9f3a\"],[0.8888888888888888,\"#fdca26\"],[1.0,\"#f0f921\"]],\"type\":\"heatmap\"}],\"heatmapgl\":[{\"colorbar\":{\"outlinewidth\":0,\"ticks\":\"\"},\"colorscale\":[[0.0,\"#0d0887\"],[0.1111111111111111,\"#46039f\"],[0.2222222222222222,\"#7201a8\"],[0.3333333333333333,\"#9c179e\"],[0.4444444444444444,\"#bd3786\"],[0.5555555555555556,\"#d8576b\"],[0.6666666666666666,\"#ed7953\"],[0.7777777777777778,\"#fb9f3a\"],[0.8888888888888888,\"#fdca26\"],[1.0,\"#f0f921\"]],\"type\":\"heatmapgl\"}],\"histogram\":[{\"marker\":{\"pattern\":{\"fillmode\":\"overlay\",\"size\":10,\"solidity\":0.2}},\"type\":\"histogram\"}],\"histogram2d\":[{\"colorbar\":{\"outlinewidth\":0,\"ticks\":\"\"},\"colorscale\":[[0.0,\"#0d0887\"],[0.1111111111111111,\"#46039f\"],[0.2222222222222222,\"#7201a8\"],[0.3333333333333333,\"#9c179e\"],[0.4444444444444444,\"#bd3786\"],[0.5555555555555556,\"#d8576b\"],[0.6666666666666666,\"#ed7953\"],[0.7777777777777778,\"#fb9f3a\"],[0.8888888888888888,\"#fdca26\"],[1.0,\"#f0f921\"]],\"type\":\"histogram2d\"}],\"histogram2dcontour\":[{\"colorbar\":{\"outlinewidth\":0,\"ticks\":\"\"},\"colorscale\":[[0.0,\"#0d0887\"],[0.1111111111111111,\"#46039f\"],[0.2222222222222222,\"#7201a8\"],[0.3333333333333333,\"#9c179e\"],[0.4444444444444444,\"#bd3786\"],[0.5555555555555556,\"#d8576b\"],[0.6666666666666666,\"#ed7953\"],[0.7777777777777778,\"#fb9f3a\"],[0.8888888888888888,\"#fdca26\"],[1.0,\"#f0f921\"]],\"type\":\"histogram2dcontour\"}],\"mesh3d\":[{\"colorbar\":{\"outlinewidth\":0,\"ticks\":\"\"},\"type\":\"mesh3d\"}],\"parcoords\":[{\"line\":{\"colorbar\":{\"outlinewidth\":0,\"ticks\":\"\"}},\"type\":\"parcoords\"}],\"pie\":[{\"automargin\":true,\"type\":\"pie\"}],\"scatter\":[{\"marker\":{\"colorbar\":{\"outlinewidth\":0,\"ticks\":\"\"}},\"type\":\"scatter\"}],\"scatter3d\":[{\"line\":{\"colorbar\":{\"outlinewidth\":0,\"ticks\":\"\"}},\"marker\":{\"colorbar\":{\"outlinewidth\":0,\"ticks\":\"\"}},\"type\":\"scatter3d\"}],\"scattercarpet\":[{\"marker\":{\"colorbar\":{\"outlinewidth\":0,\"ticks\":\"\"}},\"type\":\"scattercarpet\"}],\"scattergeo\":[{\"marker\":{\"colorbar\":{\"outlinewidth\":0,\"ticks\":\"\"}},\"type\":\"scattergeo\"}],\"scattergl\":[{\"marker\":{\"colorbar\":{\"outlinewidth\":0,\"ticks\":\"\"}},\"type\":\"scattergl\"}],\"scattermapbox\":[{\"marker\":{\"colorbar\":{\"outlinewidth\":0,\"ticks\":\"\"}},\"type\":\"scattermapbox\"}],\"scatterpolar\":[{\"marker\":{\"colorbar\":{\"outlinewidth\":0,\"ticks\":\"\"}},\"type\":\"scatterpolar\"}],\"scatterpolargl\":[{\"marker\":{\"colorbar\":{\"outlinewidth\":0,\"ticks\":\"\"}},\"type\":\"scatterpolargl\"}],\"scatterternary\":[{\"marker\":{\"colorbar\":{\"outlinewidth\":0,\"ticks\":\"\"}},\"type\":\"scatterternary\"}],\"surface\":[{\"colorbar\":{\"outlinewidth\":0,\"ticks\":\"\"},\"colorscale\":[[0.0,\"#0d0887\"],[0.1111111111111111,\"#46039f\"],[0.2222222222222222,\"#7201a8\"],[0.3333333333333333,\"#9c179e\"],[0.4444444444444444,\"#bd3786\"],[0.5555555555555556,\"#d8576b\"],[0.6666666666666666,\"#ed7953\"],[0.7777777777777778,\"#fb9f3a\"],[0.8888888888888888,\"#fdca26\"],[1.0,\"#f0f921\"]],\"type\":\"surface\"}],\"table\":[{\"cells\":{\"fill\":{\"color\":\"#EBF0F8\"},\"line\":{\"color\":\"white\"}},\"header\":{\"fill\":{\"color\":\"#C8D4E3\"},\"line\":{\"color\":\"white\"}},\"type\":\"table\"}]},\"layout\":{\"annotationdefaults\":{\"arrowcolor\":\"#2a3f5f\",\"arrowhead\":0,\"arrowwidth\":1},\"autotypenumbers\":\"strict\",\"coloraxis\":{\"colorbar\":{\"outlinewidth\":0,\"ticks\":\"\"}},\"colorscale\":{\"diverging\":[[0,\"#8e0152\"],[0.1,\"#c51b7d\"],[0.2,\"#de77ae\"],[0.3,\"#f1b6da\"],[0.4,\"#fde0ef\"],[0.5,\"#f7f7f7\"],[0.6,\"#e6f5d0\"],[0.7,\"#b8e186\"],[0.8,\"#7fbc41\"],[0.9,\"#4d9221\"],[1,\"#276419\"]],\"sequential\":[[0.0,\"#0d0887\"],[0.1111111111111111,\"#46039f\"],[0.2222222222222222,\"#7201a8\"],[0.3333333333333333,\"#9c179e\"],[0.4444444444444444,\"#bd3786\"],[0.5555555555555556,\"#d8576b\"],[0.6666666666666666,\"#ed7953\"],[0.7777777777777778,\"#fb9f3a\"],[0.8888888888888888,\"#fdca26\"],[1.0,\"#f0f921\"]],\"sequentialminus\":[[0.0,\"#0d0887\"],[0.1111111111111111,\"#46039f\"],[0.2222222222222222,\"#7201a8\"],[0.3333333333333333,\"#9c179e\"],[0.4444444444444444,\"#bd3786\"],[0.5555555555555556,\"#d8576b\"],[0.6666666666666666,\"#ed7953\"],[0.7777777777777778,\"#fb9f3a\"],[0.8888888888888888,\"#fdca26\"],[1.0,\"#f0f921\"]]},\"colorway\":[\"#636efa\",\"#EF553B\",\"#00cc96\",\"#ab63fa\",\"#FFA15A\",\"#19d3f3\",\"#FF6692\",\"#B6E880\",\"#FF97FF\",\"#FECB52\"],\"font\":{\"color\":\"#2a3f5f\"},\"geo\":{\"bgcolor\":\"white\",\"lakecolor\":\"white\",\"landcolor\":\"#E5ECF6\",\"showlakes\":true,\"showland\":true,\"subunitcolor\":\"white\"},\"hoverlabel\":{\"align\":\"left\"},\"hovermode\":\"closest\",\"mapbox\":{\"style\":\"light\"},\"paper_bgcolor\":\"white\",\"plot_bgcolor\":\"#E5ECF6\",\"polar\":{\"angularaxis\":{\"gridcolor\":\"white\",\"linecolor\":\"white\",\"ticks\":\"\"},\"bgcolor\":\"#E5ECF6\",\"radialaxis\":{\"gridcolor\":\"white\",\"linecolor\":\"white\",\"ticks\":\"\"}},\"scene\":{\"xaxis\":{\"backgroundcolor\":\"#E5ECF6\",\"gridcolor\":\"white\",\"gridwidth\":2,\"linecolor\":\"white\",\"showbackground\":true,\"ticks\":\"\",\"zerolinecolor\":\"white\"},\"yaxis\":{\"backgroundcolor\":\"#E5ECF6\",\"gridcolor\":\"white\",\"gridwidth\":2,\"linecolor\":\"white\",\"showbackground\":true,\"ticks\":\"\",\"zerolinecolor\":\"white\"},\"zaxis\":{\"backgroundcolor\":\"#E5ECF6\",\"gridcolor\":\"white\",\"gridwidth\":2,\"linecolor\":\"white\",\"showbackground\":true,\"ticks\":\"\",\"zerolinecolor\":\"white\"}},\"shapedefaults\":{\"line\":{\"color\":\"#2a3f5f\"}},\"ternary\":{\"aaxis\":{\"gridcolor\":\"white\",\"linecolor\":\"white\",\"ticks\":\"\"},\"baxis\":{\"gridcolor\":\"white\",\"linecolor\":\"white\",\"ticks\":\"\"},\"bgcolor\":\"#E5ECF6\",\"caxis\":{\"gridcolor\":\"white\",\"linecolor\":\"white\",\"ticks\":\"\"}},\"title\":{\"x\":0.05},\"xaxis\":{\"automargin\":true,\"gridcolor\":\"white\",\"linecolor\":\"white\",\"ticks\":\"\",\"title\":{\"standoff\":15},\"zerolinecolor\":\"white\",\"zerolinewidth\":2},\"yaxis\":{\"automargin\":true,\"gridcolor\":\"white\",\"linecolor\":\"white\",\"ticks\":\"\",\"title\":{\"standoff\":15},\"zerolinecolor\":\"white\",\"zerolinewidth\":2}}},\"legend\":{\"tracegroupgap\":0},\"margin\":{\"t\":60},\"title\":{\"text\":\"Tree of Most Common Words\"},\"width\":1300,\"height\":600},                        {\"responsive\": true}                    ).then(function(){\n",
       "                            \n",
       "var gd = document.getElementById('40794c16-5f57-4eb1-a1d2-32d91b0d9b49');\n",
       "var x = new MutationObserver(function (mutations, observer) {{\n",
       "        var display = window.getComputedStyle(gd).display;\n",
       "        if (!display || display === 'none') {{\n",
       "            console.log([gd, 'removed!']);\n",
       "            Plotly.purge(gd);\n",
       "            observer.disconnect();\n",
       "        }}\n",
       "}});\n",
       "\n",
       "// Listen for the removal of the full notebook cells\n",
       "var notebookContainer = gd.closest('#notebook-container');\n",
       "if (notebookContainer) {{\n",
       "    x.observe(notebookContainer, {childList: true});\n",
       "}}\n",
       "\n",
       "// Listen for the clearing of the current output cell\n",
       "var outputEl = gd.closest('.output');\n",
       "if (outputEl) {{\n",
       "    x.observe(outputEl, {childList: true});\n",
       "}}\n",
       "\n",
       "                        })                };                });            </script>        </div>"
      ]
     },
     "metadata": {},
     "output_type": "display_data"
    }
   ],
   "source": [
    "npt.treemap(\n",
    "    title='Tree of Most Common Words',\n",
    "    ngram=1,\n",
    "    top_n=30,\n",
    "    stopwords=stopwords,\n",
    ")"
   ]
  },
  {
   "cell_type": "code",
   "execution_count": 39,
   "id": "e666d870",
   "metadata": {},
   "outputs": [
    {
     "data": {
      "image/png": "[encoded data removed]",
      "text/plain": [
       "<IPython.core.display.Image object>"
      ]
     },
     "metadata": {},
     "output_type": "display_data"
    }
   ],
   "source": [
    "#nlplotのwordcloudを使用して可視化させる\n",
    "npt.wordcloud(\n",
    "    stopwords=stopwords, #設定したストップワードを排除\n",
    "    max_words=100,\n",
    "    max_font_size=100,\n",
    "    colormap='tab20_r',\n",
    "    save=True\n",
    ")"
   ]
  },
  {
   "cell_type": "code",
   "execution_count": 40,
   "id": "b5e59ae3",
   "metadata": {},
   "outputs": [
    {
     "name": "stdout",
     "output_type": "stream",
     "text": [
      "node_size:43, edge_size:25\n"
     ]
    }
   ],
   "source": [
    "npt.build_graph(stopwords=stopwords, min_edge_frequency=1)\n",
    "#npt.edge_df.head()"
   ]
  },
  {
   "cell_type": "code",
   "execution_count": 41,
   "id": "aa86e65d",
   "metadata": {},
   "outputs": [
    {
     "data": {
      "application/vnd.plotly.v1+json": {
       "config": {
        "linkText": "Export to plot.ly",
        "plotlyServerURL": "https://plot.ly",
        "showLink": false
       },
       "data": [
        {
         "line": {
          "shape": "spline",
          "width": 1.2
         },
         "marker": {
          "color": "#ece8e8"
         },
         "mode": "lines",
         "opacity": 1,
         "type": "scatter",
         "x": [
          1,
          0.12789768773326268,
          null
         ],
         "y": [
          0.1252147276488049,
          0.07605921715248924,
          null
         ]
        },
        {
         "line": {
          "shape": "spline",
          "width": 1.2
         },
         "marker": {
          "color": "#ece8e8"
         },
         "mode": "lines",
         "opacity": 1,
         "type": "scatter",
         "x": [
          1,
          0.5332820034328475,
          null
         ],
         "y": [
          0.1252147276488049,
          0.8497936756851301,
          null
         ]
        },
        {
         "line": {
          "shape": "spline",
          "width": 1.2
         },
         "marker": {
          "color": "#ece8e8"
         },
         "mode": "lines",
         "opacity": 1,
         "type": "scatter",
         "x": [
          0.6203298252144384,
          -0.04404947708310913,
          null
         ],
         "y": [
          -0.06979641843151109,
          -0.6226614784053238,
          null
         ]
        },
        {
         "line": {
          "shape": "spline",
          "width": 1.2
         },
         "marker": {
          "color": "#ece8e8"
         },
         "mode": "lines",
         "opacity": 1,
         "type": "scatter",
         "x": [
          0.8374903317412462,
          0.71165465697351,
          null
         ],
         "y": [
          0.3135697560476964,
          -0.5415468061153458,
          null
         ]
        },
        {
         "line": {
          "shape": "spline",
          "width": 1.2
         },
         "marker": {
          "color": "#ece8e8"
         },
         "mode": "lines",
         "opacity": 1,
         "type": "scatter",
         "x": [
          0.6502590042675034,
          0.22724609774181315,
          null
         ],
         "y": [
          0.13063501827270227,
          -0.6231013279637354,
          null
         ]
        },
        {
         "line": {
          "shape": "spline",
          "width": 1.2
         },
         "marker": {
          "color": "#ece8e8"
         },
         "mode": "lines",
         "opacity": 1,
         "type": "scatter",
         "x": [
          0.3635453060329727,
          -0.48640576647999734,
          null
         ],
         "y": [
          0.4110317041374427,
          0.2540551174419853,
          null
         ]
        },
        {
         "line": {
          "shape": "spline",
          "width": 1.2
         },
         "marker": {
          "color": "#ece8e8"
         },
         "mode": "lines",
         "opacity": 1,
         "type": "scatter",
         "x": [
          0.4116654738380254,
          -0.45208442798472825,
          null
         ],
         "y": [
          0.5685071563751916,
          0.5369595011335646,
          null
         ]
        },
        {
         "line": {
          "shape": "spline",
          "width": 1.2
         },
         "marker": {
          "color": "#ece8e8"
         },
         "mode": "lines",
         "opacity": 1,
         "type": "scatter",
         "x": [
          0.5619290019718652,
          -0.2880200379756192,
          null
         ],
         "y": [
          0.6629768222470687,
          0.8199730640192674,
          null
         ]
        },
        {
         "line": {
          "shape": "spline",
          "width": 1.2
         },
         "marker": {
          "color": "#ece8e8"
         },
         "mode": "lines",
         "opacity": 1,
         "type": "scatter",
         "x": [
          0.6275453913575877,
          -0.2086784080890957,
          null
         ],
         "y": [
          0.691762031870503,
          0.9103767793478366,
          null
         ]
        },
        {
         "line": {
          "shape": "spline",
          "width": 1.2
         },
         "marker": {
          "color": "#ece8e8"
         },
         "mode": "lines",
         "opacity": 1,
         "type": "scatter",
         "x": [
          0.4334523868704636,
          -0.325232083192111,
          null
         ],
         "y": [
          0.7764613376060373,
          0.36240448115654234,
          null
         ]
        },
        {
         "line": {
          "shape": "spline",
          "width": 1.2
         },
         "marker": {
          "color": "#ece8e8"
         },
         "mode": "lines",
         "opacity": 1,
         "type": "scatter",
         "x": [
          0.4334523868704636,
          0.4126985975097797,
          null
         ],
         "y": [
          0.7764613376060373,
          -0.08760847655138135,
          null
         ]
        },
        {
         "line": {
          "shape": "spline",
          "width": 1.2
         },
         "marker": {
          "color": "#ece8e8"
         },
         "mode": "lines",
         "opacity": 1,
         "type": "scatter",
         "x": [
          0.5332820034328475,
          0.12789768773326268,
          null
         ],
         "y": [
          0.8497936756851301,
          0.07605921715248924,
          null
         ]
        },
        {
         "line": {
          "shape": "spline",
          "width": 1.2
         },
         "marker": {
          "color": "#ece8e8"
         },
         "mode": "lines",
         "opacity": 1,
         "type": "scatter",
         "x": [
          0.17852151086038676,
          0.366473474213831,
          null
         ],
         "y": [
          0.48252078338063376,
          -0.36112186186292533,
          null
         ]
        },
        {
         "line": {
          "shape": "spline",
          "width": 1.2
         },
         "marker": {
          "color": "#ece8e8"
         },
         "mode": "lines",
         "opacity": 1,
         "type": "scatter",
         "x": [
          -0.23611391815731608,
          -0.42403809018748223,
          null
         ],
         "y": [
          0.49535753392420795,
          -0.3482909591168473,
          null
         ]
        },
        {
         "line": {
          "shape": "spline",
          "width": 1.2
         },
         "marker": {
          "color": "#ece8e8"
         },
         "mode": "lines",
         "opacity": 1,
         "type": "scatter",
         "x": [
          -0.08033798995792464,
          -0.8181283033418234,
          null
         ],
         "y": [
          0.9612229242355236,
          0.5109700021257017,
          null
         ]
        },
        {
         "line": {
          "shape": "spline",
          "width": 1.2
         },
         "marker": {
          "color": "#ece8e8"
         },
         "mode": "lines",
         "opacity": 1,
         "type": "scatter",
         "x": [
          -0.325232083192111,
          0.4126985975097797,
          null
         ],
         "y": [
          0.36240448115654234,
          -0.08760847655138135,
          null
         ]
        },
        {
         "line": {
          "shape": "spline",
          "width": 1.2
         },
         "marker": {
          "color": "#ece8e8"
         },
         "mode": "lines",
         "opacity": 1,
         "type": "scatter",
         "x": [
          -0.7540292083537286,
          -0.7540311606826792,
          null
         ],
         "y": [
          0.43216344643347415,
          -0.432162739068908,
          null
         ]
        },
        {
         "line": {
          "shape": "spline",
          "width": 1.2
         },
         "marker": {
          "color": "#ece8e8"
         },
         "mode": "lines",
         "opacity": 1,
         "type": "scatter",
         "x": [
          -0.5828532984508091,
          -0.006061023545632852,
          null
         ],
         "y": [
          0.0580375594880748,
          -0.5856778387190932,
          null
         ]
        },
        {
         "line": {
          "shape": "spline",
          "width": 1.2
         },
         "marker": {
          "color": "#ece8e8"
         },
         "mode": "lines",
         "opacity": 1,
         "type": "scatter",
         "x": [
          -0.6122167991911401,
          0.12789768773326268,
          null
         ],
         "y": [
          -0.4005089183476065,
          0.07605921715248924,
          null
         ]
        },
        {
         "line": {
          "shape": "spline",
          "width": 1.2
         },
         "marker": {
          "color": "#ece8e8"
         },
         "mode": "lines",
         "opacity": 1,
         "type": "scatter",
         "x": [
          -0.435320137846137,
          0.42842817108586767,
          null
         ],
         "y": [
          -0.07871758883182546,
          -0.11029660064804707,
          null
         ]
        },
        {
         "line": {
          "shape": "spline",
          "width": 1.2
         },
         "marker": {
          "color": "#ece8e8"
         },
         "mode": "lines",
         "opacity": 1,
         "type": "scatter",
         "x": [
          -0.9476065106394825,
          -0.5807360432796512,
          null
         ],
         "y": [
          0.033077207037258305,
          -0.7495261539297252,
          null
         ]
        },
        {
         "line": {
          "shape": "spline",
          "width": 1.2
         },
         "marker": {
          "color": "#ece8e8"
         },
         "mode": "lines",
         "opacity": 1,
         "type": "scatter",
         "x": [
          -0.6324473540720689,
          0.16302923758005125,
          null
         ],
         "y": [
          -0.38331450945901097,
          -0.7213654029946516,
          null
         ]
        },
        {
         "line": {
          "shape": "spline",
          "width": 1.2
         },
         "marker": {
          "color": "#ece8e8"
         },
         "mode": "lines",
         "opacity": 1,
         "type": "scatter",
         "x": [
          -0.8492262686643067,
          -0.14627901058195977,
          null
         ],
         "y": [
          -0.4442638762754583,
          -0.9471840406241323,
          null
         ]
        },
        {
         "line": {
          "shape": "spline",
          "width": 1.2
         },
         "marker": {
          "color": "#ece8e8"
         },
         "mode": "lines",
         "opacity": 1,
         "type": "scatter",
         "x": [
          -0.22009715269050661,
          0.6161298683920076,
          null
         ],
         "y": [
          -0.8667481179174261,
          -0.6481494370298146,
          null
         ]
        },
        {
         "line": {
          "shape": "spline",
          "width": 1.2
         },
         "marker": {
          "color": "#ece8e8"
         },
         "mode": "lines",
         "opacity": 1,
         "type": "scatter",
         "x": [
          -0.09153251907507691,
          0.7039469627049253,
          null
         ],
         "y": [
          -0.8895645940021644,
          -0.5515227004722015,
          null
         ]
        },
        {
         "hoverinfo": "text",
         "hovertext": [],
         "marker": {
          "color": [
           "rgb(220.16,95.0272,87.03999999999999)",
           "rgb(87.03999999999999,172.23679999999993,220.16)",
           "rgb(220.16,87.03999999999999,158.92479999999998)",
           "rgb(87.03999999999999,132.30079999999987,220.16)",
           "rgb(105.67679999999999,220.16,87.03999999999999)",
           "rgb(145.61280000000002,220.16,87.03999999999999)",
           "rgb(220.16,214.83520000000004,87.03999999999999)",
           "rgb(220.16,174.8992,87.03999999999999)",
           "rgb(220.16,134.9632,87.03999999999999)",
           "rgb(220.16,95.0272,87.03999999999999)",
           "rgb(161.58719999999994,87.03999999999999,220.16)",
           "rgb(220.16,174.8992,87.03999999999999)",
           "rgb(87.03999999999999,220.16,188.21120000000002)",
           "rgb(220.16,214.83520000000004,87.03999999999999)",
           "rgb(185.54879999999997,220.16,87.03999999999999)",
           "rgb(185.54879999999997,220.16,87.03999999999999)",
           "rgb(220.16,134.9632,87.03999999999999)",
           "rgb(145.61280000000002,220.16,87.03999999999999)",
           "rgb(87.03999999999999,220.16,108.33920000000003)",
           "rgb(87.03999999999999,92.36479999999993,220.16)",
           "rgb(105.67679999999999,220.16,87.03999999999999)",
           "rgb(220.16,95.0272,87.03999999999999)",
           "rgb(220.16,87.03999999999999,118.98879999999994)",
           "rgb(87.03999999999999,220.16,148.27520000000004)",
           "rgb(121.65120000000007,87.03999999999999,220.16)",
           "rgb(87.03999999999999,220.16,108.33920000000003)",
           "rgb(87.03999999999999,220.16,148.27520000000004)",
           "rgb(87.03999999999999,212.17279999999997,220.16)",
           "rgb(87.03999999999999,220.16,188.21120000000002)",
           "rgb(87.03999999999999,212.17279999999997,220.16)",
           "rgb(87.03999999999999,172.23679999999993,220.16)",
           "rgb(201.52319999999997,87.03999999999999,220.16)",
           "rgb(220.16,87.03999999999999,198.8607999999998)",
           "rgb(87.03999999999999,132.30079999999987,220.16)",
           "rgb(87.03999999999999,92.36479999999993,220.16)",
           "rgb(121.65120000000007,87.03999999999999,220.16)",
           "rgb(161.58719999999994,87.03999999999999,220.16)",
           "rgb(201.52319999999997,87.03999999999999,220.16)",
           "rgb(220.16,87.03999999999999,198.8607999999998)",
           "rgb(220.16,87.03999999999999,158.92479999999998)",
           "rgb(220.16,134.9632,87.03999999999999)",
           "rgb(220.16,95.0272,87.03999999999999)",
           "rgb(220.16,87.03999999999999,118.98879999999994)"
          ],
          "line": {
           "color": "#ece8e8",
           "width": 0.5
          },
          "size": [
           50,
           0,
           0,
           0,
           0,
           0,
           0,
           0,
           50,
           50,
           0,
           0,
           0,
           0,
           0,
           0,
           50,
           0,
           0,
           0,
           0,
           0,
           0,
           0,
           0,
           0,
           0,
           0,
           0,
           0,
           0,
           0,
           0,
           0,
           0,
           0,
           0,
           0,
           0,
           0,
           50,
           100,
           0
          ]
         },
         "mode": "markers+text",
         "text": [
          "ギィ",
          "ティガ",
          "ジョー",
          "石",
          "高田",
          "刃牙",
          "識",
          "上原",
          "ホロ",
          "ドス",
          "光一郎",
          "亜依",
          "ランポ",
          "龍",
          "ロス",
          "ロアルド",
          "ホル",
          "範馬",
          "アトラ",
          "大和",
          "健志",
          "ギイ",
          "マツモト",
          "耳なし",
          "吉田",
          "ルカ",
          "芳一",
          "鈴木",
          "ランポス",
          "このみ",
          "レックス",
          "グン",
          "バルド",
          "護",
          "海野",
          "沙保里",
          "加藤",
          "ショウ",
          "ディノ",
          "ジョーイ",
          "ルル",
          "ジャギ",
          "キヨシ"
         ],
         "textposition": "bottom center",
         "type": "scatter",
         "x": [
          1,
          0.6203298252144384,
          0.8374903317412462,
          0.6502590042675034,
          0.3635453060329727,
          0.4116654738380254,
          0.5619290019718652,
          0.6275453913575877,
          0.4334523868704636,
          0.5332820034328475,
          0.17852151086038676,
          -0.2086784080890957,
          -0.23611391815731608,
          -0.2880200379756192,
          -0.08033798995792464,
          -0.8181283033418234,
          -0.325232083192111,
          -0.45208442798472825,
          -0.7540292083537286,
          -0.5828532984508091,
          -0.48640576647999734,
          -0.6122167991911401,
          -0.435320137846137,
          -0.9476065106394825,
          -0.6324473540720689,
          -0.7540311606826792,
          -0.5807360432796512,
          -0.8492262686643067,
          -0.42403809018748223,
          -0.14627901058195977,
          -0.04404947708310913,
          -0.22009715269050661,
          -0.09153251907507691,
          0.22724609774181315,
          -0.006061023545632852,
          0.16302923758005125,
          0.366473474213831,
          0.6161298683920076,
          0.7039469627049253,
          0.71165465697351,
          0.4126985975097797,
          0.12789768773326268,
          0.42842817108586767
         ],
         "y": [
          0.1252147276488049,
          -0.06979641843151109,
          0.3135697560476964,
          0.13063501827270227,
          0.4110317041374427,
          0.5685071563751916,
          0.6629768222470687,
          0.691762031870503,
          0.7764613376060373,
          0.8497936756851301,
          0.48252078338063376,
          0.9103767793478366,
          0.49535753392420795,
          0.8199730640192674,
          0.9612229242355236,
          0.5109700021257017,
          0.36240448115654234,
          0.5369595011335646,
          0.43216344643347415,
          0.0580375594880748,
          0.2540551174419853,
          -0.4005089183476065,
          -0.07871758883182546,
          0.033077207037258305,
          -0.38331450945901097,
          -0.432162739068908,
          -0.7495261539297252,
          -0.4442638762754583,
          -0.3482909591168473,
          -0.9471840406241323,
          -0.6226614784053238,
          -0.8667481179174261,
          -0.8895645940021644,
          -0.6231013279637354,
          -0.5856778387190932,
          -0.7213654029946516,
          -0.36112186186292533,
          -0.6481494370298146,
          -0.5515227004722015,
          -0.5415468061153458,
          -0.08760847655138135,
          0.07605921715248924,
          -0.11029660064804707
         ]
        }
       ],
       "layout": {
        "autosize": true,
        "font": {
         "family": "Arial",
         "size": 12
        },
        "height": 1200,
        "hovermode": "closest",
        "margin": {
         "b": 85,
         "l": 40,
         "pad": 0,
         "r": 40,
         "t": 100
        },
        "plot_bgcolor": "#ffffff",
        "showlegend": false,
        "template": {
         "data": {
          "bar": [
           {
            "error_x": {
             "color": "#2a3f5f"
            },
            "error_y": {
             "color": "#2a3f5f"
            },
            "marker": {
             "line": {
              "color": "#E5ECF6",
              "width": 0.5
             },
             "pattern": {
              "fillmode": "overlay",
              "size": 10,
              "solidity": 0.2
             }
            },
            "type": "bar"
           }
          ],
          "barpolar": [
           {
            "marker": {
             "line": {
              "color": "#E5ECF6",
              "width": 0.5
             },
             "pattern": {
              "fillmode": "overlay",
              "size": 10,
              "solidity": 0.2
             }
            },
            "type": "barpolar"
           }
          ],
          "carpet": [
           {
            "aaxis": {
             "endlinecolor": "#2a3f5f",
             "gridcolor": "white",
             "linecolor": "white",
             "minorgridcolor": "white",
             "startlinecolor": "#2a3f5f"
            },
            "baxis": {
             "endlinecolor": "#2a3f5f",
             "gridcolor": "white",
             "linecolor": "white",
             "minorgridcolor": "white",
             "startlinecolor": "#2a3f5f"
            },
            "type": "carpet"
           }
          ],
          "choropleth": [
           {
            "colorbar": {
             "outlinewidth": 0,
             "ticks": ""
            },
            "type": "choropleth"
           }
          ],
          "contour": [
           {
            "colorbar": {
             "outlinewidth": 0,
             "ticks": ""
            },
            "colorscale": [
             [
              0,
              "#0d0887"
             ],
             [
              0.1111111111111111,
              "#46039f"
             ],
             [
              0.2222222222222222,
              "#7201a8"
             ],
             [
              0.3333333333333333,
              "#9c179e"
             ],
             [
              0.4444444444444444,
              "#bd3786"
             ],
             [
              0.5555555555555556,
              "#d8576b"
             ],
             [
              0.6666666666666666,
              "#ed7953"
             ],
             [
              0.7777777777777778,
              "#fb9f3a"
             ],
             [
              0.8888888888888888,
              "#fdca26"
             ],
             [
              1,
              "#f0f921"
             ]
            ],
            "type": "contour"
           }
          ],
          "contourcarpet": [
           {
            "colorbar": {
             "outlinewidth": 0,
             "ticks": ""
            },
            "type": "contourcarpet"
           }
          ],
          "heatmap": [
           {
            "colorbar": {
             "outlinewidth": 0,
             "ticks": ""
            },
            "colorscale": [
             [
              0,
              "#0d0887"
             ],
             [
              0.1111111111111111,
              "#46039f"
             ],
             [
              0.2222222222222222,
              "#7201a8"
             ],
             [
              0.3333333333333333,
              "#9c179e"
             ],
             [
              0.4444444444444444,
              "#bd3786"
             ],
             [
              0.5555555555555556,
              "#d8576b"
             ],
             [
              0.6666666666666666,
              "#ed7953"
             ],
             [
              0.7777777777777778,
              "#fb9f3a"
             ],
             [
              0.8888888888888888,
              "#fdca26"
             ],
             [
              1,
              "#f0f921"
             ]
            ],
            "type": "heatmap"
           }
          ],
          "heatmapgl": [
           {
            "colorbar": {
             "outlinewidth": 0,
             "ticks": ""
            },
            "colorscale": [
             [
              0,
              "#0d0887"
             ],
             [
              0.1111111111111111,
              "#46039f"
             ],
             [
              0.2222222222222222,
              "#7201a8"
             ],
             [
              0.3333333333333333,
              "#9c179e"
             ],
             [
              0.4444444444444444,
              "#bd3786"
             ],
             [
              0.5555555555555556,
              "#d8576b"
             ],
             [
              0.6666666666666666,
              "#ed7953"
             ],
             [
              0.7777777777777778,
              "#fb9f3a"
             ],
             [
              0.8888888888888888,
              "#fdca26"
             ],
             [
              1,
              "#f0f921"
             ]
            ],
            "type": "heatmapgl"
           }
          ],
          "histogram": [
           {
            "marker": {
             "pattern": {
              "fillmode": "overlay",
              "size": 10,
              "solidity": 0.2
             }
            },
            "type": "histogram"
           }
          ],
          "histogram2d": [
           {
            "colorbar": {
             "outlinewidth": 0,
             "ticks": ""
            },
            "colorscale": [
             [
              0,
              "#0d0887"
             ],
             [
              0.1111111111111111,
              "#46039f"
             ],
             [
              0.2222222222222222,
              "#7201a8"
             ],
             [
              0.3333333333333333,
              "#9c179e"
             ],
             [
              0.4444444444444444,
              "#bd3786"
             ],
             [
              0.5555555555555556,
              "#d8576b"
             ],
             [
              0.6666666666666666,
              "#ed7953"
             ],
             [
              0.7777777777777778,
              "#fb9f3a"
             ],
             [
              0.8888888888888888,
              "#fdca26"
             ],
             [
              1,
              "#f0f921"
             ]
            ],
            "type": "histogram2d"
           }
          ],
          "histogram2dcontour": [
           {
            "colorbar": {
             "outlinewidth": 0,
             "ticks": ""
            },
            "colorscale": [
             [
              0,
              "#0d0887"
             ],
             [
              0.1111111111111111,
              "#46039f"
             ],
             [
              0.2222222222222222,
              "#7201a8"
             ],
             [
              0.3333333333333333,
              "#9c179e"
             ],
             [
              0.4444444444444444,
              "#bd3786"
             ],
             [
              0.5555555555555556,
              "#d8576b"
             ],
             [
              0.6666666666666666,
              "#ed7953"
             ],
             [
              0.7777777777777778,
              "#fb9f3a"
             ],
             [
              0.8888888888888888,
              "#fdca26"
             ],
             [
              1,
              "#f0f921"
             ]
            ],
            "type": "histogram2dcontour"
           }
          ],
          "mesh3d": [
           {
            "colorbar": {
             "outlinewidth": 0,
             "ticks": ""
            },
            "type": "mesh3d"
           }
          ],
          "parcoords": [
           {
            "line": {
             "colorbar": {
              "outlinewidth": 0,
              "ticks": ""
             }
            },
            "type": "parcoords"
           }
          ],
          "pie": [
           {
            "automargin": true,
            "type": "pie"
           }
          ],
          "scatter": [
           {
            "marker": {
             "colorbar": {
              "outlinewidth": 0,
              "ticks": ""
             }
            },
            "type": "scatter"
           }
          ],
          "scatter3d": [
           {
            "line": {
             "colorbar": {
              "outlinewidth": 0,
              "ticks": ""
             }
            },
            "marker": {
             "colorbar": {
              "outlinewidth": 0,
              "ticks": ""
             }
            },
            "type": "scatter3d"
           }
          ],
          "scattercarpet": [
           {
            "marker": {
             "colorbar": {
              "outlinewidth": 0,
              "ticks": ""
             }
            },
            "type": "scattercarpet"
           }
          ],
          "scattergeo": [
           {
            "marker": {
             "colorbar": {
              "outlinewidth": 0,
              "ticks": ""
             }
            },
            "type": "scattergeo"
           }
          ],
          "scattergl": [
           {
            "marker": {
             "colorbar": {
              "outlinewidth": 0,
              "ticks": ""
             }
            },
            "type": "scattergl"
           }
          ],
          "scattermapbox": [
           {
            "marker": {
             "colorbar": {
              "outlinewidth": 0,
              "ticks": ""
             }
            },
            "type": "scattermapbox"
           }
          ],
          "scatterpolar": [
           {
            "marker": {
             "colorbar": {
              "outlinewidth": 0,
              "ticks": ""
             }
            },
            "type": "scatterpolar"
           }
          ],
          "scatterpolargl": [
           {
            "marker": {
             "colorbar": {
              "outlinewidth": 0,
              "ticks": ""
             }
            },
            "type": "scatterpolargl"
           }
          ],
          "scatterternary": [
           {
            "marker": {
             "colorbar": {
              "outlinewidth": 0,
              "ticks": ""
             }
            },
            "type": "scatterternary"
           }
          ],
          "surface": [
           {
            "colorbar": {
             "outlinewidth": 0,
             "ticks": ""
            },
            "colorscale": [
             [
              0,
              "#0d0887"
             ],
             [
              0.1111111111111111,
              "#46039f"
             ],
             [
              0.2222222222222222,
              "#7201a8"
             ],
             [
              0.3333333333333333,
              "#9c179e"
             ],
             [
              0.4444444444444444,
              "#bd3786"
             ],
             [
              0.5555555555555556,
              "#d8576b"
             ],
             [
              0.6666666666666666,
              "#ed7953"
             ],
             [
              0.7777777777777778,
              "#fb9f3a"
             ],
             [
              0.8888888888888888,
              "#fdca26"
             ],
             [
              1,
              "#f0f921"
             ]
            ],
            "type": "surface"
           }
          ],
          "table": [
           {
            "cells": {
             "fill": {
              "color": "#EBF0F8"
             },
             "line": {
              "color": "white"
             }
            },
            "header": {
             "fill": {
              "color": "#C8D4E3"
             },
             "line": {
              "color": "white"
             }
            },
            "type": "table"
           }
          ]
         },
         "layout": {
          "annotationdefaults": {
           "arrowcolor": "#2a3f5f",
           "arrowhead": 0,
           "arrowwidth": 1
          },
          "autotypenumbers": "strict",
          "coloraxis": {
           "colorbar": {
            "outlinewidth": 0,
            "ticks": ""
           }
          },
          "colorscale": {
           "diverging": [
            [
             0,
             "#8e0152"
            ],
            [
             0.1,
             "#c51b7d"
            ],
            [
             0.2,
             "#de77ae"
            ],
            [
             0.3,
             "#f1b6da"
            ],
            [
             0.4,
             "#fde0ef"
            ],
            [
             0.5,
             "#f7f7f7"
            ],
            [
             0.6,
             "#e6f5d0"
            ],
            [
             0.7,
             "#b8e186"
            ],
            [
             0.8,
             "#7fbc41"
            ],
            [
             0.9,
             "#4d9221"
            ],
            [
             1,
             "#276419"
            ]
           ],
           "sequential": [
            [
             0,
             "#0d0887"
            ],
            [
             0.1111111111111111,
             "#46039f"
            ],
            [
             0.2222222222222222,
             "#7201a8"
            ],
            [
             0.3333333333333333,
             "#9c179e"
            ],
            [
             0.4444444444444444,
             "#bd3786"
            ],
            [
             0.5555555555555556,
             "#d8576b"
            ],
            [
             0.6666666666666666,
             "#ed7953"
            ],
            [
             0.7777777777777778,
             "#fb9f3a"
            ],
            [
             0.8888888888888888,
             "#fdca26"
            ],
            [
             1,
             "#f0f921"
            ]
           ],
           "sequentialminus": [
            [
             0,
             "#0d0887"
            ],
            [
             0.1111111111111111,
             "#46039f"
            ],
            [
             0.2222222222222222,
             "#7201a8"
            ],
            [
             0.3333333333333333,
             "#9c179e"
            ],
            [
             0.4444444444444444,
             "#bd3786"
            ],
            [
             0.5555555555555556,
             "#d8576b"
            ],
            [
             0.6666666666666666,
             "#ed7953"
            ],
            [
             0.7777777777777778,
             "#fb9f3a"
            ],
            [
             0.8888888888888888,
             "#fdca26"
            ],
            [
             1,
             "#f0f921"
            ]
           ]
          },
          "colorway": [
           "#636efa",
           "#EF553B",
           "#00cc96",
           "#ab63fa",
           "#FFA15A",
           "#19d3f3",
           "#FF6692",
           "#B6E880",
           "#FF97FF",
           "#FECB52"
          ],
          "font": {
           "color": "#2a3f5f"
          },
          "geo": {
           "bgcolor": "white",
           "lakecolor": "white",
           "landcolor": "#E5ECF6",
           "showlakes": true,
           "showland": true,
           "subunitcolor": "white"
          },
          "hoverlabel": {
           "align": "left"
          },
          "hovermode": "closest",
          "mapbox": {
           "style": "light"
          },
          "paper_bgcolor": "white",
          "plot_bgcolor": "#E5ECF6",
          "polar": {
           "angularaxis": {
            "gridcolor": "white",
            "linecolor": "white",
            "ticks": ""
           },
           "bgcolor": "#E5ECF6",
           "radialaxis": {
            "gridcolor": "white",
            "linecolor": "white",
            "ticks": ""
           }
          },
          "scene": {
           "xaxis": {
            "backgroundcolor": "#E5ECF6",
            "gridcolor": "white",
            "gridwidth": 2,
            "linecolor": "white",
            "showbackground": true,
            "ticks": "",
            "zerolinecolor": "white"
           },
           "yaxis": {
            "backgroundcolor": "#E5ECF6",
            "gridcolor": "white",
            "gridwidth": 2,
            "linecolor": "white",
            "showbackground": true,
            "ticks": "",
            "zerolinecolor": "white"
           },
           "zaxis": {
            "backgroundcolor": "#E5ECF6",
            "gridcolor": "white",
            "gridwidth": 2,
            "linecolor": "white",
            "showbackground": true,
            "ticks": "",
            "zerolinecolor": "white"
           }
          },
          "shapedefaults": {
           "line": {
            "color": "#2a3f5f"
           }
          },
          "ternary": {
           "aaxis": {
            "gridcolor": "white",
            "linecolor": "white",
            "ticks": ""
           },
           "baxis": {
            "gridcolor": "white",
            "linecolor": "white",
            "ticks": ""
           },
           "bgcolor": "#E5ECF6",
           "caxis": {
            "gridcolor": "white",
            "linecolor": "white",
            "ticks": ""
           }
          },
          "title": {
           "x": 0.05
          },
          "xaxis": {
           "automargin": true,
           "gridcolor": "white",
           "linecolor": "white",
           "ticks": "",
           "title": {
            "standoff": 15
           },
           "zerolinecolor": "white",
           "zerolinewidth": 2
          },
          "yaxis": {
           "automargin": true,
           "gridcolor": "white",
           "linecolor": "white",
           "ticks": "",
           "title": {
            "standoff": 15
           },
           "zerolinecolor": "white",
           "zerolinewidth": 2
          }
         }
        },
        "title": {
         "text": "Co-occurrence network"
        },
        "width": 1700,
        "xaxis": {
         "autorange": true,
         "range": [
          -1.0625135848405125,
          1.153551417607924
         ],
         "showgrid": false,
         "showline": false,
         "showticklabels": false,
         "title": {
          "text": ""
         },
         "type": "linear",
         "zeroline": false
        },
        "yaxis": {
         "autorange": true,
         "range": [
          -1.0602164090662332,
          1.0742552926776243
         ],
         "showgrid": false,
         "showline": false,
         "showticklabels": false,
         "title": {
          "text": ""
         },
         "type": "linear",
         "zeroline": false
        }
       }
      },
      "image/png": "[encoded data removed]",
      "text/html": [
       "<div>                            <div id=\"fdb8d64c-bfb8-4d36-a764-7ed9c13127f6\" class=\"plotly-graph-div\" style=\"height:1200px; width:1700px;\"></div>            <script type=\"text/javascript\">                require([\"plotly\"], function(Plotly) {                    window.PLOTLYENV=window.PLOTLYENV || {};                                    if (document.getElementById(\"fdb8d64c-bfb8-4d36-a764-7ed9c13127f6\")) {                    Plotly.newPlot(                        \"fdb8d64c-bfb8-4d36-a764-7ed9c13127f6\",                        [{\"line\":{\"shape\":\"spline\",\"width\":1.2},\"marker\":{\"color\":\"#ece8e8\"},\"mode\":\"lines\",\"opacity\":1,\"x\":[1.0,0.12789768773326268,null],\"y\":[0.1252147276488049,0.07605921715248924,null],\"type\":\"scatter\"},{\"line\":{\"shape\":\"spline\",\"width\":1.2},\"marker\":{\"color\":\"#ece8e8\"},\"mode\":\"lines\",\"opacity\":1,\"x\":[1.0,0.5332820034328475,null],\"y\":[0.1252147276488049,0.8497936756851301,null],\"type\":\"scatter\"},{\"line\":{\"shape\":\"spline\",\"width\":1.2},\"marker\":{\"color\":\"#ece8e8\"},\"mode\":\"lines\",\"opacity\":1,\"x\":[0.6203298252144384,-0.04404947708310913,null],\"y\":[-0.06979641843151109,-0.6226614784053238,null],\"type\":\"scatter\"},{\"line\":{\"shape\":\"spline\",\"width\":1.2},\"marker\":{\"color\":\"#ece8e8\"},\"mode\":\"lines\",\"opacity\":1,\"x\":[0.8374903317412462,0.71165465697351,null],\"y\":[0.3135697560476964,-0.5415468061153458,null],\"type\":\"scatter\"},{\"line\":{\"shape\":\"spline\",\"width\":1.2},\"marker\":{\"color\":\"#ece8e8\"},\"mode\":\"lines\",\"opacity\":1,\"x\":[0.6502590042675034,0.22724609774181315,null],\"y\":[0.13063501827270227,-0.6231013279637354,null],\"type\":\"scatter\"},{\"line\":{\"shape\":\"spline\",\"width\":1.2},\"marker\":{\"color\":\"#ece8e8\"},\"mode\":\"lines\",\"opacity\":1,\"x\":[0.3635453060329727,-0.48640576647999734,null],\"y\":[0.4110317041374427,0.2540551174419853,null],\"type\":\"scatter\"},{\"line\":{\"shape\":\"spline\",\"width\":1.2},\"marker\":{\"color\":\"#ece8e8\"},\"mode\":\"lines\",\"opacity\":1,\"x\":[0.4116654738380254,-0.45208442798472825,null],\"y\":[0.5685071563751916,0.5369595011335646,null],\"type\":\"scatter\"},{\"line\":{\"shape\":\"spline\",\"width\":1.2},\"marker\":{\"color\":\"#ece8e8\"},\"mode\":\"lines\",\"opacity\":1,\"x\":[0.5619290019718652,-0.2880200379756192,null],\"y\":[0.6629768222470687,0.8199730640192674,null],\"type\":\"scatter\"},{\"line\":{\"shape\":\"spline\",\"width\":1.2},\"marker\":{\"color\":\"#ece8e8\"},\"mode\":\"lines\",\"opacity\":1,\"x\":[0.6275453913575877,-0.2086784080890957,null],\"y\":[0.691762031870503,0.9103767793478366,null],\"type\":\"scatter\"},{\"line\":{\"shape\":\"spline\",\"width\":1.2},\"marker\":{\"color\":\"#ece8e8\"},\"mode\":\"lines\",\"opacity\":1,\"x\":[0.4334523868704636,-0.325232083192111,null],\"y\":[0.7764613376060373,0.36240448115654234,null],\"type\":\"scatter\"},{\"line\":{\"shape\":\"spline\",\"width\":1.2},\"marker\":{\"color\":\"#ece8e8\"},\"mode\":\"lines\",\"opacity\":1,\"x\":[0.4334523868704636,0.4126985975097797,null],\"y\":[0.7764613376060373,-0.08760847655138135,null],\"type\":\"scatter\"},{\"line\":{\"shape\":\"spline\",\"width\":1.2},\"marker\":{\"color\":\"#ece8e8\"},\"mode\":\"lines\",\"opacity\":1,\"x\":[0.5332820034328475,0.12789768773326268,null],\"y\":[0.8497936756851301,0.07605921715248924,null],\"type\":\"scatter\"},{\"line\":{\"shape\":\"spline\",\"width\":1.2},\"marker\":{\"color\":\"#ece8e8\"},\"mode\":\"lines\",\"opacity\":1,\"x\":[0.17852151086038676,0.366473474213831,null],\"y\":[0.48252078338063376,-0.36112186186292533,null],\"type\":\"scatter\"},{\"line\":{\"shape\":\"spline\",\"width\":1.2},\"marker\":{\"color\":\"#ece8e8\"},\"mode\":\"lines\",\"opacity\":1,\"x\":[-0.23611391815731608,-0.42403809018748223,null],\"y\":[0.49535753392420795,-0.3482909591168473,null],\"type\":\"scatter\"},{\"line\":{\"shape\":\"spline\",\"width\":1.2},\"marker\":{\"color\":\"#ece8e8\"},\"mode\":\"lines\",\"opacity\":1,\"x\":[-0.08033798995792464,-0.8181283033418234,null],\"y\":[0.9612229242355236,0.5109700021257017,null],\"type\":\"scatter\"},{\"line\":{\"shape\":\"spline\",\"width\":1.2},\"marker\":{\"color\":\"#ece8e8\"},\"mode\":\"lines\",\"opacity\":1,\"x\":[-0.325232083192111,0.4126985975097797,null],\"y\":[0.36240448115654234,-0.08760847655138135,null],\"type\":\"scatter\"},{\"line\":{\"shape\":\"spline\",\"width\":1.2},\"marker\":{\"color\":\"#ece8e8\"},\"mode\":\"lines\",\"opacity\":1,\"x\":[-0.7540292083537286,-0.7540311606826792,null],\"y\":[0.43216344643347415,-0.432162739068908,null],\"type\":\"scatter\"},{\"line\":{\"shape\":\"spline\",\"width\":1.2},\"marker\":{\"color\":\"#ece8e8\"},\"mode\":\"lines\",\"opacity\":1,\"x\":[-0.5828532984508091,-0.006061023545632852,null],\"y\":[0.0580375594880748,-0.5856778387190932,null],\"type\":\"scatter\"},{\"line\":{\"shape\":\"spline\",\"width\":1.2},\"marker\":{\"color\":\"#ece8e8\"},\"mode\":\"lines\",\"opacity\":1,\"x\":[-0.6122167991911401,0.12789768773326268,null],\"y\":[-0.4005089183476065,0.07605921715248924,null],\"type\":\"scatter\"},{\"line\":{\"shape\":\"spline\",\"width\":1.2},\"marker\":{\"color\":\"#ece8e8\"},\"mode\":\"lines\",\"opacity\":1,\"x\":[-0.435320137846137,0.42842817108586767,null],\"y\":[-0.07871758883182546,-0.11029660064804707,null],\"type\":\"scatter\"},{\"line\":{\"shape\":\"spline\",\"width\":1.2},\"marker\":{\"color\":\"#ece8e8\"},\"mode\":\"lines\",\"opacity\":1,\"x\":[-0.9476065106394825,-0.5807360432796512,null],\"y\":[0.033077207037258305,-0.7495261539297252,null],\"type\":\"scatter\"},{\"line\":{\"shape\":\"spline\",\"width\":1.2},\"marker\":{\"color\":\"#ece8e8\"},\"mode\":\"lines\",\"opacity\":1,\"x\":[-0.6324473540720689,0.16302923758005125,null],\"y\":[-0.38331450945901097,-0.7213654029946516,null],\"type\":\"scatter\"},{\"line\":{\"shape\":\"spline\",\"width\":1.2},\"marker\":{\"color\":\"#ece8e8\"},\"mode\":\"lines\",\"opacity\":1,\"x\":[-0.8492262686643067,-0.14627901058195977,null],\"y\":[-0.4442638762754583,-0.9471840406241323,null],\"type\":\"scatter\"},{\"line\":{\"shape\":\"spline\",\"width\":1.2},\"marker\":{\"color\":\"#ece8e8\"},\"mode\":\"lines\",\"opacity\":1,\"x\":[-0.22009715269050661,0.6161298683920076,null],\"y\":[-0.8667481179174261,-0.6481494370298146,null],\"type\":\"scatter\"},{\"line\":{\"shape\":\"spline\",\"width\":1.2},\"marker\":{\"color\":\"#ece8e8\"},\"mode\":\"lines\",\"opacity\":1,\"x\":[-0.09153251907507691,0.7039469627049253,null],\"y\":[-0.8895645940021644,-0.5515227004722015,null],\"type\":\"scatter\"},{\"hoverinfo\":\"text\",\"hovertext\":[],\"marker\":{\"color\":[\"rgb(220.16,95.0272,87.03999999999999)\",\"rgb(87.03999999999999,172.23679999999993,220.16)\",\"rgb(220.16,87.03999999999999,158.92479999999998)\",\"rgb(87.03999999999999,132.30079999999987,220.16)\",\"rgb(105.67679999999999,220.16,87.03999999999999)\",\"rgb(145.61280000000002,220.16,87.03999999999999)\",\"rgb(220.16,214.83520000000004,87.03999999999999)\",\"rgb(220.16,174.8992,87.03999999999999)\",\"rgb(220.16,134.9632,87.03999999999999)\",\"rgb(220.16,95.0272,87.03999999999999)\",\"rgb(161.58719999999994,87.03999999999999,220.16)\",\"rgb(220.16,174.8992,87.03999999999999)\",\"rgb(87.03999999999999,220.16,188.21120000000002)\",\"rgb(220.16,214.83520000000004,87.03999999999999)\",\"rgb(185.54879999999997,220.16,87.03999999999999)\",\"rgb(185.54879999999997,220.16,87.03999999999999)\",\"rgb(220.16,134.9632,87.03999999999999)\",\"rgb(145.61280000000002,220.16,87.03999999999999)\",\"rgb(87.03999999999999,220.16,108.33920000000003)\",\"rgb(87.03999999999999,92.36479999999993,220.16)\",\"rgb(105.67679999999999,220.16,87.03999999999999)\",\"rgb(220.16,95.0272,87.03999999999999)\",\"rgb(220.16,87.03999999999999,118.98879999999994)\",\"rgb(87.03999999999999,220.16,148.27520000000004)\",\"rgb(121.65120000000007,87.03999999999999,220.16)\",\"rgb(87.03999999999999,220.16,108.33920000000003)\",\"rgb(87.03999999999999,220.16,148.27520000000004)\",\"rgb(87.03999999999999,212.17279999999997,220.16)\",\"rgb(87.03999999999999,220.16,188.21120000000002)\",\"rgb(87.03999999999999,212.17279999999997,220.16)\",\"rgb(87.03999999999999,172.23679999999993,220.16)\",\"rgb(201.52319999999997,87.03999999999999,220.16)\",\"rgb(220.16,87.03999999999999,198.8607999999998)\",\"rgb(87.03999999999999,132.30079999999987,220.16)\",\"rgb(87.03999999999999,92.36479999999993,220.16)\",\"rgb(121.65120000000007,87.03999999999999,220.16)\",\"rgb(161.58719999999994,87.03999999999999,220.16)\",\"rgb(201.52319999999997,87.03999999999999,220.16)\",\"rgb(220.16,87.03999999999999,198.8607999999998)\",\"rgb(220.16,87.03999999999999,158.92479999999998)\",\"rgb(220.16,134.9632,87.03999999999999)\",\"rgb(220.16,95.0272,87.03999999999999)\",\"rgb(220.16,87.03999999999999,118.98879999999994)\"],\"line\":{\"color\":\"#ece8e8\",\"width\":0.5},\"size\":[50.0,0.0,0.0,0.0,0.0,0.0,0.0,0.0,50.0,50.0,0.0,0.0,0.0,0.0,0.0,0.0,50.0,0.0,0.0,0.0,0.0,0.0,0.0,0.0,0.0,0.0,0.0,0.0,0.0,0.0,0.0,0.0,0.0,0.0,0.0,0.0,0.0,0.0,0.0,0.0,50.0,100.0,0.0]},\"mode\":\"markers+text\",\"text\":[\"\\u30ae\\u30a3\",\"\\u30c6\\u30a3\\u30ac\",\"\\u30b8\\u30e7\\u30fc\",\"\\u77f3\",\"\\u9ad8\\u7530\",\"\\u5203\\u7259\",\"\\u8b58\",\"\\u4e0a\\u539f\",\"\\u30db\\u30ed\",\"\\u30c9\\u30b9\",\"\\u5149\\u4e00\\u90ce\",\"\\u4e9c\\u4f9d\",\"\\u30e9\\u30f3\\u30dd\",\"\\u9f8d\",\"\\u30ed\\u30b9\",\"\\u30ed\\u30a2\\u30eb\\u30c9\",\"\\u30db\\u30eb\",\"\\u7bc4\\u99ac\",\"\\u30a2\\u30c8\\u30e9\",\"\\u5927\\u548c\",\"\\u5065\\u5fd7\",\"\\u30ae\\u30a4\",\"\\u30de\\u30c4\\u30e2\\u30c8\",\"\\u8033\\u306a\\u3057\",\"\\u5409\\u7530\",\"\\u30eb\\u30ab\",\"\\u82b3\\u4e00\",\"\\u9234\\u6728\",\"\\u30e9\\u30f3\\u30dd\\u30b9\",\"\\u3053\\u306e\\u307f\",\"\\u30ec\\u30c3\\u30af\\u30b9\",\"\\u30b0\\u30f3\",\"\\u30d0\\u30eb\\u30c9\",\"\\u8b77\",\"\\u6d77\\u91ce\",\"\\u6c99\\u4fdd\\u91cc\",\"\\u52a0\\u85e4\",\"\\u30b7\\u30e7\\u30a6\",\"\\u30c7\\u30a3\\u30ce\",\"\\u30b8\\u30e7\\u30fc\\u30a4\",\"\\u30eb\\u30eb\",\"\\u30b8\\u30e3\\u30ae\",\"\\u30ad\\u30e8\\u30b7\"],\"textposition\":\"bottom center\",\"x\":[1.0,0.6203298252144384,0.8374903317412462,0.6502590042675034,0.3635453060329727,0.4116654738380254,0.5619290019718652,0.6275453913575877,0.4334523868704636,0.5332820034328475,0.17852151086038676,-0.2086784080890957,-0.23611391815731608,-0.2880200379756192,-0.08033798995792464,-0.8181283033418234,-0.325232083192111,-0.45208442798472825,-0.7540292083537286,-0.5828532984508091,-0.48640576647999734,-0.6122167991911401,-0.435320137846137,-0.9476065106394825,-0.6324473540720689,-0.7540311606826792,-0.5807360432796512,-0.8492262686643067,-0.42403809018748223,-0.14627901058195977,-0.04404947708310913,-0.22009715269050661,-0.09153251907507691,0.22724609774181315,-0.006061023545632852,0.16302923758005125,0.366473474213831,0.6161298683920076,0.7039469627049253,0.71165465697351,0.4126985975097797,0.12789768773326268,0.42842817108586767],\"y\":[0.1252147276488049,-0.06979641843151109,0.3135697560476964,0.13063501827270227,0.4110317041374427,0.5685071563751916,0.6629768222470687,0.691762031870503,0.7764613376060373,0.8497936756851301,0.48252078338063376,0.9103767793478366,0.49535753392420795,0.8199730640192674,0.9612229242355236,0.5109700021257017,0.36240448115654234,0.5369595011335646,0.43216344643347415,0.0580375594880748,0.2540551174419853,-0.4005089183476065,-0.07871758883182546,0.033077207037258305,-0.38331450945901097,-0.432162739068908,-0.7495261539297252,-0.4442638762754583,-0.3482909591168473,-0.9471840406241323,-0.6226614784053238,-0.8667481179174261,-0.8895645940021644,-0.6231013279637354,-0.5856778387190932,-0.7213654029946516,-0.36112186186292533,-0.6481494370298146,-0.5515227004722015,-0.5415468061153458,-0.08760847655138135,0.07605921715248924,-0.11029660064804707],\"type\":\"scatter\"}],                        {\"autosize\":true,\"font\":{\"family\":\"Arial\",\"size\":12},\"height\":1200,\"hovermode\":\"closest\",\"margin\":{\"b\":85,\"l\":40,\"pad\":0,\"r\":40,\"t\":100},\"plot_bgcolor\":\"#ffffff\",\"showlegend\":false,\"template\":{\"data\":{\"barpolar\":[{\"marker\":{\"line\":{\"color\":\"#E5ECF6\",\"width\":0.5},\"pattern\":{\"fillmode\":\"overlay\",\"size\":10,\"solidity\":0.2}},\"type\":\"barpolar\"}],\"bar\":[{\"error_x\":{\"color\":\"#2a3f5f\"},\"error_y\":{\"color\":\"#2a3f5f\"},\"marker\":{\"line\":{\"color\":\"#E5ECF6\",\"width\":0.5},\"pattern\":{\"fillmode\":\"overlay\",\"size\":10,\"solidity\":0.2}},\"type\":\"bar\"}],\"carpet\":[{\"aaxis\":{\"endlinecolor\":\"#2a3f5f\",\"gridcolor\":\"white\",\"linecolor\":\"white\",\"minorgridcolor\":\"white\",\"startlinecolor\":\"#2a3f5f\"},\"baxis\":{\"endlinecolor\":\"#2a3f5f\",\"gridcolor\":\"white\",\"linecolor\":\"white\",\"minorgridcolor\":\"white\",\"startlinecolor\":\"#2a3f5f\"},\"type\":\"carpet\"}],\"choropleth\":[{\"colorbar\":{\"outlinewidth\":0,\"ticks\":\"\"},\"type\":\"choropleth\"}],\"contourcarpet\":[{\"colorbar\":{\"outlinewidth\":0,\"ticks\":\"\"},\"type\":\"contourcarpet\"}],\"contour\":[{\"colorbar\":{\"outlinewidth\":0,\"ticks\":\"\"},\"colorscale\":[[0.0,\"#0d0887\"],[0.1111111111111111,\"#46039f\"],[0.2222222222222222,\"#7201a8\"],[0.3333333333333333,\"#9c179e\"],[0.4444444444444444,\"#bd3786\"],[0.5555555555555556,\"#d8576b\"],[0.6666666666666666,\"#ed7953\"],[0.7777777777777778,\"#fb9f3a\"],[0.8888888888888888,\"#fdca26\"],[1.0,\"#f0f921\"]],\"type\":\"contour\"}],\"heatmapgl\":[{\"colorbar\":{\"outlinewidth\":0,\"ticks\":\"\"},\"colorscale\":[[0.0,\"#0d0887\"],[0.1111111111111111,\"#46039f\"],[0.2222222222222222,\"#7201a8\"],[0.3333333333333333,\"#9c179e\"],[0.4444444444444444,\"#bd3786\"],[0.5555555555555556,\"#d8576b\"],[0.6666666666666666,\"#ed7953\"],[0.7777777777777778,\"#fb9f3a\"],[0.8888888888888888,\"#fdca26\"],[1.0,\"#f0f921\"]],\"type\":\"heatmapgl\"}],\"heatmap\":[{\"colorbar\":{\"outlinewidth\":0,\"ticks\":\"\"},\"colorscale\":[[0.0,\"#0d0887\"],[0.1111111111111111,\"#46039f\"],[0.2222222222222222,\"#7201a8\"],[0.3333333333333333,\"#9c179e\"],[0.4444444444444444,\"#bd3786\"],[0.5555555555555556,\"#d8576b\"],[0.6666666666666666,\"#ed7953\"],[0.7777777777777778,\"#fb9f3a\"],[0.8888888888888888,\"#fdca26\"],[1.0,\"#f0f921\"]],\"type\":\"heatmap\"}],\"histogram2dcontour\":[{\"colorbar\":{\"outlinewidth\":0,\"ticks\":\"\"},\"colorscale\":[[0.0,\"#0d0887\"],[0.1111111111111111,\"#46039f\"],[0.2222222222222222,\"#7201a8\"],[0.3333333333333333,\"#9c179e\"],[0.4444444444444444,\"#bd3786\"],[0.5555555555555556,\"#d8576b\"],[0.6666666666666666,\"#ed7953\"],[0.7777777777777778,\"#fb9f3a\"],[0.8888888888888888,\"#fdca26\"],[1.0,\"#f0f921\"]],\"type\":\"histogram2dcontour\"}],\"histogram2d\":[{\"colorbar\":{\"outlinewidth\":0,\"ticks\":\"\"},\"colorscale\":[[0.0,\"#0d0887\"],[0.1111111111111111,\"#46039f\"],[0.2222222222222222,\"#7201a8\"],[0.3333333333333333,\"#9c179e\"],[0.4444444444444444,\"#bd3786\"],[0.5555555555555556,\"#d8576b\"],[0.6666666666666666,\"#ed7953\"],[0.7777777777777778,\"#fb9f3a\"],[0.8888888888888888,\"#fdca26\"],[1.0,\"#f0f921\"]],\"type\":\"histogram2d\"}],\"histogram\":[{\"marker\":{\"pattern\":{\"fillmode\":\"overlay\",\"size\":10,\"solidity\":0.2}},\"type\":\"histogram\"}],\"mesh3d\":[{\"colorbar\":{\"outlinewidth\":0,\"ticks\":\"\"},\"type\":\"mesh3d\"}],\"parcoords\":[{\"line\":{\"colorbar\":{\"outlinewidth\":0,\"ticks\":\"\"}},\"type\":\"parcoords\"}],\"pie\":[{\"automargin\":true,\"type\":\"pie\"}],\"scatter3d\":[{\"line\":{\"colorbar\":{\"outlinewidth\":0,\"ticks\":\"\"}},\"marker\":{\"colorbar\":{\"outlinewidth\":0,\"ticks\":\"\"}},\"type\":\"scatter3d\"}],\"scattercarpet\":[{\"marker\":{\"colorbar\":{\"outlinewidth\":0,\"ticks\":\"\"}},\"type\":\"scattercarpet\"}],\"scattergeo\":[{\"marker\":{\"colorbar\":{\"outlinewidth\":0,\"ticks\":\"\"}},\"type\":\"scattergeo\"}],\"scattergl\":[{\"marker\":{\"colorbar\":{\"outlinewidth\":0,\"ticks\":\"\"}},\"type\":\"scattergl\"}],\"scattermapbox\":[{\"marker\":{\"colorbar\":{\"outlinewidth\":0,\"ticks\":\"\"}},\"type\":\"scattermapbox\"}],\"scatterpolargl\":[{\"marker\":{\"colorbar\":{\"outlinewidth\":0,\"ticks\":\"\"}},\"type\":\"scatterpolargl\"}],\"scatterpolar\":[{\"marker\":{\"colorbar\":{\"outlinewidth\":0,\"ticks\":\"\"}},\"type\":\"scatterpolar\"}],\"scatter\":[{\"marker\":{\"colorbar\":{\"outlinewidth\":0,\"ticks\":\"\"}},\"type\":\"scatter\"}],\"scatterternary\":[{\"marker\":{\"colorbar\":{\"outlinewidth\":0,\"ticks\":\"\"}},\"type\":\"scatterternary\"}],\"surface\":[{\"colorbar\":{\"outlinewidth\":0,\"ticks\":\"\"},\"colorscale\":[[0.0,\"#0d0887\"],[0.1111111111111111,\"#46039f\"],[0.2222222222222222,\"#7201a8\"],[0.3333333333333333,\"#9c179e\"],[0.4444444444444444,\"#bd3786\"],[0.5555555555555556,\"#d8576b\"],[0.6666666666666666,\"#ed7953\"],[0.7777777777777778,\"#fb9f3a\"],[0.8888888888888888,\"#fdca26\"],[1.0,\"#f0f921\"]],\"type\":\"surface\"}],\"table\":[{\"cells\":{\"fill\":{\"color\":\"#EBF0F8\"},\"line\":{\"color\":\"white\"}},\"header\":{\"fill\":{\"color\":\"#C8D4E3\"},\"line\":{\"color\":\"white\"}},\"type\":\"table\"}]},\"layout\":{\"annotationdefaults\":{\"arrowcolor\":\"#2a3f5f\",\"arrowhead\":0,\"arrowwidth\":1},\"autotypenumbers\":\"strict\",\"coloraxis\":{\"colorbar\":{\"outlinewidth\":0,\"ticks\":\"\"}},\"colorscale\":{\"diverging\":[[0,\"#8e0152\"],[0.1,\"#c51b7d\"],[0.2,\"#de77ae\"],[0.3,\"#f1b6da\"],[0.4,\"#fde0ef\"],[0.5,\"#f7f7f7\"],[0.6,\"#e6f5d0\"],[0.7,\"#b8e186\"],[0.8,\"#7fbc41\"],[0.9,\"#4d9221\"],[1,\"#276419\"]],\"sequential\":[[0.0,\"#0d0887\"],[0.1111111111111111,\"#46039f\"],[0.2222222222222222,\"#7201a8\"],[0.3333333333333333,\"#9c179e\"],[0.4444444444444444,\"#bd3786\"],[0.5555555555555556,\"#d8576b\"],[0.6666666666666666,\"#ed7953\"],[0.7777777777777778,\"#fb9f3a\"],[0.8888888888888888,\"#fdca26\"],[1.0,\"#f0f921\"]],\"sequentialminus\":[[0.0,\"#0d0887\"],[0.1111111111111111,\"#46039f\"],[0.2222222222222222,\"#7201a8\"],[0.3333333333333333,\"#9c179e\"],[0.4444444444444444,\"#bd3786\"],[0.5555555555555556,\"#d8576b\"],[0.6666666666666666,\"#ed7953\"],[0.7777777777777778,\"#fb9f3a\"],[0.8888888888888888,\"#fdca26\"],[1.0,\"#f0f921\"]]},\"colorway\":[\"#636efa\",\"#EF553B\",\"#00cc96\",\"#ab63fa\",\"#FFA15A\",\"#19d3f3\",\"#FF6692\",\"#B6E880\",\"#FF97FF\",\"#FECB52\"],\"font\":{\"color\":\"#2a3f5f\"},\"geo\":{\"bgcolor\":\"white\",\"lakecolor\":\"white\",\"landcolor\":\"#E5ECF6\",\"showlakes\":true,\"showland\":true,\"subunitcolor\":\"white\"},\"hoverlabel\":{\"align\":\"left\"},\"hovermode\":\"closest\",\"mapbox\":{\"style\":\"light\"},\"paper_bgcolor\":\"white\",\"plot_bgcolor\":\"#E5ECF6\",\"polar\":{\"angularaxis\":{\"gridcolor\":\"white\",\"linecolor\":\"white\",\"ticks\":\"\"},\"bgcolor\":\"#E5ECF6\",\"radialaxis\":{\"gridcolor\":\"white\",\"linecolor\":\"white\",\"ticks\":\"\"}},\"scene\":{\"xaxis\":{\"backgroundcolor\":\"#E5ECF6\",\"gridcolor\":\"white\",\"gridwidth\":2,\"linecolor\":\"white\",\"showbackground\":true,\"ticks\":\"\",\"zerolinecolor\":\"white\"},\"yaxis\":{\"backgroundcolor\":\"#E5ECF6\",\"gridcolor\":\"white\",\"gridwidth\":2,\"linecolor\":\"white\",\"showbackground\":true,\"ticks\":\"\",\"zerolinecolor\":\"white\"},\"zaxis\":{\"backgroundcolor\":\"#E5ECF6\",\"gridcolor\":\"white\",\"gridwidth\":2,\"linecolor\":\"white\",\"showbackground\":true,\"ticks\":\"\",\"zerolinecolor\":\"white\"}},\"shapedefaults\":{\"line\":{\"color\":\"#2a3f5f\"}},\"ternary\":{\"aaxis\":{\"gridcolor\":\"white\",\"linecolor\":\"white\",\"ticks\":\"\"},\"baxis\":{\"gridcolor\":\"white\",\"linecolor\":\"white\",\"ticks\":\"\"},\"bgcolor\":\"#E5ECF6\",\"caxis\":{\"gridcolor\":\"white\",\"linecolor\":\"white\",\"ticks\":\"\"}},\"title\":{\"x\":0.05},\"xaxis\":{\"automargin\":true,\"gridcolor\":\"white\",\"linecolor\":\"white\",\"ticks\":\"\",\"title\":{\"standoff\":15},\"zerolinecolor\":\"white\",\"zerolinewidth\":2},\"yaxis\":{\"automargin\":true,\"gridcolor\":\"white\",\"linecolor\":\"white\",\"ticks\":\"\",\"title\":{\"standoff\":15},\"zerolinecolor\":\"white\",\"zerolinewidth\":2}}},\"title\":{\"text\":\"Co-occurrence network\"},\"width\":1700,\"xaxis\":{\"showgrid\":false,\"showline\":false,\"showticklabels\":false,\"title\":{\"text\":\"\"},\"zeroline\":false},\"yaxis\":{\"showgrid\":false,\"showline\":false,\"showticklabels\":false,\"title\":{\"text\":\"\"},\"zeroline\":false}},                        {\"responsive\": true}                    ).then(function(){\n",
       "                            \n",
       "var gd = document.getElementById('fdb8d64c-bfb8-4d36-a764-7ed9c13127f6');\n",
       "var x = new MutationObserver(function (mutations, observer) {{\n",
       "        var display = window.getComputedStyle(gd).display;\n",
       "        if (!display || display === 'none') {{\n",
       "            console.log([gd, 'removed!']);\n",
       "            Plotly.purge(gd);\n",
       "            observer.disconnect();\n",
       "        }}\n",
       "}});\n",
       "\n",
       "// Listen for the removal of the full notebook cells\n",
       "var notebookContainer = gd.closest('#notebook-container');\n",
       "if (notebookContainer) {{\n",
       "    x.observe(notebookContainer, {childList: true});\n",
       "}}\n",
       "\n",
       "// Listen for the clearing of the current output cell\n",
       "var outputEl = gd.closest('.output');\n",
       "if (outputEl) {{\n",
       "    x.observe(outputEl, {childList: true});\n",
       "}}\n",
       "\n",
       "                        })                };                });            </script>        </div>"
      ]
     },
     "metadata": {},
     "output_type": "display_data"
    }
   ],
   "source": [
    "npt.co_network(\n",
    "    title='Co-occurrence network',\n",
    ")"
   ]
  },
  {
   "cell_type": "code",
   "execution_count": null,
   "id": "dc708c10",
   "metadata": {},
   "outputs": [],
   "source": []
  }
 ],
 "metadata": {
  "environment": {
   "kernel": "python3",
   "name": "managed-notebooks.m87",
   "type": "gcloud",
   "uri": "gcr.io/deeplearning-platform-release/base-cu110:latest"
  },
  "kernelspec": {
   "display_name": "Python (Local)",
   "language": "python",
   "name": "local-base"
  },
  "language_info": {
   "codemirror_mode": {
    "name": "ipython",
    "version": 3
   },
   "file_extension": ".py",
   "mimetype": "text/x-python",
   "name": "python",
   "nbconvert_exporter": "python",
   "pygments_lexer": "ipython3",
   "version": "3.7.12"
  }
 },
 "nbformat": 4,
 "nbformat_minor": 5
}
