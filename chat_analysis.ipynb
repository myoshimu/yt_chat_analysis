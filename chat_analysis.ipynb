{
 "cells": [
  {
   "cell_type": "markdown",
   "id": "5fea501e",
   "metadata": {},
   "source": [
    "# YouTube ライブコメント分析デモ\n",
    "このサンプルコードでは、以下の動画（2021年の東京ゲームショーで発表された『モンスターハンターライズ：サンブレイク』最新情報ライブ配信）の視聴者コメントを分析し、視聴者が何に興味・関心を持っていたか分析しています。\n",
    "https://www.youtube.com/watch?v=MCzITTAy8G8"
   ]
  },
  {
   "cell_type": "code",
   "execution_count": null,
   "id": "1345ac10",
   "metadata": {
    "collapsed": true,
    "jupyter": {
     "outputs_hidden": true
    },
    "tags": []
   },
   "outputs": [],
   "source": [
    "!pip install -q mecab-python3\n",
    "!pip install -q unidic\n",
    "!python -m unidic download\n",
    "!pip install japanize_matplotlib\n",
    "!apt-get -y install fonts-ipafont-gothic > /dev/null\n",
    "!pip install nlplot\n",
    "!pip install altair"
   ]
  },
  {
   "cell_type": "code",
   "execution_count": 16,
   "id": "2b45dc05",
   "metadata": {},
   "outputs": [],
   "source": [
    "import pandas as pd\n",
    "import altair as alt\n",
    "import nlplot\n",
    "import matplotlib.pyplot as plt\n",
    "import MeCab\n",
    "import datetime as dt\n",
    "import re"
   ]
  },
  {
   "cell_type": "code",
   "execution_count": 28,
   "id": "389ca9c1",
   "metadata": {},
   "outputs": [],
   "source": [
    "df=pd.read_csv(\"MCzITTAy8G8.csv\",names=[\"dt\",\"name\",\"comment\",\"sentiment\",\"magnitude\"])\n",
    "df['dt']=pd.to_datetime(df['dt'])\n",
    "df['comment']=df['comment'].astype(str)\n",
    "df['sentiment'] = pd.to_numeric(df['sentiment'], errors='coerce')\n",
    "df['magnitude'] = pd.to_numeric(df['magnitude'], errors='coerce')"
   ]
  },
  {
   "cell_type": "code",
   "execution_count": 29,
   "id": "95bca314",
   "metadata": {},
   "outputs": [
    {
     "data": {
      "text/html": [
       "<div>\n",
       "<style scoped>\n",
       "    .dataframe tbody tr th:only-of-type {\n",
       "        vertical-align: middle;\n",
       "    }\n",
       "\n",
       "    .dataframe tbody tr th {\n",
       "        vertical-align: top;\n",
       "    }\n",
       "\n",
       "    .dataframe thead th {\n",
       "        text-align: right;\n",
       "    }\n",
       "</style>\n",
       "<table border=\"1\" class=\"dataframe\">\n",
       "  <thead>\n",
       "    <tr style=\"text-align: right;\">\n",
       "      <th></th>\n",
       "      <th>dt</th>\n",
       "      <th>name</th>\n",
       "      <th>comment</th>\n",
       "      <th>sentiment</th>\n",
       "      <th>magnitude</th>\n",
       "      <th>words</th>\n",
       "    </tr>\n",
       "  </thead>\n",
       "  <tbody>\n",
       "    <tr>\n",
       "      <th>0</th>\n",
       "      <td>2021-09-30 12:52:17</td>\n",
       "      <td>499人いったら声出す</td>\n",
       "      <td>CAPCOM頼むドスランポスはよ！</td>\n",
       "      <td>0.0</td>\n",
       "      <td>0.0</td>\n",
       "      <td>[CAPCOM, ドス, ランポス]</td>\n",
       "    </tr>\n",
       "    <tr>\n",
       "      <th>1</th>\n",
       "      <td>2021-09-30 12:52:18</td>\n",
       "      <td>ライダー</td>\n",
       "      <td>エスピナスください</td>\n",
       "      <td>-0.2</td>\n",
       "      <td>0.2</td>\n",
       "      <td>[エスピナス]</td>\n",
       "    </tr>\n",
       "    <tr>\n",
       "      <th>2</th>\n",
       "      <td>2021-09-30 12:52:19</td>\n",
       "      <td>kikui kikui</td>\n",
       "      <td>全ドスモンスター解禁</td>\n",
       "      <td>0.0</td>\n",
       "      <td>0.0</td>\n",
       "      <td>[ドス, モンスター, 解禁]</td>\n",
       "    </tr>\n",
       "    <tr>\n",
       "      <th>3</th>\n",
       "      <td>2021-09-30 12:52:19</td>\n",
       "      <td>浅葱部長</td>\n",
       "      <td>美味しそうなモンスター…</td>\n",
       "      <td>0.7</td>\n",
       "      <td>0.7</td>\n",
       "      <td>[美味し, モンスター]</td>\n",
       "    </tr>\n",
       "    <tr>\n",
       "      <th>4</th>\n",
       "      <td>2021-09-30 12:52:20</td>\n",
       "      <td>点P2</td>\n",
       "      <td>ホロロホルル</td>\n",
       "      <td>0.3</td>\n",
       "      <td>0.3</td>\n",
       "      <td>[ホロロホルル]</td>\n",
       "    </tr>\n",
       "  </tbody>\n",
       "</table>\n",
       "</div>"
      ],
      "text/plain": [
       "                   dt         name            comment  sentiment  magnitude  \\\n",
       "0 2021-09-30 12:52:17  499人いったら声出す  CAPCOM頼むドスランポスはよ！        0.0        0.0   \n",
       "1 2021-09-30 12:52:18         ライダー          エスピナスください       -0.2        0.2   \n",
       "2 2021-09-30 12:52:19  kikui kikui         全ドスモンスター解禁        0.0        0.0   \n",
       "3 2021-09-30 12:52:19         浅葱部長       美味しそうなモンスター…        0.7        0.7   \n",
       "4 2021-09-30 12:52:20          点P2             ホロロホルル        0.3        0.3   \n",
       "\n",
       "                words  \n",
       "0  [CAPCOM, ドス, ランポス]  \n",
       "1             [エスピナス]  \n",
       "2     [ドス, モンスター, 解禁]  \n",
       "3        [美味し, モンスター]  \n",
       "4            [ホロロホルル]  "
      ]
     },
     "execution_count": 29,
     "metadata": {},
     "output_type": "execute_result"
    }
   ],
   "source": [
    "def mecab_text(text):\n",
    "    mecab = MeCab.Tagger()\n",
    "    node = mecab.parseToNode(text)\n",
    "    wordlist = []\n",
    "    \n",
    "    while node:\n",
    "        if node.feature.split(',')[0] == '名詞':\n",
    "            wordlist.append(node.surface)\n",
    "        elif node.feature.split(',')[0] == '形容詞':\n",
    "            wordlist.append(node.surface)\n",
    "        node = node.next\n",
    "    return wordlist\n",
    "\n",
    "df['words'] = df['comment'].apply(mecab_text)\n",
    "df.head()"
   ]
  },
  {
   "cell_type": "code",
   "execution_count": 30,
   "id": "c535196b",
   "metadata": {},
   "outputs": [],
   "source": [
    "df_time=df.iloc[:,[0,3,4]].groupby(pd.Grouper(key='dt', freq='1min')).mean().reset_index()\n",
    "df_cnt = df.iloc[:,[0,2]].groupby(pd.Grouper(key='dt', freq='1min')).count().reset_index()"
   ]
  },
  {
   "cell_type": "code",
   "execution_count": 32,
   "id": "71342276",
   "metadata": {},
   "outputs": [
    {
     "data": {
      "text/html": [
       "\n",
       "<div id=\"altair-viz-ae29b8a3f0bc4b4faaf271211dfda5f2\"></div>\n",
       "<script type=\"text/javascript\">\n",
       "  (function(spec, embedOpt){\n",
       "    let outputDiv = document.currentScript.previousElementSibling;\n",
       "    if (outputDiv.id !== \"altair-viz-ae29b8a3f0bc4b4faaf271211dfda5f2\") {\n",
       "      outputDiv = document.getElementById(\"altair-viz-ae29b8a3f0bc4b4faaf271211dfda5f2\");\n",
       "    }\n",
       "    const paths = {\n",
       "      \"vega\": \"https://cdn.jsdelivr.net/npm//vega@5?noext\",\n",
       "      \"vega-lib\": \"https://cdn.jsdelivr.net/npm//vega-lib?noext\",\n",
       "      \"vega-lite\": \"https://cdn.jsdelivr.net/npm//vega-lite@4.8.1?noext\",\n",
       "      \"vega-embed\": \"https://cdn.jsdelivr.net/npm//vega-embed@6?noext\",\n",
       "    };\n",
       "\n",
       "    function loadScript(lib) {\n",
       "      return new Promise(function(resolve, reject) {\n",
       "        var s = document.createElement('script');\n",
       "        s.src = paths[lib];\n",
       "        s.async = true;\n",
       "        s.onload = () => resolve(paths[lib]);\n",
       "        s.onerror = () => reject(`Error loading script: ${paths[lib]}`);\n",
       "        document.getElementsByTagName(\"head\")[0].appendChild(s);\n",
       "      });\n",
       "    }\n",
       "\n",
       "    function showError(err) {\n",
       "      outputDiv.innerHTML = `<div class=\"error\" style=\"color:red;\">${err}</div>`;\n",
       "      throw err;\n",
       "    }\n",
       "\n",
       "    function displayChart(vegaEmbed) {\n",
       "      vegaEmbed(outputDiv, spec, embedOpt)\n",
       "        .catch(err => showError(`Javascript Error: ${err.message}<br>This usually means there's a typo in your chart specification. See the javascript console for the full traceback.`));\n",
       "    }\n",
       "\n",
       "    if(typeof define === \"function\" && define.amd) {\n",
       "      requirejs.config({paths});\n",
       "      require([\"vega-embed\"], displayChart, err => showError(`Error loading script: ${err.message}`));\n",
       "    } else if (typeof vegaEmbed === \"function\") {\n",
       "      displayChart(vegaEmbed);\n",
       "    } else {\n",
       "      loadScript(\"vega\")\n",
       "        .then(() => loadScript(\"vega-lite\"))\n",
       "        .then(() => loadScript(\"vega-embed\"))\n",
       "        .catch(showError)\n",
       "        .then(() => displayChart(vegaEmbed));\n",
       "    }\n",
       "  })({\"config\": {\"view\": {\"continuousWidth\": 400, \"continuousHeight\": 300}}, \"vconcat\": [{\"data\": {\"name\": \"data-14fb15a258aaedd155b83d8078c65a9b\"}, \"mark\": \"line\", \"encoding\": {\"x\": {\"type\": \"temporal\", \"field\": \"dt\"}, \"y\": {\"type\": \"quantitative\", \"field\": \"comment\"}}, \"height\": 100, \"width\": 600}, {\"data\": {\"name\": \"data-8e578b11c1d66c07aa05835556677a65\"}, \"mark\": \"bar\", \"encoding\": {\"color\": {\"condition\": {\"value\": \"steelblue\", \"test\": \"(datum.nonfarm_change > 0)\"}, \"value\": \"orange\"}, \"x\": {\"type\": \"temporal\", \"field\": \"dt\"}, \"y\": {\"type\": \"quantitative\", \"field\": \"sentiment\"}}, \"height\": 100, \"width\": 600}, {\"data\": {\"name\": \"data-8e578b11c1d66c07aa05835556677a65\"}, \"mark\": \"line\", \"encoding\": {\"x\": {\"type\": \"temporal\", \"field\": \"dt\"}, \"y\": {\"type\": \"quantitative\", \"field\": \"magnitude\"}}, \"height\": 100, \"width\": 600}], \"data\": {\"name\": \"data-8e578b11c1d66c07aa05835556677a65\"}, \"$schema\": \"https://vega.github.io/schema/vega-lite/v4.8.1.json\", \"datasets\": {\"data-8e578b11c1d66c07aa05835556677a65\": [{\"dt\": \"2021-09-30T12:52:00\", \"sentiment\": 0.20921052631578949, \"magnitude\": 0.3171052631578948}, {\"dt\": \"2021-09-30T12:53:00\", \"sentiment\": 0.2236842105263158, \"magnitude\": 0.3542105263157895}, {\"dt\": \"2021-09-30T12:54:00\", \"sentiment\": 0.20508474576271185, \"magnitude\": 0.35423728813559324}, {\"dt\": \"2021-09-30T12:55:00\", \"sentiment\": 0.1679611650485437, \"magnitude\": 0.3359223300970874}, {\"dt\": \"2021-09-30T12:56:00\", \"sentiment\": 0.18603603603603602, \"magnitude\": 0.44099099099099104}, {\"dt\": \"2021-09-30T12:57:00\", \"sentiment\": 0.21040723981900453, \"magnitude\": 0.3429864253393665}, {\"dt\": \"2021-09-30T12:58:00\", \"sentiment\": 0.13245283018867926, \"magnitude\": 0.32339622641509436}, {\"dt\": \"2021-09-30T12:59:00\", \"sentiment\": 0.18141263940520444, \"magnitude\": 0.366914498141264}, {\"dt\": \"2021-09-30T13:00:00\", \"sentiment\": 0.2567441860465116, \"magnitude\": 0.3455813953488372}, {\"dt\": \"2021-09-30T13:01:00\", \"sentiment\": 0.2553921568627451, \"magnitude\": 0.33676470588235297}, {\"dt\": \"2021-09-30T13:02:00\", \"sentiment\": 0.14098360655737704, \"magnitude\": 0.2741803278688525}, {\"dt\": \"2021-09-30T13:03:00\", \"sentiment\": 0.14641350210970466, \"magnitude\": 0.31645569620253167}, {\"dt\": \"2021-09-30T13:04:00\", \"sentiment\": -0.03640776699029126, \"magnitude\": 0.2975728155339806}, {\"dt\": \"2021-09-30T13:05:00\", \"sentiment\": 0.0235, \"magnitude\": 0.2615}, {\"dt\": \"2021-09-30T13:06:00\", \"sentiment\": -0.06808510638297872, \"magnitude\": 0.26305609284332687}, {\"dt\": \"2021-09-30T13:07:00\", \"sentiment\": -0.03980099502487562, \"magnitude\": 0.2781094527363184}, {\"dt\": \"2021-09-30T13:08:00\", \"sentiment\": 0.025941422594142262, \"magnitude\": 0.32426778242677823}, {\"dt\": \"2021-09-30T13:09:00\", \"sentiment\": -0.04567901234567901, \"magnitude\": 0.32551440329218106}, {\"dt\": \"2021-09-30T13:10:00\", \"sentiment\": 0.085781990521327, \"magnitude\": 0.2729857819905213}, {\"dt\": \"2021-09-30T13:11:00\", \"sentiment\": 0.012444444444444445, \"magnitude\": 0.35555555555555557}, {\"dt\": \"2021-09-30T13:12:00\", \"sentiment\": 0.11764705882352941, \"magnitude\": 0.3392156862745098}, {\"dt\": \"2021-09-30T13:13:00\", \"sentiment\": -0.01111111111111111, \"magnitude\": 0.34285714285714286}, {\"dt\": \"2021-09-30T13:14:00\", \"sentiment\": 0.006956521739130432, \"magnitude\": 0.39043478260869563}, {\"dt\": \"2021-09-30T13:15:00\", \"sentiment\": 0.10976744186046512, \"magnitude\": 0.3427906976744186}, {\"dt\": \"2021-09-30T13:16:00\", \"sentiment\": 0.1090909090909091, \"magnitude\": 0.32620320855614976}, {\"dt\": \"2021-09-30T13:17:00\", \"sentiment\": 0.14463519313304724, \"magnitude\": 0.39570815450643776}, {\"dt\": \"2021-09-30T13:18:00\", \"sentiment\": 0.20707070707070707, \"magnitude\": 0.3525252525252525}, {\"dt\": \"2021-09-30T13:19:00\", \"sentiment\": 0.29429824561403506, \"magnitude\": 0.37543859649122807}, {\"dt\": \"2021-09-30T13:20:00\", \"sentiment\": 0.3526570048309179, \"magnitude\": 0.4483091787439613}, {\"dt\": \"2021-09-30T13:21:00\", \"sentiment\": 0.31957446808510637, \"magnitude\": 0.4353191489361702}, {\"dt\": \"2021-09-30T13:22:00\", \"sentiment\": 0.2947136563876652, \"magnitude\": 0.40220264317180615}, {\"dt\": \"2021-09-30T13:23:00\", \"sentiment\": 0.2773148148148148, \"magnitude\": 0.3916666666666667}, {\"dt\": \"2021-09-30T13:24:00\", \"sentiment\": 0.2133640552995392, \"magnitude\": 0.38571428571428573}, {\"dt\": \"2021-09-30T13:25:00\", \"sentiment\": 0.10325581395348837, \"magnitude\": 0.32139534883720927}, {\"dt\": \"2021-09-30T13:26:00\", \"sentiment\": 0.12638297872340426, \"magnitude\": 0.33148936170212767}, {\"dt\": \"2021-09-30T13:27:00\", \"sentiment\": 0.19278846153846155, \"magnitude\": 0.3403846153846154}, {\"dt\": \"2021-09-30T13:28:00\", \"sentiment\": 0.1469387755102041, \"magnitude\": 0.37714285714285717}, {\"dt\": \"2021-09-30T13:29:00\", \"sentiment\": 0.10375, \"magnitude\": 0.23875}, {\"dt\": \"2021-09-30T13:30:00\", \"sentiment\": 0.12066115702479338, \"magnitude\": 0.28140495867768595}, {\"dt\": \"2021-09-30T13:31:00\", \"sentiment\": 0.17404255319148937, \"magnitude\": 0.28042553191489367}, {\"dt\": \"2021-09-30T13:32:00\", \"sentiment\": 0.18076923076923077, \"magnitude\": 0.2951923076923077}, {\"dt\": \"2021-09-30T13:33:00\", \"sentiment\": 0.021354166666666664, \"magnitude\": 0.3260416666666667}, {\"dt\": \"2021-09-30T13:34:00\", \"sentiment\": 0.08507936507936509, \"magnitude\": 0.34698412698412695}, {\"dt\": \"2021-09-30T13:35:00\", \"sentiment\": -0.0038369304556354926, \"magnitude\": 0.3513189448441247}, {\"dt\": \"2021-09-30T13:36:00\", \"sentiment\": 0.027234042553191486, \"magnitude\": 0.368936170212766}, {\"dt\": \"2021-09-30T13:37:00\", \"sentiment\": -0.07312252964426877, \"magnitude\": 0.3932806324110672}, {\"dt\": \"2021-09-30T13:38:00\", \"sentiment\": -0.025217391304347827, \"magnitude\": 0.3421739130434783}, {\"dt\": \"2021-09-30T13:39:00\", \"sentiment\": -0.06291666666666666, \"magnitude\": 0.35208333333333336}, {\"dt\": \"2021-09-30T13:40:00\", \"sentiment\": -0.05350877192982457, \"magnitude\": 0.3548245614035088}, {\"dt\": \"2021-09-30T13:41:00\", \"sentiment\": -0.04, \"magnitude\": 0.381025641025641}, {\"dt\": \"2021-09-30T13:42:00\", \"sentiment\": -0.10155642023346304, \"magnitude\": 0.5217898832684824}, {\"dt\": \"2021-09-30T13:43:00\", \"sentiment\": -0.05610687022900763, \"magnitude\": 0.4690839694656489}, {\"dt\": \"2021-09-30T13:44:00\", \"sentiment\": -0.028782287822878228, \"magnitude\": 0.3501845018450185}, {\"dt\": \"2021-09-30T13:45:00\", \"sentiment\": -0.0215547703180212, \"magnitude\": 0.35830388692579507}, {\"dt\": \"2021-09-30T13:46:00\", \"sentiment\": 0.016666666666666666, \"magnitude\": 0.3440740740740741}, {\"dt\": \"2021-09-30T13:47:00\", \"sentiment\": -0.04261603375527426, \"magnitude\": 0.3670886075949367}, {\"dt\": \"2021-09-30T13:48:00\", \"sentiment\": 0.009774436090225562, \"magnitude\": 0.3075187969924812}, {\"dt\": \"2021-09-30T13:49:00\", \"sentiment\": -0.01721311475409836, \"magnitude\": 0.36065573770491804}, {\"dt\": \"2021-09-30T13:50:00\", \"sentiment\": 0.03870967741935484, \"magnitude\": 0.32016129032258067}, {\"dt\": \"2021-09-30T13:51:00\", \"sentiment\": 0.11351351351351352, \"magnitude\": 0.31837837837837835}], \"data-14fb15a258aaedd155b83d8078c65a9b\": [{\"dt\": \"2021-09-30T12:52:00\", \"comment\": 76}, {\"dt\": \"2021-09-30T12:53:00\", \"comment\": 190}, {\"dt\": \"2021-09-30T12:54:00\", \"comment\": 177}, {\"dt\": \"2021-09-30T12:55:00\", \"comment\": 206}, {\"dt\": \"2021-09-30T12:56:00\", \"comment\": 222}, {\"dt\": \"2021-09-30T12:57:00\", \"comment\": 221}, {\"dt\": \"2021-09-30T12:58:00\", \"comment\": 265}, {\"dt\": \"2021-09-30T12:59:00\", \"comment\": 269}, {\"dt\": \"2021-09-30T13:00:00\", \"comment\": 215}, {\"dt\": \"2021-09-30T13:01:00\", \"comment\": 204}, {\"dt\": \"2021-09-30T13:02:00\", \"comment\": 244}, {\"dt\": \"2021-09-30T13:03:00\", \"comment\": 237}, {\"dt\": \"2021-09-30T13:04:00\", \"comment\": 206}, {\"dt\": \"2021-09-30T13:05:00\", \"comment\": 200}, {\"dt\": \"2021-09-30T13:06:00\", \"comment\": 517}, {\"dt\": \"2021-09-30T13:07:00\", \"comment\": 201}, {\"dt\": \"2021-09-30T13:08:00\", \"comment\": 239}, {\"dt\": \"2021-09-30T13:09:00\", \"comment\": 243}, {\"dt\": \"2021-09-30T13:10:00\", \"comment\": 211}, {\"dt\": \"2021-09-30T13:11:00\", \"comment\": 225}, {\"dt\": \"2021-09-30T13:12:00\", \"comment\": 204}, {\"dt\": \"2021-09-30T13:13:00\", \"comment\": 252}, {\"dt\": \"2021-09-30T13:14:00\", \"comment\": 230}, {\"dt\": \"2021-09-30T13:15:00\", \"comment\": 215}, {\"dt\": \"2021-09-30T13:16:00\", \"comment\": 187}, {\"dt\": \"2021-09-30T13:17:00\", \"comment\": 233}, {\"dt\": \"2021-09-30T13:18:00\", \"comment\": 198}, {\"dt\": \"2021-09-30T13:19:00\", \"comment\": 228}, {\"dt\": \"2021-09-30T13:20:00\", \"comment\": 207}, {\"dt\": \"2021-09-30T13:21:00\", \"comment\": 235}, {\"dt\": \"2021-09-30T13:22:00\", \"comment\": 227}, {\"dt\": \"2021-09-30T13:23:00\", \"comment\": 216}, {\"dt\": \"2021-09-30T13:24:00\", \"comment\": 217}, {\"dt\": \"2021-09-30T13:25:00\", \"comment\": 215}, {\"dt\": \"2021-09-30T13:26:00\", \"comment\": 235}, {\"dt\": \"2021-09-30T13:27:00\", \"comment\": 208}, {\"dt\": \"2021-09-30T13:28:00\", \"comment\": 245}, {\"dt\": \"2021-09-30T13:29:00\", \"comment\": 240}, {\"dt\": \"2021-09-30T13:30:00\", \"comment\": 242}, {\"dt\": \"2021-09-30T13:31:00\", \"comment\": 235}, {\"dt\": \"2021-09-30T13:32:00\", \"comment\": 208}, {\"dt\": \"2021-09-30T13:33:00\", \"comment\": 192}, {\"dt\": \"2021-09-30T13:34:00\", \"comment\": 315}, {\"dt\": \"2021-09-30T13:35:00\", \"comment\": 417}, {\"dt\": \"2021-09-30T13:36:00\", \"comment\": 235}, {\"dt\": \"2021-09-30T13:37:00\", \"comment\": 253}, {\"dt\": \"2021-09-30T13:38:00\", \"comment\": 230}, {\"dt\": \"2021-09-30T13:39:00\", \"comment\": 240}, {\"dt\": \"2021-09-30T13:40:00\", \"comment\": 228}, {\"dt\": \"2021-09-30T13:41:00\", \"comment\": 195}, {\"dt\": \"2021-09-30T13:42:00\", \"comment\": 257}, {\"dt\": \"2021-09-30T13:43:00\", \"comment\": 262}, {\"dt\": \"2021-09-30T13:44:00\", \"comment\": 271}, {\"dt\": \"2021-09-30T13:45:00\", \"comment\": 283}, {\"dt\": \"2021-09-30T13:46:00\", \"comment\": 270}, {\"dt\": \"2021-09-30T13:47:00\", \"comment\": 237}, {\"dt\": \"2021-09-30T13:48:00\", \"comment\": 266}, {\"dt\": \"2021-09-30T13:49:00\", \"comment\": 244}, {\"dt\": \"2021-09-30T13:50:00\", \"comment\": 248}, {\"dt\": \"2021-09-30T13:51:00\", \"comment\": 185}]}}, {\"mode\": \"vega-lite\"});\n",
       "</script>"
      ],
      "text/plain": [
       "alt.VConcatChart(...)"
      ]
     },
     "execution_count": 32,
     "metadata": {},
     "output_type": "execute_result"
    }
   ],
   "source": [
    "c = alt.Chart(df_cnt).mark_line().encode(\n",
    "    x='dt',\n",
    "    y='comment',\n",
    ").properties(height=100,width=600)\n",
    "s = alt.Chart(df_time).mark_bar().encode(\n",
    "    x=\"dt:T\",\n",
    "    y=\"sentiment:Q\",\n",
    "    color=alt.condition(\n",
    "        alt.datum.nonfarm_change > 0,\n",
    "        alt.value(\"steelblue\"),  # The positive color\n",
    "        alt.value(\"orange\")  # The negative color\n",
    "    )\n",
    ").properties(height=100,width=600)\n",
    "m = alt.Chart(df_time).mark_line().encode(\n",
    "    x='dt',\n",
    "    y='magnitude'\n",
    ").properties(height=100,width=600)\n",
    "alt.vconcat(c,s,m, data=df_time)"
   ]
  },
  {
   "cell_type": "markdown",
   "id": "90126707",
   "metadata": {},
   "source": [
    "13:06 アップデートイベント（魔界村コラボ）の発表\n",
    "13:20 琵琶法師ライブ前後\n",
    "13:35 PC版の発表"
   ]
  },
  {
   "cell_type": "code",
   "execution_count": 33,
   "id": "b746b651",
   "metadata": {},
   "outputs": [],
   "source": [
    "dfc = df['comment'].to_frame()\n",
    "list = dfc['comment'].tolist()"
   ]
  },
  {
   "cell_type": "code",
   "execution_count": null,
   "id": "58aacc58",
   "metadata": {},
   "outputs": [],
   "source": [
    "# MeCabで特定の名詞だけ抜き取る\n",
    "tagger = MeCab.Tagger()\n",
    "\n",
    "def word_extraction(text):\n",
    "    \"\"\"特定名詞だけ抽出\"\"\"\n",
    "    #URLを正規表現で排除\n",
    "    result = re.sub(\"https?://[\\w!\\?/\\+\\-_~=;\\.,\\*&@#\\$%\\(\\)'\\[\\]]+\", \"\", text)\n",
    "    parse = tagger.parse(result)\n",
    "\n",
    "    lines = parse.split('\\n') \n",
    "    nounlist = [] #特定名詞を格納\n",
    "    for line in lines:\n",
    "        feature = line.split('\\t') #タブで区切る\n",
    "        if len(feature) == 2: #'EOS'と''を省く\n",
    "            info = feature[1].split(',')\n",
    "            hinshi = info[0] #　品詞取得\n",
    "            hinshi_classi = info[1] #　品詞分類を取得\n",
    "            #名詞 - 一般,サ変,固有名詞　だけ抽出する　※抽出したいものに合わせてカスタマイズすればいい\n",
    "            if (hinshi in ('名詞')) and ((hinshi_classi in ('一般')) or (hinshi_classi in ('サ変接続')) or (hinshi_classi in ('固有名詞'))):\n",
    "                nounlist.append(feature[0]) #info[6]を取得してもいいが、今回は原文を取得\n",
    "    return nounlist\n",
    "\n",
    "# wordsカラムを追加\n",
    "dfc['comment'] = dfc['comment'].apply(word_extraction)\n",
    "df"
   ]
  },
  {
   "cell_type": "code",
   "execution_count": 36,
   "id": "0a8bd93e",
   "metadata": {},
   "outputs": [],
   "source": [
    "npt = nlplot.NLPlot(dfc, target_col='comment') #Tweets_dfのwordsカラムを解析対象にする\n",
    "#stopwords = npt.get_stopword(top_n=4, min_freq=0) #ストップワードとして上記頻出4単語を排除する\n",
    "#print(stopwords)\n",
    "stopwords = [\"カプコン\"]"
   ]
  },
  {
   "cell_type": "code",
   "execution_count": null,
   "id": "8a30b633",
   "metadata": {},
   "outputs": [],
   "source": [
    "npt.bar_ngram(\n",
    "    title='uni-gram',\n",
    "    xaxis_label='word_count',\n",
    "    yaxis_label='word',\n",
    "    ngram=1,\n",
    "    top_n=50,\n",
    "    stopwords=stopwords,\n",
    ")"
   ]
  },
  {
   "cell_type": "code",
   "execution_count": null,
   "id": "65f2c7db",
   "metadata": {},
   "outputs": [],
   "source": [
    "npt.treemap(\n",
    "    title='Tree of Most Common Words',\n",
    "    ngram=1,\n",
    "    top_n=30,\n",
    "    stopwords=stopwords,\n",
    ")"
   ]
  },
  {
   "cell_type": "code",
   "execution_count": null,
   "id": "e666d870",
   "metadata": {},
   "outputs": [],
   "source": [
    "#nlplotのwordcloudを使用して可視化させる\n",
    "npt.wordcloud(\n",
    "    stopwords=stopwords, #設定したストップワードを排除\n",
    "    max_words=100,\n",
    "    max_font_size=100,\n",
    "    colormap='tab20_r',\n",
    "    save=True\n",
    ")"
   ]
  },
  {
   "cell_type": "code",
   "execution_count": null,
   "id": "b5e59ae3",
   "metadata": {},
   "outputs": [],
   "source": [
    "npt.build_graph(stopwords=stopwords, min_edge_frequency=1)\n",
    "#npt.edge_df.head()"
   ]
  },
  {
   "cell_type": "code",
   "execution_count": null,
   "id": "aa86e65d",
   "metadata": {},
   "outputs": [],
   "source": [
    "npt.co_network(\n",
    "    title='Co-occurrence network',\n",
    ")"
   ]
  }
 ],
 "metadata": {
  "environment": {
   "kernel": "python3",
   "name": "managed-notebooks.m87",
   "type": "gcloud",
   "uri": "gcr.io/deeplearning-platform-release/base-cu110:latest"
  },
  "kernelspec": {
   "display_name": "Python (Local)",
   "language": "python",
   "name": "local-base"
  },
  "language_info": {
   "codemirror_mode": {
    "name": "ipython",
    "version": 3
   },
   "file_extension": ".py",
   "mimetype": "text/x-python",
   "name": "python",
   "nbconvert_exporter": "python",
   "pygments_lexer": "ipython3",
   "version": "3.7.12"
  }
 },
 "nbformat": 4,
 "nbformat_minor": 5
}
